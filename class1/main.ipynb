{
 "cells": [
  {
   "cell_type": "markdown",
   "metadata": {},
   "source": [
    "# First Interaction"
   ]
  },
  {
   "cell_type": "code",
   "execution_count": null,
   "metadata": {},
   "outputs": [],
   "source": [
    "from openai import OpenAI\n",
    "from dotenv import load_dotenv\n",
    "\n",
    "load_dotenv()\n",
    "\n",
    "client = OpenAI()\n",
    "\n",
    "response = client.chat.completions.create(\n",
    "  model=\"gpt-4o\",\n",
    "  messages=[\n",
    "    {\n",
    "      \"role\": \"user\",\n",
    "      \"content\": [\n",
    "        {\n",
    "          \"type\": \"who are you?\",\n",
    "          \"text\": \"the color of the sky is\"\n",
    "        }\n",
    "      ]\n",
    "    }\n",
    "  ],\n",
    "  response_format={\n",
    "    \"type\": \"text\"\n",
    "  },\n",
    "  temperature=0,\n",
    "  max_completion_tokens=2048,\n",
    "  top_p=0.11,\n",
    "  frequency_penalty=0,\n",
    "  presence_penalty=0\n",
    ")\n"
   ]
  },
  {
   "cell_type": "code",
   "execution_count": null,
   "metadata": {},
   "outputs": [],
   "source": [
    "response.choices[0].message.content"
   ]
  },
  {
   "cell_type": "markdown",
   "metadata": {},
   "source": [
    "# Embeddings"
   ]
  },
  {
   "cell_type": "code",
   "execution_count": 22,
   "metadata": {},
   "outputs": [],
   "source": [
    "import os\n",
    "import openai\n",
    "import numpy as np\n",
    "from dotenv import load_dotenv\n",
    "from sklearn.metrics.pairwise import cosine_similarity\n",
    "\n",
    "load_dotenv()\n",
    "\n",
    "emb = openai.embeddings.create(\n",
    "    input=\"cat\",\n",
    "    model=\"text-embedding-ada-002\"\n",
    ")"
   ]
  },
  {
   "cell_type": "code",
   "execution_count": null,
   "metadata": {},
   "outputs": [],
   "source": [
    "emb"
   ]
  },
  {
   "cell_type": "code",
   "execution_count": null,
   "metadata": {},
   "outputs": [],
   "source": [
    "\n",
    "def get_embedding(text, model='text-embedding-ada-002'):\n",
    "\n",
    "    try:\n",
    "        response = openai.embeddings.create(\n",
    "            input=text,\n",
    "            model=model\n",
    "        )\n",
    "        embedding = response.data[0].embedding\n",
    "        return embedding\n",
    "    except Exception as e:\n",
    "        print(f\"Error obtaining embedding: {e}\")\n",
    "        return None\n",
    "\n",
    "def calculate_cosine_similarity(embedding1, embedding2):\n",
    "\n",
    "    if isinstance(embedding1, list):\n",
    "        embedding1 = np.array(embedding1)\n",
    "    if isinstance(embedding2, list):\n",
    "        embedding2 = np.array(embedding2)\n",
    "    \n",
    "    embedding1 = embedding1.reshape(1, -1)\n",
    "    embedding2 = embedding2.reshape(1, -1)\n",
    "    \n",
    "    similarity = cosine_similarity(embedding1, embedding2)[0][0]\n",
    "    return similarity\n",
    "\n",
    "def main():\n",
    "\n",
    "    text1 = \"I enjoy programming in Python.\"\n",
    "    text2 = \"I love writing code using Python.\"\n",
    "    text3 = \"The weather today is sunny and pleasant.\"\n",
    "\n",
    "    embedding1 = get_embedding(text1)\n",
    "    embedding2 = get_embedding(text2)\n",
    "    embedding3 = get_embedding(text3)\n",
    "\n",
    "    if not all([embedding1, embedding2, embedding3]):\n",
    "        print(\"Failed to obtain all necessary embeddings.\")\n",
    "        return\n",
    "\n",
    "    similarity_1_2 = calculate_cosine_similarity(embedding1, embedding2)\n",
    "    similarity_1_3 = calculate_cosine_similarity(embedding1, embedding3)\n",
    "\n",
    "    print(f\"Similarity between Text 1 and Text 2: {similarity_1_2:.4f}\")\n",
    "    print(f\"Similarity between Text 1 and Text 3: {similarity_1_3:.4f}\")\n",
    "\n",
    "\n",
    "main()"
   ]
  },
  {
   "cell_type": "code",
   "execution_count": null,
   "metadata": {},
   "outputs": [],
   "source": []
  }
 ],
 "metadata": {
  "kernelspec": {
   "display_name": ".venv",
   "language": "python",
   "name": "python3"
  },
  "language_info": {
   "codemirror_mode": {
    "name": "ipython",
    "version": 3
   },
   "file_extension": ".py",
   "mimetype": "text/x-python",
   "name": "python",
   "nbconvert_exporter": "python",
   "pygments_lexer": "ipython3",
   "version": "3.10.12"
  }
 },
 "nbformat": 4,
 "nbformat_minor": 2
}
