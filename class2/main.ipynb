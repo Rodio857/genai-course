{
 "cells": [
  {
   "cell_type": "code",
   "execution_count": 2,
   "metadata": {},
   "outputs": [],
   "source": [
    "response = {'query': 'who is leo messi?', 'follow_up_questions': None, 'answer': None, 'images': [], 'results': [{'title': 'Career of Lionel Messi - Wikipedia', 'url': 'https://en.wikipedia.org/wiki/Career_of_Lionel_Messi', 'content': \"Lionel Messi is an Argentine professional footballer who plays as a forward for and captains both Major League Soccer club Inter Miami and the Argentina national team.His individual achievements include eight Ballon d'Or awards, the most for any footballer. Having won 45 team trophies, [note 1] he is the most decorated player in the history of professional football. [11]\", 'score': 0.81025416, 'raw_content': None}, {'title': 'Lionel Messi: The evolution of the greatest footballer of all time', 'url': 'https://www.nytimes.com/athletic/4679809/2023/07/19/lionel-messi-evolution-barcelona-argentina/', 'content': \"Lionel Messi profile: The life and times of Inter Miami's World Cup winner; The Dribbling Winger. Next time you've got a minute to reconsider whether you've ever truly been good at anything,\", 'score': 0.5300668, 'raw_content': None}, {'title': 'Lionel Messi: The life and times of the Barcelona, Paris Saint-Germain ...', 'url': 'https://www.nytimes.com/athletic/4783674/2023/08/18/lionel-messi-profile-soccer/', 'content': 'For Messi, it is major trophy number 44.. Despite turning 36 in June, he is as influential as ever. Here is the complete story of Lionel Andres Messi, widely regarded as one of the greatest', 'score': 0.49245724, 'raw_content': None}, {'title': 'Lionel Messi - Player profile 2025 - Transfermarkt', 'url': 'https://www.transfermarkt.com/lionel-messi/profil/spieler/28003', 'content': 'Lionel Messi - Player profile 2024 | Transfermarkt Most valuable players in the world Player Agents Discover Transfers & Rumours Market Values Competitions Statistics Community Gaming Player Agents Most valuable players in the world 10 Lionel Messi Player data Name in home country: Lionel Andrés Messi Cuccitini Date of birth/Age: Jun 24, 1987 (37) Place of birth: Rosario\\xa0\\xa0\\xa0\\xa0 Height: 1,70\\xa0m Citizenship: \\xa0\\xa0\\xa0\\xa0Argentina Spain Position: Attack - Right Winger Foot: left Player agent: Relatives Current club:  Inter Miami CF Joined: Jul 15, 2023 Contract expires: Dec 31, 2025 Outfitter: adidas Stats of Lionel Messi 2024 Go to national player profile Which player do you prefer... Most valuable players in the world Latest transfers Latest rumours Latest market value updates FIFA World Ranking', 'score': 0.47767657, 'raw_content': None}, {'title': '50 Facts About Lionel Messi', 'url': 'https://facts.net/lifestyle/sports/50-facts-about-lionel-messi/', 'content': \"50 Facts About Lionel Messi - Facts.net Everything Else Facts Everything Else Facts 50 Facts About Lionel Messi Early Success: Within three years of his debut, Messi established himself as an integral player for FC Barcelona, helping the team achieve numerous titles and setting records that would be hard to break. La Liga Titles: Messi has won ten La Liga titles with FC Barcelona, making him one of the most successful players in the league's history. Club Goals: Messi has scored over 850 senior career goals for club and country, making him one of the highest-scoring players in football history. FIFA Club World Cup Wins: Messi has won one FIFA Club World Cup title with FC Barcelona, demonstrating his team's global success. 33 Best Facts Of Messi More Facts\", 'score': 0.477238, 'raw_content': None}], 'response_time': 1.5}"
   ]
  },
  {
   "cell_type": "code",
   "execution_count": 15,
   "metadata": {},
   "outputs": [],
   "source": [
    "resumen = \"\"\n",
    "\n",
    "for result in response[\"results\"]:\n",
    "    resumen = resumen + result[\"content\"] + \"\\n\""
   ]
  },
  {
   "cell_type": "code",
   "execution_count": 17,
   "metadata": {},
   "outputs": [
    {
     "name": "stdout",
     "output_type": "stream",
     "text": [
      "Lionel Messi is an Argentine professional footballer who plays as a forward for and captains both Major League Soccer club Inter Miami and the Argentina national team.His individual achievements include eight Ballon d'Or awards, the most for any footballer. Having won 45 team trophies, [note 1] he is the most decorated player in the history of professional football. [11]\n",
      "Lionel Messi profile: The life and times of Inter Miami's World Cup winner; The Dribbling Winger. Next time you've got a minute to reconsider whether you've ever truly been good at anything,\n",
      "For Messi, it is major trophy number 44.. Despite turning 36 in June, he is as influential as ever. Here is the complete story of Lionel Andres Messi, widely regarded as one of the greatest\n",
      "Lionel Messi - Player profile 2024 | Transfermarkt Most valuable players in the world Player Agents Discover Transfers & Rumours Market Values Competitions Statistics Community Gaming Player Agents Most valuable players in the world 10 Lionel Messi Player data Name in home country: Lionel Andrés Messi Cuccitini Date of birth/Age: Jun 24, 1987 (37) Place of birth: Rosario     Height: 1,70 m Citizenship:     Argentina Spain Position: Attack - Right Winger Foot: left Player agent: Relatives Current club:  Inter Miami CF Joined: Jul 15, 2023 Contract expires: Dec 31, 2025 Outfitter: adidas Stats of Lionel Messi 2024 Go to national player profile Which player do you prefer... Most valuable players in the world Latest transfers Latest rumours Latest market value updates FIFA World Ranking\n",
      "50 Facts About Lionel Messi - Facts.net Everything Else Facts Everything Else Facts 50 Facts About Lionel Messi Early Success: Within three years of his debut, Messi established himself as an integral player for FC Barcelona, helping the team achieve numerous titles and setting records that would be hard to break. La Liga Titles: Messi has won ten La Liga titles with FC Barcelona, making him one of the most successful players in the league's history. Club Goals: Messi has scored over 850 senior career goals for club and country, making him one of the highest-scoring players in football history. FIFA Club World Cup Wins: Messi has won one FIFA Club World Cup title with FC Barcelona, demonstrating his team's global success. 33 Best Facts Of Messi More Facts\n",
      "\n"
     ]
    }
   ],
   "source": [
    "print(resumen)"
   ]
  },
  {
   "cell_type": "code",
   "execution_count": null,
   "metadata": {},
   "outputs": [],
   "source": []
  }
 ],
 "metadata": {
  "kernelspec": {
   "display_name": "Python 3",
   "language": "python",
   "name": "python3"
  },
  "language_info": {
   "codemirror_mode": {
    "name": "ipython",
    "version": 3
   },
   "file_extension": ".py",
   "mimetype": "text/x-python",
   "name": "python",
   "nbconvert_exporter": "python",
   "pygments_lexer": "ipython3",
   "version": "3.10.12"
  }
 },
 "nbformat": 4,
 "nbformat_minor": 2
}
