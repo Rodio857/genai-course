{
 "cells": [
  {
   "cell_type": "markdown",
   "metadata": {},
   "source": [
    "# Process Images"
   ]
  },
  {
   "cell_type": "code",
   "execution_count": 1,
   "metadata": {},
   "outputs": [
    {
     "data": {
      "text/plain": [
       "True"
      ]
     },
     "execution_count": 1,
     "metadata": {},
     "output_type": "execute_result"
    }
   ],
   "source": [
    "from dotenv import load_dotenv\n",
    "\n",
    "load_dotenv()"
   ]
  },
  {
   "cell_type": "code",
   "execution_count": 3,
   "metadata": {},
   "outputs": [
    {
     "name": "stdout",
     "output_type": "stream",
     "text": [
      "Choice(finish_reason='stop', index=0, logprobs=None, message=ChatCompletionMessage(content='Dog', refusal=None, role='assistant', audio=None, function_call=None, tool_calls=None))\n"
     ]
    }
   ],
   "source": [
    "import base64\n",
    "from openai import OpenAI\n",
    "\n",
    "client = OpenAI()\n",
    "\n",
    "def encode_image(image_path):\n",
    "    with open(image_path, \"rb\") as image_file:\n",
    "        return base64.b64encode(image_file.read()).decode(\"utf-8\")\n",
    "\n",
    "\n",
    "image_path = \"data/dog.jpg\"\n",
    "\n",
    "base64_image = encode_image(image_path)\n",
    "\n",
    "response = client.chat.completions.create(\n",
    "    model=\"gpt-4o-mini\",\n",
    "    messages=[\n",
    "        {\n",
    "            \"role\": \"user\",\n",
    "            \"content\": [\n",
    "                {\n",
    "                    \"type\": \"text\",\n",
    "                    \"text\": \"Classify the image, it is a cat or a dog, only return the category as output.\",\n",
    "                },\n",
    "                {\n",
    "                    \"type\": \"image_url\",\n",
    "                    \"image_url\": {\"url\": f\"data:image/jpeg;base64,{base64_image}\"},\n",
    "                },\n",
    "            ],\n",
    "        }\n",
    "    ],\n",
    ")\n",
    "\n",
    "print(response.choices[0])"
   ]
  },
  {
   "cell_type": "code",
   "execution_count": 4,
   "metadata": {},
   "outputs": [
    {
     "name": "stdout",
     "output_type": "stream",
     "text": [
      "Choice(finish_reason='stop', index=0, logprobs=None, message=ChatCompletionMessage(content='The image shows a scenic landscape featuring a wooden boardwalk or pathway that extends through a lush green field. The field is filled with tall grass and surrounded by trees and shrubs. The sky above is blue with some clouds, creating a pleasant, natural atmosphere. This setting suggests a tranquil outdoor environment, likely a wetland or nature reserve.', refusal=None, role='assistant', audio=None, function_call=None, tool_calls=None))\n"
     ]
    }
   ],
   "source": [
    "from openai import OpenAI\n",
    "client = OpenAI()\n",
    "\n",
    "response = client.chat.completions.create(\n",
    "    model=\"gpt-4o-mini\",\n",
    "    messages=[\n",
    "        {\n",
    "            \"role\": \"user\",\n",
    "            \"content\": [\n",
    "                {\"type\": \"text\", \"text\": \"What's in this image?\"},\n",
    "                {\n",
    "                    \"type\": \"image_url\",\n",
    "                    \"image_url\": {\n",
    "                        \"url\": \"https://upload.wikimedia.org/wikipedia/commons/thumb/d/dd/Gfp-wisconsin-madison-the-nature-boardwalk.jpg/2560px-Gfp-wisconsin-madison-the-nature-boardwalk.jpg\",\n",
    "                    },\n",
    "                },\n",
    "            ],\n",
    "        }\n",
    "    ],\n",
    "    max_tokens=300,\n",
    ")\n",
    "\n",
    "print(response.choices[0])"
   ]
  },
  {
   "cell_type": "markdown",
   "metadata": {},
   "source": [
    "# Processing complex images"
   ]
  },
  {
   "cell_type": "code",
   "execution_count": 5,
   "metadata": {},
   "outputs": [
    {
     "name": "stdout",
     "output_type": "stream",
     "text": [
      "Choice(finish_reason='stop', index=0, logprobs=None, message=ChatCompletionMessage(content='The images depict safety procedures typically demonstrated on an airplane, focusing on the use of seat belts and oxygen masks. Here’s a structured summary:\\n\\n### Summary of Images:\\n\\n1. **Seat Belt Instructions:**\\n   - **Image 1:** Shows a seat with an arrow indicating the mechanism to lift the armrest for access.\\n   - **Image 2:** Illustrates how to pull the seat belt from the side.\\n   - **Image 3:** Demonstrates connecting the seat belt buckle with a securing motion.\\n   - **Image 4:** Depicts the final stage of fastening the seat belt, ensuring it is snug.\\n\\n2. **Oxygen Mask Instructions:**\\n   - **Image 5:** Shows an oxygen mask hanging from above, with an arrow indicating to pull it down.\\n   - **Image 6:** Illustrates the action of placing the mask over the nose and mouth.\\n   - **Image 7:** Indicates securing the straps on the head.\\n   - **Image 8:** Demonstrates assisting someone else with the mask, showing a caring action.\\n\\n### Key Points:\\n- **Order of Operations:** The sequence emphasizes proper installation of safety equipment in case of an emergency.\\n- **Clear Visuals:** Each action is accompanied by arrows to indicate movement, making it easy to follow.\\n- **Timing Indicators:** Several images include a timer indicating the importance of quick execution during an emergency.\\n- **User Participation:** Instructions also highlight how to assist others, promoting a collective approach to safety.\\n\\nThis structured approach ensures clarity in emergency situations, allowing passengers to effectively follow safety protocols.', refusal=None, role='assistant', audio=None, function_call=None, tool_calls=None))\n"
     ]
    }
   ],
   "source": [
    "import base64\n",
    "from openai import OpenAI\n",
    "\n",
    "client = OpenAI()\n",
    "\n",
    "def encode_image(image_path):\n",
    "    with open(image_path, \"rb\") as image_file:\n",
    "        return base64.b64encode(image_file.read()).decode(\"utf-8\")\n",
    "\n",
    "\n",
    "image_path = \"data/safety-card.jpg\"\n",
    "\n",
    "base64_image = encode_image(image_path)\n",
    "\n",
    "response = client.chat.completions.create(\n",
    "    model=\"gpt-4o-mini\",\n",
    "    messages=[\n",
    "        {\n",
    "            \"role\": \"user\",\n",
    "            \"content\": [\n",
    "                {\n",
    "                    \"type\": \"text\",\n",
    "                    \"text\": \"Describe the below images. Give a structured summary on what you found.\",\n",
    "                },\n",
    "                {\n",
    "                    \"type\": \"image_url\",\n",
    "                    \"image_url\": {\"url\": f\"data:image/jpeg;base64,{base64_image}\"},\n",
    "                },\n",
    "            ],\n",
    "        }\n",
    "    ],\n",
    ")\n",
    "\n",
    "print(response.choices[0])"
   ]
  },
  {
   "cell_type": "code",
   "execution_count": 7,
   "metadata": {},
   "outputs": [
    {
     "name": "stdout",
     "output_type": "stream",
     "text": [
      "The images depict safety procedures typically demonstrated on an airplane, focusing on the use of seat belts and oxygen masks. Here’s a structured summary:\n",
      "\n",
      "### Summary of Images:\n",
      "\n",
      "1. **Seat Belt Instructions:**\n",
      "   - **Image 1:** Shows a seat with an arrow indicating the mechanism to lift the armrest for access.\n",
      "   - **Image 2:** Illustrates how to pull the seat belt from the side.\n",
      "   - **Image 3:** Demonstrates connecting the seat belt buckle with a securing motion.\n",
      "   - **Image 4:** Depicts the final stage of fastening the seat belt, ensuring it is snug.\n",
      "\n",
      "2. **Oxygen Mask Instructions:**\n",
      "   - **Image 5:** Shows an oxygen mask hanging from above, with an arrow indicating to pull it down.\n",
      "   - **Image 6:** Illustrates the action of placing the mask over the nose and mouth.\n",
      "   - **Image 7:** Indicates securing the straps on the head.\n",
      "   - **Image 8:** Demonstrates assisting someone else with the mask, showing a caring action.\n",
      "\n",
      "### Key Points:\n",
      "- **Order of Operations:** The sequence emphasizes proper installation of safety equipment in case of an emergency.\n",
      "- **Clear Visuals:** Each action is accompanied by arrows to indicate movement, making it easy to follow.\n",
      "- **Timing Indicators:** Several images include a timer indicating the importance of quick execution during an emergency.\n",
      "- **User Participation:** Instructions also highlight how to assist others, promoting a collective approach to safety.\n",
      "\n",
      "This structured approach ensures clarity in emergency situations, allowing passengers to effectively follow safety protocols.\n"
     ]
    }
   ],
   "source": [
    "print(response.choices[0].message.content)"
   ]
  },
  {
   "cell_type": "code",
   "execution_count": null,
   "metadata": {},
   "outputs": [],
   "source": []
  }
 ],
 "metadata": {
  "kernelspec": {
   "display_name": ".venv",
   "language": "python",
   "name": "python3"
  },
  "language_info": {
   "codemirror_mode": {
    "name": "ipython",
    "version": 3
   },
   "file_extension": ".py",
   "mimetype": "text/x-python",
   "name": "python",
   "nbconvert_exporter": "python",
   "pygments_lexer": "ipython3",
   "version": "3.10.12"
  }
 },
 "nbformat": 4,
 "nbformat_minor": 2
}
