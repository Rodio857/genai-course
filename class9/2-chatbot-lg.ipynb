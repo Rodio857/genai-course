{
 "cells": [
  {
   "cell_type": "code",
   "execution_count": 1,
   "metadata": {},
   "outputs": [
    {
     "data": {
      "text/plain": [
       "True"
      ]
     },
     "execution_count": 1,
     "metadata": {},
     "output_type": "execute_result"
    }
   ],
   "source": [
    "from dotenv import load_dotenv\n",
    "\n",
    "load_dotenv()"
   ]
  },
  {
   "cell_type": "code",
   "execution_count": 2,
   "metadata": {},
   "outputs": [],
   "source": [
    "from langchain_openai import ChatOpenAI\n",
    "\n",
    "llm = ChatOpenAI(\n",
    "    model=\"gpt-4o\",\n",
    "    temperature=0,\n",
    ")"
   ]
  },
  {
   "cell_type": "code",
   "execution_count": null,
   "metadata": {},
   "outputs": [],
   "source": [
    "from typing import Annotated\n",
    "\n",
    "from typing_extensions import TypedDict\n",
    "\n",
    "from langgraph.graph import StateGraph\n",
    "from langgraph.graph.message import add_messages\n",
    "\n",
    "\n",
    "class State(TypedDict):\n",
    "    messages: Annotated[list, add_messages]\n",
    "    search_query: str\n",
    "\n",
    "\n",
    "graph_builder = StateGraph(State)"
   ]
  },
  {
   "cell_type": "code",
   "execution_count": null,
   "metadata": {},
   "outputs": [],
   "source": [
    "SYSTEM_PROMPT = \"\"\"\\\n",
    "Based on the conversation, your task is to create a \"search query\" that serves \\\n",
    "as a query that can be used in a vector database to give most relevant information to answer the user's question.\n",
    "\n",
    "Constrains:\n",
    "- Create the search query only taking in account the conversation, avoid to add your knowledge.\n",
    "\"\"\"\n",
    "\n",
    "def rephrasor(state: State):\n",
    "    ai_answer = llm.invoke([(\"system\", SYSTEM_PROMPT)] + state[\"messages\"])\n",
    "    return {\n",
    "        \"search_query\": ai_answer.content\n",
    "    }\n",
    "\n",
    "graph_builder.add_node(\"rephrasor\", rephrasor)\n",
    "graph_builder.set_entry_point(\"rephrasor\")\n",
    "graph_builder.set_finish_point(\"rephrasor\")\n",
    "graph = graph_builder.compile()\n"
   ]
  },
  {
   "cell_type": "code",
   "execution_count": null,
   "metadata": {},
   "outputs": [],
   "source": [
    "graph.invoke({\"messages\": [(\"user\", \"quien es susan fletcher en el libro fortaleza digital?\")]})"
   ]
  },
  {
   "cell_type": "markdown",
   "metadata": {},
   "source": [
    "# Let's add the db"
   ]
  },
  {
   "cell_type": "code",
   "execution_count": null,
   "metadata": {},
   "outputs": [],
   "source": [
    "from typing import Annotated\n",
    "\n",
    "from typing_extensions import TypedDict\n",
    "\n",
    "from langgraph.graph import StateGraph\n",
    "from langgraph.graph.message import add_messages\n",
    "\n",
    "\n",
    "class State(TypedDict):\n",
    "    messages: Annotated[list, add_messages]\n",
    "    search_query: str\n",
    "    context: str\n",
    "\n",
    "\n"
   ]
  },
  {
   "cell_type": "code",
   "execution_count": 3,
   "metadata": {},
   "outputs": [],
   "source": [
    "import os\n",
    "from langchain_qdrant import QdrantVectorStore\n",
    "from qdrant_client import QdrantClient\n",
    "from langchain_openai import OpenAIEmbeddings\n",
    "from langchain_core.runnables import RunnableLambda\n",
    "\n",
    "url = \"https://e7f4684c-fd33-4db0-b1d3-268870ecb84d.europe-west3-0.gcp.cloud.qdrant.io:6333\"\n",
    "api_key = os.getenv(\"QDRANT_API_KEY\")\n",
    "\n",
    "\n",
    "client = QdrantClient(\n",
    "    url=url,\n",
    "    api_key=api_key,\n",
    "    https=True,\n",
    "    timeout=300\n",
    ")\n",
    "\n",
    "vector_store_page = QdrantVectorStore(\n",
    "    client=client,\n",
    "    collection_name=\"db-book-page\",\n",
    "    embedding=OpenAIEmbeddings(model=\"text-embedding-ada-002\"),\n",
    ")"
   ]
  },
  {
   "cell_type": "code",
   "execution_count": null,
   "metadata": {},
   "outputs": [],
   "source": [
    "from langchain_core.documents import Document\n",
    "from langgraph.graph import START, END\n",
    "\n",
    "def combine_documents(documents: list[Document]) -> str:\n",
    "    return \"\\n\\n\".join([document.page_content for document in documents])\n",
    "\n",
    "\n",
    "SYSTEM_PROMPT = \"\"\"\\\n",
    "Based on the conversation, your task is to create a \"search query\" that serves \\\n",
    "as a query that can be used in a vector database to give most relevant information to answer the user's question.\n",
    "\n",
    "Constrains:\n",
    "- Create the search query only taking in account the conversation, avoid to add your knowledge.\n",
    "\"\"\"\n",
    "\n",
    "def rephrasor(state: State):\n",
    "    ai_answer = llm.invoke([(\"system\", SYSTEM_PROMPT)] + state[\"messages\"])\n",
    "    return {\n",
    "        \"search_query\": ai_answer.content\n",
    "    }\n",
    "\n",
    "def search(state: State):\n",
    "\n",
    "    chain = vector_store_page.as_retriever(search_kwargs={\"k\": 5}) | RunnableLambda(combine_documents)\n",
    "    return {\"context\": chain.invoke(state[\"search_query\"])}\n",
    "\n",
    "graph_builder = StateGraph(State)\n",
    "graph_builder.add_node(\"rephrasor\", rephrasor)\n",
    "graph_builder.add_node(\"search\", search)\n",
    "\n",
    "graph_builder.add_edge(START, \"rephrasor\")\n",
    "graph_builder.add_edge(\"rephrasor\", \"search\")\n",
    "graph_builder.add_edge(\"search\", END)\n",
    "graph = graph_builder.compile()\n"
   ]
  },
  {
   "cell_type": "code",
   "execution_count": null,
   "metadata": {},
   "outputs": [],
   "source": [
    "graph"
   ]
  },
  {
   "cell_type": "code",
   "execution_count": null,
   "metadata": {},
   "outputs": [],
   "source": [
    "graph.invoke({\"messages\": [(\"user\", \"quien es susan fletcher en el libro fortaleza digital?\")]})"
   ]
  },
  {
   "cell_type": "markdown",
   "metadata": {},
   "source": [
    "# Let's add the llm"
   ]
  },
  {
   "cell_type": "code",
   "execution_count": 9,
   "metadata": {},
   "outputs": [],
   "source": [
    "from typing import Annotated\n",
    "\n",
    "from typing_extensions import TypedDict\n",
    "\n",
    "from langgraph.graph import StateGraph\n",
    "from langgraph.graph.message import add_messages\n",
    "\n",
    "\n",
    "class State(TypedDict):\n",
    "    messages: Annotated[list, add_messages]\n",
    "    search_query: str\n",
    "    context: str\n",
    "\n",
    "from langchain_core.documents import Document\n",
    "from langgraph.graph import START, END\n",
    "\n",
    "def combine_documents(documents: list[Document]) -> str:\n",
    "    return \"\\n\\n\".join([document.page_content for document in documents])\n",
    "\n",
    "\n",
    "REPHRASOR_SYSTEM_PROMPT = \"\"\"\\\n",
    "Based on the conversation, your task is to create a \"search query\" that serves \\\n",
    "as a query that can be used in a vector database to give most relevant information to answer the user's question.\n",
    "\n",
    "Constrains:\n",
    "- Create the search query only taking in account the conversation, avoid to add your knowledge.\n",
    "\"\"\"\n",
    "\n",
    "def rephrasor(state: State):\n",
    "    ai_answer = llm.invoke([(\"system\", REPHRASOR_SYSTEM_PROMPT)] + state[\"messages\"])\n",
    "    return {\n",
    "        \"search_query\": ai_answer.content\n",
    "    }\n",
    "\n",
    "def search(state: State):\n",
    "\n",
    "    chain = vector_store_page.as_retriever(search_kwargs={\"k\": 5}) | RunnableLambda(combine_documents)\n",
    "    return {\"context\": chain.invoke(state[\"search_query\"])}\n",
    "\n",
    "QA_SYSTEM_PROMPT = \"\"\"\n",
    "<PERSONA>\n",
    "Eres un especialista resolviendo dudas sobre libros de ficción\n",
    "</PERSONA>\n",
    "\n",
    "<TAREA>\n",
    "Tu tarea es responder la pregunta del usuario.\n",
    "</TAREA>\n",
    "\n",
    "<RESTRICCIONES>\n",
    "- Solo responde la pregunta del usuario tomando como contexto lo provisto en <CONTEXTO>.\n",
    "</RESTRICCIONES>\n",
    "\n",
    "<CONTEXTO>\n",
    "{context}\n",
    "</CONTEXTO>\n",
    "\n",
    "\"\"\"\n",
    "\n",
    "def chatbot(state: State):\n",
    "    ai_answer = llm.invoke([(\"system\", QA_SYSTEM_PROMPT.format(context=state[\"context\"]))] + state[\"messages\"])\n",
    "    return {\n",
    "        \"messages\": [ai_answer]\n",
    "    }\n",
    "\n",
    "graph_builder = StateGraph(State)\n",
    "graph_builder.add_node(\"rephrasor\", rephrasor)\n",
    "graph_builder.add_node(\"search\", search)\n",
    "graph_builder.add_node(\"chatbot\", chatbot)\n",
    "\n",
    "graph_builder.add_edge(START, \"rephrasor\")\n",
    "graph_builder.add_edge(\"rephrasor\", \"search\")\n",
    "graph_builder.add_edge(\"search\", \"chatbot\")\n",
    "graph_builder.add_edge(\"chatbot\", END)\n",
    "graph = graph_builder.compile()\n"
   ]
  },
  {
   "cell_type": "code",
   "execution_count": 11,
   "metadata": {},
   "outputs": [
    {
     "data": {
      "image/png": "[encoded data removed]",
      "text/plain": [
       "<langgraph.graph.state.CompiledStateGraph object at 0x14b4774f0>"
      ]
     },
     "execution_count": 11,
     "metadata": {},
     "output_type": "execute_result"
    }
   ],
   "source": [
    "graph"
   ]
  },
  {
   "cell_type": "code",
   "execution_count": 10,
   "metadata": {},
   "outputs": [
    {
     "data": {
      "text/plain": [
       "{'messages': [HumanMessage(content='quien es susan fletcher en el libro fortaleza digital?', additional_kwargs={}, response_metadata={}, id='6278768c-9ce6-4e5a-8270-c92be4fbbcd6'),\n",
       "  AIMessage(content='Susan Fletcher es la criptógrafa estrella de la ultrasecreta Agencia de Seguridad Nacional (NSA) en el libro \"La fortaleza digital\" de Dan Brown. Ella se enfrenta a un desafío cuando interceptan un código que ni siquiera la mayor supercomputadora puede descifrar. A lo largo de la historia, Susan se ve envuelta en un drama dentro de las instalaciones de la NSA mientras intenta resolver el misterio del código y lidiar con situaciones de peligro y traición.', additional_kwargs={'refusal': None}, response_metadata={'token_usage': {'completion_tokens': 99, 'prompt_tokens': 1863, 'total_tokens': 1962, 'completion_tokens_details': {'accepted_prediction_tokens': 0, 'audio_tokens': 0, 'reasoning_tokens': 0, 'rejected_prediction_tokens': 0}, 'prompt_tokens_details': {'audio_tokens': 0, 'cached_tokens': 0}}, 'model_name': 'gpt-4o-2024-08-06', 'system_fingerprint': 'fp_523b9b6e5f', 'finish_reason': 'stop', 'logprobs': None}, id='run-c27619d6-6dc1-44b8-b39b-58a362da031f-0', usage_metadata={'input_tokens': 1863, 'output_tokens': 99, 'total_tokens': 1962, 'input_token_details': {'audio': 0, 'cache_read': 0}, 'output_token_details': {'audio': 0, 'reasoning': 0}})],\n",
       " 'search_query': 'susan fletcher personaje libro fortaleza digital',\n",
       " 'context': 'Dan Brown\\nLa fortaleza digital\\n\\nSusan Fletcher, la criptógrafa estrella de la ultrasecreta Agencia de\\nSeguridad Nacional (NSA) no puede dar crédito a sus oídos cuando su jefe,\\nel subdirector de la Agencia, le informa de que han interceptado un código\\nque ni siquiera la mayor supercomputadora conocida puede descifrar. La\\núnica pista para romper el letal código parece estar oculta en el cadáver de\\nun hombre que ha fallecido en España, donde ha sido enviado David, el\\nprometido de Susan. Mientras éste intenta hallar la clave y sobrevivir a la\\npersecución de un metódico e implacable asesino a sueldo en las calles de\\nSevilla, Susan se enfrentará a su propio drama en las instalaciones de\\nmáxima seguridad de la NSA, durante una larga noche en la que la mentira\\ny el asesinato acechan tras cada puerta.\\n\\nSusan empezó a comprender.\\n—Claro —dijo, asombrada—. Quería que limpiara su nombre.\\n—No. —Strathmore frunció el ceño—. Tankado quería \\nTransltr\\n.\\n—\\n¿Transltr?\\n—Sí. Me ordenó que revelara al mundo la existencia de \\nTransltr\\n. Dijo que si\\nadmitíamos poder leer los correos electrónicos de la gente, destruiría fortaleza\\ndigital.\\nSusan no parecía muy convencida.\\nStrathmore se encogió de hombros.\\n—En cualquier caso, ya es demasiado tarde. Ha colgado una copia gratuita\\nde fortaleza digital en su página de Internet. Todo el mundo puede descargarla.\\nSusan palideció.\\n—\\n¿Cómo?\\n—Es un truco publicitario. No hay nada de qué preocuparse. La copia está\\nencriptada. La gente puede descargarla, pero nadie puede abrirla. Es muy\\ningenioso. El código fuente de fortaleza digital está encriptado, cerrado a cal y\\ncanto.\\nSusan le miró, asombrada.\\n—¡Claro! Para que todo el mundo pueda \\ntener\\n una copia, pero no abrirla.\\n—Exacto. Tankado agita una zanahoria.\\n—¿Ha visto el algoritmo?\\nEl comandante parecía perplejo.\\n—No, ya te he dicho que está encriptado.\\nSusan también parecía confusa.\\n—Pero nosotros tenemos \\nTransltr\\n. ¿Por qué no lo desencriptamos? —Cuando\\nSusan vio la expresión de Strathmore, comprendió que las reglas habían\\ncambiado—. ¡Oh, Dios mío! —Lanzó una exclamación ahogada—. ¿Fortaleza\\ndigital está \\nautoencriptada\\n?\\nStrathmore asintió.\\n—Bingo.\\nSusan estaba estupefacta. La fórmula de fortaleza digital había sido\\nencriptada utilizando fortaleza digital. Tankado había colgado en Internet una\\nreceta matemática de incalculable valor, pero el texto de la misma era un\\ngalimatías gracias a la autoencriptación.\\n—Es como la Caja Fuerte de Biggleman —masculló Susan, admirada.\\nStrathmore asintió. La Caja Fuerte de Biggleman era una hipótesis\\ncriptográfica que consistía en que un constructor de cajas fuertes delineaba los\\nplanos de una caja fuerte inaccesible. Quería conservar en secreto los planos, de\\nmanera que fabricaba la caja fuerte y guardaba dentro los planos. Tankado había\\nhecho lo mismo con fortaleza digital. Había protegido los planos encriptándolos\\n\\n72\\nSusan Fletcher avanzó tambaleante por la planta de Criptografía hacia la\\npasarela que conducía a la oficina de Strathmore. El despacho del comandante\\nera el sitio donde más alejada de Hale podía estar dentro del recinto cerrado.\\nCuando llegó a lo alto de la escalera, descubrió que la puerta del despacho\\nestaba abierta, pues el corte de electricidad había anulado el cierre electrónico.\\nEntró.\\n—¿Comandante? —La única luz del interior era el resplandor de los monitores\\nde Strathmore—. ¡Comandante! —llamó—. ¡Comandante!\\nDe pronto recordó que el comandante estaba en el laboratorio de Sys-Sec.\\nCaminó en círculos por el despacho vacío, aun presa del pánico que le había\\nproducido su encuentro con Hale. Tenía que salir de Criptografía. Con fortaleza\\ndigital o no, había llegado el momento de actuar, de abortar \\nTransltr\\n y escapar.\\nEchó un vistazo a los monitores de Strathmore y después corrió hacia su\\nescritorio. Sus manos volaron sobre el teclado. \\n¡ABORTAR TRANSLTR!\\n La tarea\\nera sencilla, ahora que estaba en una terminal autorizada. Susan desplegó la\\nventana apropiada y tecleó:\\nABORTAR ANÁLISIS\\nSu dedo vaciló un momento sobre la tecla de ENTER.\\n—¡Susan! —rugió una voz desde la puerta. Ella se volvió asustada, temiendo\\nque fuera Hale. Pero se trataba de Strathmore. Se erguía, pálido y desencajado,\\na la luz mortecina. Respiraba con esfuerzo—. ¿Qué demonios está pasando?\\n—¡Comandante! —exclamó Susan—. ¡Hale está en Nodo 3! ¡Acaba de\\natacarme!\\n—¿Cómo? ¡Imposible! Hale está encerrado en…\\n—¡No! ¡Anda suelto! ¡Hemos de llamar a seguridad! ¡Voy a abortar \\nTransltr\\n!\\nSusan extendió la mano hacia el teclado.\\n—¡No toques eso!\\nStrathmore se precipitó hacia la terminal y apartó las manos de Susan.\\nElla retrocedió asustada. Miró al comandante y por segunda vez aquel día no\\nle reconoció. De pronto se sintió sola.\\nEl comandante vio sangre en la blusa de Susan y se arrepintió al instante de su\\nexabrupto.\\n—Dios mío. ¿Te encuentras bien?\\nElla no contestó.\\nStrathmore lamentó haber sido tan brusco con ella de manera innecesaria.\\n\\n54\\nSusan Fletcher recorría impaciente el lavabo de Criptografía. Contó\\nlentamente hasta cincuenta. Le dolía la cabeza. \\nUn poquito más\\n, se dijo. \\n¡Hale es\\nDakota del Norte!\\nSe preguntó cuáles serían los planes del criptógrafo. ¿Haría pública la clave\\nde acceso? ¿Sería codicioso y trataría de vender el algoritmo? Susan ya no podía\\nsoportar la espera. Tenía que ver a Strathmore.\\nEntreabrió sigilosamente la puerta y miró hacia la distante pared reflectante\\nde Criptografía. No podía saber si Hale seguía vigilando. Tenía que llegar cuanto\\nantes al despacho de Strathmore, pero sin aparentar prisas. No podía permitir que\\nHale sospechara algo. Estaba a punto de abrir la puerta, cuando oyó algo. Voces.\\nVoces masculinas.\\nLlegaban de la rejilla del pozo de ventilación. Abrió la puerta y avanzó hacia\\nel conducto. El zumbido sordo de los generadores apagaba las palabras. Daba la\\nimpresión de que la conversación tenía lugar en las pasarelas de los niveles\\ninferiores. Una voz era aguda, irritada. Parecía la de Phil Chartrukian.\\n—¿No me crees?\\nLa discusión subió de tono.\\n—¡Tenemos un virus!\\nDespués gritos.\\n—¡Hemos de llamar a Jabba!\\nRuido de forcejeo.\\n—¡Suéltame!\\nEl ruido que siguió apenas era humano. Un largo aullido de horror, como el\\nde un animal torturado a punto de morir. Susan permaneció inmóvil junto al\\nconducto. El ruido terminó con la misma brusquedad con la que había empezado.\\nA continuación se hizo el silencio.\\nUn instante después, como si fuera el guión de una película de terror barata,\\nlas luces del lavabo se fueron atenuando poco a poco. Luego parpadearon y por\\nfin se apagaron por completo. Una oscuridad absoluta rodeó a Susan Fletcher.'}"
      ]
     },
     "execution_count": 10,
     "metadata": {},
     "output_type": "execute_result"
    }
   ],
   "source": [
    "graph.invoke({\"messages\": [(\"user\", \"quien es susan fletcher en el libro fortaleza digital?\")]})"
   ]
  },
  {
   "cell_type": "code",
   "execution_count": null,
   "metadata": {},
   "outputs": [],
   "source": []
  }
 ],
 "metadata": {
  "kernelspec": {
   "display_name": ".venv",
   "language": "python",
   "name": "python3"
  },
  "language_info": {
   "codemirror_mode": {
    "name": "ipython",
    "version": 3
   },
   "file_extension": ".py",
   "mimetype": "text/x-python",
   "name": "python",
   "nbconvert_exporter": "python",
   "pygments_lexer": "ipython3",
   "version": "3.10.12"
  }
 },
 "nbformat": 4,
 "nbformat_minor": 2
}
