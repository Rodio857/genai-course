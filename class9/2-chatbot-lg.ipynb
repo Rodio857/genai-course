{
 "cells": [
  {
   "cell_type": "code",
   "execution_count": 1,
   "metadata": {},
   "outputs": [
    {
     "data": {
      "text/plain": [
       "True"
      ]
     },
     "execution_count": 1,
     "metadata": {},
     "output_type": "execute_result"
    }
   ],
   "source": [
    "from dotenv import load_dotenv\n",
    "\n",
    "load_dotenv()"
   ]
  },
  {
   "cell_type": "code",
   "execution_count": 2,
   "metadata": {},
   "outputs": [],
   "source": [
    "from langchain_openai import ChatOpenAI\n",
    "\n",
    "llm = ChatOpenAI(\n",
    "    model=\"gpt-4o\",\n",
    "    temperature=0,\n",
    ")"
   ]
  },
  {
   "cell_type": "code",
   "execution_count": 3,
   "metadata": {},
   "outputs": [],
   "source": [
    "from typing import Annotated\n",
    "\n",
    "from typing_extensions import TypedDict\n",
    "\n",
    "from langgraph.graph import StateGraph\n",
    "from langgraph.graph.message import add_messages\n",
    "\n",
    "\n",
    "class State(TypedDict):\n",
    "    messages: Annotated[list, add_messages]\n",
    "    search_query: str\n",
    "\n",
    "\n",
    "graph_builder = StateGraph(State)"
   ]
  },
  {
   "cell_type": "code",
   "execution_count": null,
   "metadata": {},
   "outputs": [],
   "source": [
    "SYSTEM_PROMPT = \"\"\"\\\n",
    "Based on the conversation, your task is to create a \"search query\" that serves \\\n",
    "as a query that can be used in a vector database to give most relevant information to answer the last user's question.\n",
    "\n",
    "Constrains:\n",
    "- Create the search query only taking in account the conversation, avoid to add your knowledge.\n",
    "\"\"\"\n",
    "\n",
    "def generate_search_query(state: State):\n",
    "    ai_answer = llm.invoke([(\"system\", SYSTEM_PROMPT)] + state[\"messages\"])\n",
    "    return {\n",
    "        \"search_query\": ai_answer.content\n",
    "    }\n",
    "\n",
    "graph_builder.add_node(\"generate_search_query\", generate_search_query)\n",
    "graph_builder.set_entry_point(\"generate_search_query\")\n",
    "graph_builder.set_finish_point(\"generate_search_query\")\n",
    "graph = graph_builder.compile()\n"
   ]
  },
  {
   "cell_type": "code",
   "execution_count": 5,
   "metadata": {},
   "outputs": [
    {
     "data": {
      "text/plain": [
       "{'messages': [HumanMessage(content='quien es susan fletcher en el libro fortaleza digital?', additional_kwargs={}, response_metadata={}, id='ef8b95c3-d480-4e74-9bfb-2a4f28ce8790')],\n",
       " 'search_query': 'Susan Fletcher en el libro Fortaleza Digital.'}"
      ]
     },
     "execution_count": 5,
     "metadata": {},
     "output_type": "execute_result"
    }
   ],
   "source": [
    "graph.invoke({\"messages\": [(\"user\", \"quien es susan fletcher en el libro fortaleza digital?\")]})"
   ]
  },
  {
   "cell_type": "markdown",
   "metadata": {},
   "source": [
    "# Let's add the db"
   ]
  },
  {
   "cell_type": "code",
   "execution_count": 6,
   "metadata": {},
   "outputs": [],
   "source": [
    "from typing import Annotated\n",
    "\n",
    "from typing_extensions import TypedDict\n",
    "\n",
    "from langgraph.graph import StateGraph\n",
    "from langgraph.graph.message import add_messages\n",
    "\n",
    "\n",
    "class State(TypedDict):\n",
    "    messages: Annotated[list, add_messages]\n",
    "    search_query: str\n",
    "    context: str\n",
    "\n",
    "\n"
   ]
  },
  {
   "cell_type": "code",
   "execution_count": 7,
   "metadata": {},
   "outputs": [],
   "source": [
    "import os\n",
    "from langchain_qdrant import QdrantVectorStore\n",
    "from qdrant_client import QdrantClient\n",
    "from langchain_openai import OpenAIEmbeddings\n",
    "from langchain_core.runnables import RunnableLambda\n",
    "\n",
    "url = \"https://e7f4684c-fd33-4db0-b1d3-268870ecb84d.europe-west3-0.gcp.cloud.qdrant.io:6333\"\n",
    "api_key = os.getenv(\"QDRANT_API_KEY\")\n",
    "\n",
    "\n",
    "client = QdrantClient(\n",
    "    url=url,\n",
    "    api_key=api_key,\n",
    "    https=True,\n",
    "    timeout=300\n",
    ")\n",
    "\n",
    "vector_store_page = QdrantVectorStore(\n",
    "    client=client,\n",
    "    collection_name=\"db-book-page\",\n",
    "    embedding=OpenAIEmbeddings(model=\"text-embedding-ada-002\"),\n",
    ")"
   ]
  },
  {
   "cell_type": "code",
   "execution_count": 8,
   "metadata": {},
   "outputs": [],
   "source": [
    "from langchain_core.documents import Document\n",
    "from langgraph.graph import START, END\n",
    "\n",
    "def combine_documents(documents: list[Document]) -> str:\n",
    "    return \"\\n\\n\".join([document.page_content for document in documents])\n",
    "\n",
    "\n",
    "SYSTEM_PROMPT = \"\"\"\\\n",
    "Based on the conversation, your task is to create a \"search query\" that serves \\\n",
    "as a query that can be used in a vector database to give most relevant information to answer the last user's question.\n",
    "\n",
    "Constrains:\n",
    "- Create the search query only taking in account the conversation, avoid to add your knowledge.\n",
    "\"\"\"\n",
    "\n",
    "def generate_search_query(state: State):\n",
    "    ai_answer = llm.invoke([(\"system\", SYSTEM_PROMPT)] + state[\"messages\"])\n",
    "    return {\n",
    "        \"search_query\": ai_answer.content\n",
    "    }\n",
    "\n",
    "def search_in_db(state: State):\n",
    "    messages = state[\"messages\"]\n",
    "    search_query = state[\"search_query\"]\n",
    "\n",
    "    documents = vector_store_page.similarity_search(search_query, k=5)\n",
    "    context = combine_documents(documents)\n",
    "    \n",
    "    # chain = vector_store_page.as_retriever(search_kwargs={\"k\": 5}) | RunnableLambda(combine_documents)\n",
    "    # context = chain.invoke(search_query)\n",
    "\n",
    "    return {\"context\": context}\n",
    "\n",
    "graph_builder = StateGraph(State)\n",
    "graph_builder.add_node(\"generate_search_query\", generate_search_query)\n",
    "graph_builder.add_node(\"search_in_db\", search_in_db)\n",
    "\n",
    "graph_builder.set_entry_point(\"generate_search_query\")\n",
    "graph_builder.add_edge(\"generate_search_query\", \"search_in_db\")\n",
    "graph_builder.set_finish_point(\"search_in_db\")\n",
    "\n",
    "graph = graph_builder.compile()\n"
   ]
  },
  {
   "cell_type": "code",
   "execution_count": 9,
   "metadata": {},
   "outputs": [
    {
     "data": {
      "image/png": "[encoded data removed]",
      "text/plain": [
       "<langgraph.graph.state.CompiledStateGraph object at 0x1104920e0>"
      ]
     },
     "execution_count": 9,
     "metadata": {},
     "output_type": "execute_result"
    }
   ],
   "source": [
    "graph"
   ]
  },
  {
   "cell_type": "code",
   "execution_count": 10,
   "metadata": {},
   "outputs": [
    {
     "data": {
      "text/plain": [
       "{'messages': [HumanMessage(content='quien es susan fletcher en el libro fortaleza digital?', additional_kwargs={}, response_metadata={}, id='17862e07-56b5-4e88-94cb-b7fd85b31fdb')],\n",
       " 'search_query': 'Susan Fletcher en el libro Fortaleza Digital.',\n",
       " 'context': 'Dan Brown\\nLa fortaleza digital\\n\\nSusan Fletcher, la criptógrafa estrella de la ultrasecreta Agencia de\\nSeguridad Nacional (NSA) no puede dar crédito a sus oídos cuando su jefe,\\nel subdirector de la Agencia, le informa de que han interceptado un código\\nque ni siquiera la mayor supercomputadora conocida puede descifrar. La\\núnica pista para romper el letal código parece estar oculta en el cadáver de\\nun hombre que ha fallecido en España, donde ha sido enviado David, el\\nprometido de Susan. Mientras éste intenta hallar la clave y sobrevivir a la\\npersecución de un metódico e implacable asesino a sueldo en las calles de\\nSevilla, Susan se enfrentará a su propio drama en las instalaciones de\\nmáxima seguridad de la NSA, durante una larga noche en la que la mentira\\ny el asesinato acechan tras cada puerta.\\n\\nStrathmore se levantó y empezó a recorrer la habitación sin dejar de vigilar\\nla puerta.\\n—Hace unas semanas, cuando me enteré de la subasta de fortaleza digital,\\nacepté por fin el hecho de que Tankado hablaba en serio. Supuse que si vendía el\\nalgoritmo a una empresa de software japonesa estábamos acabados, de modo\\nque me puse a pensar en una forma de impedirlo. Consideré la posibilidad de\\nordenar eliminarle, pero debido a la publicidad que rodeaba al algoritmo y sus\\nrecientes afirmaciones acerca de \\nTransltr\\n, pensé que seríamos los principales\\nsospechosos. Fue entonces cuando lo comprendí. —Se volvió hacia Susan—.\\nComprendí que \\nno\\n debíamos abortar fortaleza digital.\\nElla le miró desorientada.\\nStrathmore prosiguió.\\n—De repente comprendí que fortaleza digital era la oportunidad de nuestra\\nvida. Me di cuenta de que, con unos pocos cambios, \\nnos\\n podía favorecer antes\\nque perjudicar.\\nSusan nunca había oído algo tan absurdo. Fortaleza digital era un algoritmo\\nque no se podía desencriptar. Les destruiría.\\n—Si pudiéramos efectuar algunos cambios en el algoritmo —continuó\\nStrathmore— antes de que sea puesto en circulación…\\nLa miró con un brillo astuto en los ojos.\\nSusan sólo tardó un instante en comprender.\\nStrathmore captó el asombro en sus ojos. Explicó su plan con entusiasmo.\\n—Si pudiera obtener la clave de acceso, conseguiría desbloquear nuestra\\ncopia de fortaleza digital e introducir una modificación.\\n—Una puerta trasera —dijo Susan, olvidando que el comandante le había\\nmentido. Experimentó una oleada de expectación—. Como Skipjack.\\nEl asintió.\\n—Después podríamos sustituir el archivo de Tankado en Internet por nuestra\\nversión alterada. Como fortaleza digital es un algoritmo japonés, nadie\\nsospecharía que la NSA había participado en ello. Nos bastaría con dar el\\ncambiazo.\\nSusan comprendió que el plan era más que ingenioso. Era puro… Strathmore.\\n¡Planeaba facilitar la liberación de un algoritmo que la NSA pudiera\\ndesencriptar!\\n—Acceso total —dijo él—. Fortaleza digital se convertirá de la noche a la\\nmañana en la norma de encriptación.\\n—¿De la noche a la mañana? —preguntó Susan—. ¿Cómo piensa hacerlo?\\nAunque fortaleza digital sea accesible a todo el mundo gratis, la mayoría de\\nusuarios se aferrarán a sus viejos algoritmos, por pura comodidad. ¿Por qué iban\\na cambiar a fortaleza digital?\\nStrathmore sonrió.\\n\\nSusan empezó a comprender.\\n—Claro —dijo, asombrada—. Quería que limpiara su nombre.\\n—No. —Strathmore frunció el ceño—. Tankado quería \\nTransltr\\n.\\n—\\n¿Transltr?\\n—Sí. Me ordenó que revelara al mundo la existencia de \\nTransltr\\n. Dijo que si\\nadmitíamos poder leer los correos electrónicos de la gente, destruiría fortaleza\\ndigital.\\nSusan no parecía muy convencida.\\nStrathmore se encogió de hombros.\\n—En cualquier caso, ya es demasiado tarde. Ha colgado una copia gratuita\\nde fortaleza digital en su página de Internet. Todo el mundo puede descargarla.\\nSusan palideció.\\n—\\n¿Cómo?\\n—Es un truco publicitario. No hay nada de qué preocuparse. La copia está\\nencriptada. La gente puede descargarla, pero nadie puede abrirla. Es muy\\ningenioso. El código fuente de fortaleza digital está encriptado, cerrado a cal y\\ncanto.\\nSusan le miró, asombrada.\\n—¡Claro! Para que todo el mundo pueda \\ntener\\n una copia, pero no abrirla.\\n—Exacto. Tankado agita una zanahoria.\\n—¿Ha visto el algoritmo?\\nEl comandante parecía perplejo.\\n—No, ya te he dicho que está encriptado.\\nSusan también parecía confusa.\\n—Pero nosotros tenemos \\nTransltr\\n. ¿Por qué no lo desencriptamos? —Cuando\\nSusan vio la expresión de Strathmore, comprendió que las reglas habían\\ncambiado—. ¡Oh, Dios mío! —Lanzó una exclamación ahogada—. ¿Fortaleza\\ndigital está \\nautoencriptada\\n?\\nStrathmore asintió.\\n—Bingo.\\nSusan estaba estupefacta. La fórmula de fortaleza digital había sido\\nencriptada utilizando fortaleza digital. Tankado había colgado en Internet una\\nreceta matemática de incalculable valor, pero el texto de la misma era un\\ngalimatías gracias a la autoencriptación.\\n—Es como la Caja Fuerte de Biggleman —masculló Susan, admirada.\\nStrathmore asintió. La Caja Fuerte de Biggleman era una hipótesis\\ncriptográfica que consistía en que un constructor de cajas fuertes delineaba los\\nplanos de una caja fuerte inaccesible. Quería conservar en secreto los planos, de\\nmanera que fabricaba la caja fuerte y guardaba dentro los planos. Tankado había\\nhecho lo mismo con fortaleza digital. Había protegido los planos encriptándolos\\n\\n15\\nSusan Fletcher estaba sentada ante su computador en Nodo 3, la zona de\\ntrabajo insonorizada de los criptógrafos, situada en un costado de la planta\\nprincipal. Una lámina de cristal curvo unidireccional de cinco centímetros de\\ngrosor proporcionaba a los criptógrafos una buena panorámica de todo el\\nDepartamento de Criptografía, al tiempo que impedía que cualquier persona\\npudiera ver el interior.\\nAl fondo de la gran sala de Nodo 3, doce terminales formaban un círculo\\nperfecto. La disposición en forma de anillo tenía como objetivo potenciar el\\nintercambio intelectual entre los criptógrafos, recordarles que formaban parte de\\nun equipo más amplio, algo así como los Caballeros de la Tabla Redonda, pero\\ndedicados a descifrar códigos. La ironía residía en que los secretos eran mal\\nvistos en Nodo 3.\\nNodo 3, apodado «el Corralito», estaba libre de la sensación de atmósfera\\nesterilizada del resto del Departamento de Criptografía. Había sido diseñado para\\nsentirse en casa: alfombras mullidas, sistema de sonido de alta tecnología, una\\nnevera bien pertrechada, una cocina, una cesta de baloncesto. La NSA mantenía\\nuna filosofía con respecto a Criptografía: no inviertas dos mil millones de dólares\\nen un computador para descifrar códigos sin seducir a la crema de la crema para\\nque lo utilicen.\\nSusan se quitó los zapatos planos marca Salvatore Ferragamo y hundió los\\npies enfundados en medias en la gruesa alfombra. Se aconsejaba a los\\nfuncionarios bien pagados del gobierno no hacer ostentación de riqueza personal.\\nEsto no solía representar ningún problema para Susan. Era muy feliz con su\\nmodesto dúplex, su sedán Volvo y su poco pretencioso vestuario, pero los zapatos\\neran otro asunto. Incluso cuando iba a la universidad, escogía los mejores.\\nNo \\npuedes saltar para alcanzar las estrellas si te duelen los pies\\n, le había dicho\\nsu tía una vez. \\n¡Y cuando llegues adonde vayas, más te vale presentar tu mejor\\naspecto!\\nSusan se permitió un sibarítico estirón y puso manos a la obra. Se preparó\\npara configurar su rastreador. Echó un vistazo a la dirección de correo\\nelectrónico que Strathmore le había dado\\nNDAKOTA@ara.anon.org\\nEl hombre que se hacía llamar Dakota del Norte tenía una cuenta anónima,\\npero Susan sabía que en poco tiempo dejaría de serlo. El rastreador sería recibido\\nen ARA, se redirigiría hacia Dakota del Norte y enviaría información que\\ncontendría la verdadera dirección de Internet del hombre.\\nSi todo iba bien, pronto localizaría a Dakota del Norte, y Strathmore'}"
      ]
     },
     "execution_count": 10,
     "metadata": {},
     "output_type": "execute_result"
    }
   ],
   "source": [
    "graph.invoke({\"messages\": [(\"user\", \"quien es susan fletcher en el libro fortaleza digital?\")]})"
   ]
  },
  {
   "cell_type": "markdown",
   "metadata": {},
   "source": [
    "# Let's add the chatbot"
   ]
  },
  {
   "cell_type": "code",
   "execution_count": 27,
   "metadata": {},
   "outputs": [],
   "source": [
    "from typing import Annotated\n",
    "\n",
    "from typing_extensions import TypedDict\n",
    "\n",
    "from langgraph.graph import StateGraph\n",
    "from langgraph.graph.message import add_messages\n",
    "from langchain_core.documents import Document\n",
    "from langgraph.graph import START, END\n",
    "from langgraph.checkpoint.memory import MemorySaver\n",
    "\n",
    "memory = MemorySaver()\n",
    "\n",
    "\n",
    "class State(TypedDict):\n",
    "    messages: Annotated[list, add_messages]\n",
    "    search_query: str\n",
    "    context: str\n",
    "    # answer: str ## no se necesita, se apendara a messages\n",
    "\n",
    "\n",
    "def combine_documents(documents: list[Document]) -> str:\n",
    "    return \"\\n\\n\".join([document.page_content for document in documents])\n",
    "\n",
    "\n",
    "REPHRASOR_SYSTEM_PROMPT = \"\"\"\\\n",
    "Based on the conversation, your task is to create a \"search query\" that serves \\\n",
    "as a query that can be used in a vector database to give most relevant information to answer the user's question.\n",
    "\n",
    "Constrains:\n",
    "- Create the search query only taking in account the conversation, avoid to add your knowledge.\n",
    "\"\"\"\n",
    "\n",
    "def rephrasor(state: State):\n",
    "    ai_answer = llm.invoke([(\"system\", REPHRASOR_SYSTEM_PROMPT)] + state[\"messages\"])\n",
    "    return {\n",
    "        \"search_query\": ai_answer.content\n",
    "    }\n",
    "\n",
    "def search(state: State):\n",
    "\n",
    "    chain = vector_store_page.as_retriever(search_kwargs={\"k\": 5}) | RunnableLambda(combine_documents)\n",
    "    return {\"context\": chain.invoke(state[\"search_query\"])}\n",
    "\n",
    "QA_SYSTEM_PROMPT = \"\"\"\n",
    "<PERSONA>\n",
    "Eres un especialista resolviendo dudas sobre libros de ficción\n",
    "</PERSONA>\n",
    "\n",
    "<TAREA>\n",
    "Tu tarea es responder la pregunta del usuario.\n",
    "</TAREA>\n",
    "\n",
    "<RESTRICCIONES>\n",
    "- Solo responde la pregunta del usuario tomando como contexto lo provisto en <CONTEXTO>.\n",
    "</RESTRICCIONES>\n",
    "\n",
    "<CONTEXTO>\n",
    "{context}\n",
    "</CONTEXTO>\n",
    "\n",
    "\"\"\"\n",
    "\n",
    "from langchain_core.messages import SystemMessage\n",
    "\n",
    "def rag(state: State):\n",
    "    ai_answer = llm.invoke([SystemMessage(content=QA_SYSTEM_PROMPT.format(context=state[\"context\"]))] + state[\"messages\"])\n",
    "    return {\n",
    "        \"messages\": [ai_answer]\n",
    "    }\n",
    "\n",
    "\n",
    "\n",
    "\n",
    "graph_builder = StateGraph(State)\n",
    "graph_builder.add_node(\"rephrasor\", rephrasor)\n",
    "graph_builder.add_node(\"search\", search)\n",
    "\n",
    "graph_builder.add_node(\"rag\", rag)\n",
    "\n",
    "graph_builder.add_edge(START, \"rephrasor\")\n",
    "graph_builder.add_edge(\"rephrasor\", \"search\")\n",
    "\n",
    "graph_builder.add_edge(\"search\", \"rag\")\n",
    "graph_builder.add_edge(\"rag\", END)\n",
    "graph = graph_builder.compile(checkpointer=memory)\n"
   ]
  },
  {
   "cell_type": "code",
   "execution_count": 28,
   "metadata": {},
   "outputs": [
    {
     "data": {
      "image/png": "[encoded data removed]",
      "text/plain": [
       "<langgraph.graph.state.CompiledStateGraph object at 0x1684377f0>"
      ]
     },
     "execution_count": 28,
     "metadata": {},
     "output_type": "execute_result"
    }
   ],
   "source": [
    "graph"
   ]
  },
  {
   "cell_type": "code",
   "execution_count": null,
   "metadata": {},
   "outputs": [
    {
     "data": {
      "text/plain": [
       "{'messages': [HumanMessage(content='quien es susan fletcher en el libro fortaleza digital?', additional_kwargs={}, response_metadata={}, id='9d1addbc-8c91-4a14-948d-18ef50c63283'),\n",
       "  AIMessage(content='Susan Fletcher es la criptógrafa estrella de la ultrasecreta Agencia de Seguridad Nacional (NSA) en el libro \"La fortaleza digital\" de Dan Brown. Ella se enfrenta a un desafío cuando se entera de que han interceptado un código que ni siquiera la mayor supercomputadora puede descifrar. A lo largo de la historia, Susan se ve envuelta en un drama dentro de las instalaciones de la NSA mientras intenta resolver el misterio del código y lidiar con situaciones de peligro y traición.', additional_kwargs={'refusal': None}, response_metadata={'token_usage': {'completion_tokens': 105, 'prompt_tokens': 1863, 'total_tokens': 1968, 'completion_tokens_details': {'accepted_prediction_tokens': 0, 'audio_tokens': 0, 'reasoning_tokens': 0, 'rejected_prediction_tokens': 0}, 'prompt_tokens_details': {'audio_tokens': 0, 'cached_tokens': 1792}}, 'model_name': 'gpt-4o-2024-08-06', 'system_fingerprint': 'fp_eb9dce56a8', 'finish_reason': 'stop', 'logprobs': None}, id='run-ed1c754f-1132-4d86-8d8d-3c5bbacdfaf2-0', usage_metadata={'input_tokens': 1863, 'output_tokens': 105, 'total_tokens': 1968, 'input_token_details': {'audio': 0, 'cache_read': 1792}, 'output_token_details': {'audio': 0, 'reasoning': 0}}),\n",
       "  HumanMessage(content='quien es david becker y que relacion tiene con susan?', additional_kwargs={}, response_metadata={}, id='770a9eff-2320-46db-8bcc-a99d995cb414'),\n",
       "  AIMessage(content='David Becker es el prometido de Susan Fletcher en el libro \"La fortaleza digital\". Es un brillante especialista en idiomas extranjeros y profesor en la Universidad de Georgetown. A lo largo de la historia, David es enviado a España para encontrar una clave oculta en el cadáver de un hombre, lo que lo lleva a enfrentarse a peligros y persecuciones. Su relación con Susan es cercana y amorosa, siendo él el único hombre al que Susan ha amado.', additional_kwargs={'refusal': None}, response_metadata={'token_usage': {'completion_tokens': 93, 'prompt_tokens': 2409, 'total_tokens': 2502, 'completion_tokens_details': {'accepted_prediction_tokens': 0, 'audio_tokens': 0, 'reasoning_tokens': 0, 'rejected_prediction_tokens': 0}, 'prompt_tokens_details': {'audio_tokens': 0, 'cached_tokens': 0}}, 'model_name': 'gpt-4o-2024-08-06', 'system_fingerprint': 'fp_eb9dce56a8', 'finish_reason': 'stop', 'logprobs': None}, id='run-f04f38dd-26cc-4fe1-9000-fee5abd20833-0', usage_metadata={'input_tokens': 2409, 'output_tokens': 93, 'total_tokens': 2502, 'input_token_details': {'audio': 0, 'cache_read': 0}, 'output_token_details': {'audio': 0, 'reasoning': 0}}),\n",
       "  HumanMessage(content='quien es david becker y que relacion tiene con susan?', additional_kwargs={}, response_metadata={}, id='dd50b042-e542-463f-ac06-6e4651b6bdac'),\n",
       "  AIMessage(content='David Becker es el prometido de Susan Fletcher en \"La fortaleza digital\". Es un joven profesor y especialista en idiomas extranjeros. A lo largo de la historia, su relación con Susan es cercana y amorosa, y él es enviado a España para encontrar una clave crucial relacionada con un código indescifrable, enfrentándose a peligros en el proceso.', additional_kwargs={'refusal': None}, response_metadata={'token_usage': {'completion_tokens': 72, 'prompt_tokens': 1666, 'total_tokens': 1738, 'completion_tokens_details': {'accepted_prediction_tokens': 0, 'audio_tokens': 0, 'reasoning_tokens': 0, 'rejected_prediction_tokens': 0}, 'prompt_tokens_details': {'audio_tokens': 0, 'cached_tokens': 0}}, 'model_name': 'gpt-4o-2024-08-06', 'system_fingerprint': 'fp_eb9dce56a8', 'finish_reason': 'stop', 'logprobs': None}, id='run-d0e49b11-9dd6-4a47-88f6-1013a5ed4a1a-0', usage_metadata={'input_tokens': 1666, 'output_tokens': 72, 'total_tokens': 1738, 'input_token_details': {'audio': 0, 'cache_read': 0}, 'output_token_details': {'audio': 0, 'reasoning': 0}})],\n",
       " 'search_query': 'David Becker es el prometido de Susan Fletcher en el libro \"Fortaleza Digital\".',\n",
       " 'context': 'Dan Brown\\nLa fortaleza digital\\n\\nLos sueños que había atesorado para fortaleza digital habían fracasado. Podía\\naceptar eso. Lo único que importaba ahora era Susan. Por primera vez en\\ndécadas comprendía que había más cosas en la vida que la patria y el honor. \\nHe\\nsacrificado los mejores años de mi vida por la patria y el honor. Pero ¿y el amor?\\nSe lo había negado durante demasiado tiempo. \\n¿Y a cambio de qué?\\n ¿De ver a un\\njoven profesor robarle sus sueños? Strathmore había formado a Susan. La había\\nprotegido. Se la había ganado. Y ahora, al fin, sería suya. Susan buscaría refugio\\nentre sus brazos. Acudiría a él indefensa, herida por la pérdida, y con el tiempo él\\nle enseñaría que el amor lo cura todo.\\nHonor. Patria. Amor\\n. David Becker estaba a punto de morir por esas tres\\ncausas.\\n\\n—¿Jefa?\\nBecker lanzó una carcajada. Aún no había visto a ninguna mujer en la NSA.\\n—¿Representa eso algún problema para usted? —preguntó una voz femenina\\ntras él.\\nBecker se volvió y enrojeció de inmediato. Echó un vistazo a la tarjeta de\\nidentificación prendida en la blusa de la mujer. La jefa de la División de\\nCriptografía de la NSA no sólo era una mujer, sino que además era una mujer\\nmuy atractiva.\\n—No —masculló Becker—. Es que…\\n—Susan Fletcher.\\nLa mujer sonrió y extendió su fina mano.\\nBecker la estrechó.\\n—David Becker.\\n—Le felicito, señor Becker. Me han dicho que ha hecho un trabajo excelente.\\n¿Podríamos hablar al respecto?\\nBecker vaciló.\\n—La verdad es que tengo un poco de prisa.\\nConfiaba en que desdeñar a la agencia de inteligencia más poderosa del\\nmundo no sería una estupidez, pero su partido de squash empezaba dentro de tres\\ncuartos de hora, y tenía que cuidar su reputación: David Becker nunca llegaba\\ntarde al squash. A clase tal vez, pero al squash nunca.\\n—Seré breve —sonrió Susan Fletcher—. Sígame, por favor.\\nDiez minutos después, Becker estaba en la cantina de la NSA disfrutando de\\nun \\nmuffin\\n y zumo de arándanos en compañía de la encantadora jefa de\\nCriptografía. Pronto fue evidente para David que el cargo elevado de la mujer de\\ntreinta y ocho años no era fruto de la casualidad. Era una de las mujeres más\\ninteligentes que había conocido.\\nMientras hablaban de códigos y de desciframiento de los mismos, Becker se\\ndescubrió pugnando por no quedarse atrás, una experiencia nueva y emocionante\\npara él.\\nUna hora más tarde, después de que Becker se hubiera perdido el partido de\\nsquash, y Susan hubiera hecho caso omiso de las tres llamadas que recibió por el\\nintercomunicador, los dos no tuvieron más remedio que reír. Eran dos mentes\\nanalíticas, inmunes en teoría a encaprichamientos irracionales, pero de alguna\\nmanera, mientras hablaban de morfología lingüística y generadores de cifras\\nseudofortuitos, se sentían como un pareja de adolescentes enamorados.\\nSusan no llegó a revelar el verdadero motivo de que hubiera querido hablar\\ncon David Becker: ofrecerle un puesto a prueba en la División de Criptografía\\nAsiática. Estaba claro, a juzgar por la pasión con que hablaba de la enseñanza el\\njoven profesor, que nunca dejaría la universidad. Susan decidió no estropear la\\natmósfera cordial hablando de trabajo. Se sentía de nuevo como una colegiala.\\n\\nde control en la que reinaba el caos. Susan estaba en ella. Tenía la vista clavada\\nen él.\\nEstaba llorando y riendo al mismo tiempo.\\n—David. ¡Gracias a Dios! ¡Pensaba que te había perdido!\\nEl se masajeó la sien. Acercó el micrófono hacia su boca.\\n—¿Susan?\\nElla le miraba con arrobo. Las facciones marcadas de David llenaban toda la\\npantalla. Su voz resonó.\\n—Susan, he de preguntarte algo.\\nPor un momento la resonancia y volumen de la voz de Becker pareció\\nparalizar a todos los presentes en el banco de datos.\\n—Susan Fletcher —tronó la voz—, ¿quieres casarte conmigo?\\nUn murmullo apagado recorrió la sala. Una tablilla cayó al suelo,\\nacompañada de un bote portalápices. Nadie se agachó a recogerlos. Sólo se oía el\\nleve zumbido de los ventiladores de la sala y la respiración de David Becker en el\\nmicrófono.\\n—David —masculló Susan, sin darse cuenta de que treinta y siete personas la\\nestaban mirando—, ya me lo pediste, ¿te acuerdas? Hace cinco meses. Te dije\\nque sí.\\n—Lo sé —sonrió Becker—. Pero esta vez… —Extendió la mano izquierda\\nhacia la cámara y exhibió el anillo de oro de su dedo anular—, esta vez tengo un\\nanillo.\\n\\nSusan Fletcher, la criptógrafa estrella de la ultrasecreta Agencia de\\nSeguridad Nacional (NSA) no puede dar crédito a sus oídos cuando su jefe,\\nel subdirector de la Agencia, le informa de que han interceptado un código\\nque ni siquiera la mayor supercomputadora conocida puede descifrar. La\\núnica pista para romper el letal código parece estar oculta en el cadáver de\\nun hombre que ha fallecido en España, donde ha sido enviado David, el\\nprometido de Susan. Mientras éste intenta hallar la clave y sobrevivir a la\\npersecución de un metódico e implacable asesino a sueldo en las calles de\\nSevilla, Susan se enfrentará a su propio drama en las instalaciones de\\nmáxima seguridad de la NSA, durante una larga noche en la que la mentira\\ny el asesinato acechan tras cada puerta.'}"
      ]
     },
     "execution_count": 32,
     "metadata": {},
     "output_type": "execute_result"
    }
   ],
   "source": [
    "graph.ainvoke({\"messages\": [(\"user\", \"quien es david becker y que relacion tiene con susan?\")]}, config={\"configurable\": {\"thread_id\": 2}})"
   ]
  },
  {
   "cell_type": "code",
   "execution_count": null,
   "metadata": {},
   "outputs": [],
   "source": [
    "# tools\n",
    "# ReAct: Reason, Action and Observe"
   ]
  }
 ],
 "metadata": {
  "kernelspec": {
   "display_name": ".venv",
   "language": "python",
   "name": "python3"
  },
  "language_info": {
   "codemirror_mode": {
    "name": "ipython",
    "version": 3
   },
   "file_extension": ".py",
   "mimetype": "text/x-python",
   "name": "python",
   "nbconvert_exporter": "python",
   "pygments_lexer": "ipython3",
   "version": "3.10.12"
  }
 },
 "nbformat": 4,
 "nbformat_minor": 2
}
