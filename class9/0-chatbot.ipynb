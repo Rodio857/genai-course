{
 "cells": [
  {
   "cell_type": "markdown",
   "metadata": {},
   "source": [
    "# Load LLM"
   ]
  },
  {
   "cell_type": "code",
   "execution_count": 1,
   "metadata": {},
   "outputs": [
    {
     "data": {
      "text/plain": [
       "True"
      ]
     },
     "execution_count": 1,
     "metadata": {},
     "output_type": "execute_result"
    }
   ],
   "source": [
    "from dotenv import load_dotenv\n",
    "\n",
    "load_dotenv()"
   ]
  },
  {
   "cell_type": "code",
   "execution_count": 2,
   "metadata": {},
   "outputs": [],
   "source": [
    "from langchain_openai import ChatOpenAI\n",
    "\n",
    "llm = ChatOpenAI(\n",
    "    model=\"gpt-4o\",\n",
    "    temperature=0,\n",
    ")"
   ]
  },
  {
   "cell_type": "markdown",
   "metadata": {},
   "source": [
    "# Chatbot that uses pages and summaries"
   ]
  },
  {
   "cell_type": "code",
   "execution_count": null,
   "metadata": {},
   "outputs": [],
   "source": [
    "from operator import itemgetter\n",
    "from langchain_core.runnables import RunnableLambda, RunnablePassthrough\n",
    "from langchain_core.messages import SystemMessage\n",
    "from langchain_core.prompts import ChatPromptTemplate\n",
    "import os\n",
    "from langchain_qdrant import QdrantVectorStore\n",
    "from qdrant_client import QdrantClient\n",
    "from langchain_openai import OpenAIEmbeddings\n",
    "from langchain_core.documents import Document\n",
    "from langchain_core.output_parsers import StrOutputParser\n",
    "\n",
    "def combine_documents(documents: list[Document]) -> str:\n",
    "    return \"\\n\\n\".join([document.page_content for document in documents])\n",
    "\n",
    "\n",
    "REPHRASE_SYSTEM_PROMPT = \"\"\"\n",
    "<PERSONA>\n",
    "Eres un especialista resolviendo dudas sobre libros de ficción\n",
    "</PERSONA>\n",
    "\n",
    "<TASK>\n",
    "Tu tarea es refrasear la solicitud del usuario para genera una solicitud refraseada.\n",
    "\n",
    "- Puedes corregir los errores gramaticales\n",
    "- Puedes mejorar la semántica y orden léxico de la palabras para un mejor entendimiento\n",
    "</TASK>\n",
    "\"\"\"\n",
    "\n",
    "REPHRASE_USER_PROMPT = \"\"\"{user_request}\"\"\"\n",
    "\n",
    "rephrase_prompt = ChatPromptTemplate([\n",
    "    SystemMessage(content=REPHRASE_SYSTEM_PROMPT),\n",
    "    (\"user\", REPHRASE_USER_PROMPT)\n",
    "])\n",
    "\n",
    "\n",
    "QA_SYSTEM_PROMPT = \"\"\"\n",
    "<PERSONA>\n",
    "Eres un especialista resolviendo dudas sobre libros de ficción\n",
    "</PERSONA>\n",
    "\n",
    "<TAREA>\n",
    "Tu tarea es responder la pregunta del usuario.\n",
    "</TAREA>\n",
    "\n",
    "<RESTRICCIONES>\n",
    "- Solo responde la pregunta del usuario tomando como contexto lo provisto en <CONTEXTO>.\n",
    "</RESTRICCIONES>\n",
    "\n",
    "<CONTEXTO 1>\n",
    "{context_1}\n",
    "</CONTEXTO 1>\n",
    "\n",
    "<CONTEXTO 2>\n",
    "{context_2}\n",
    "</CONTEXTO 2>\n",
    "\"\"\"\n",
    "\n",
    "QA_USER_PROMPT = \"\"\"\n",
    "user question: {user_request}\n",
    "rephrased user question: {rephrased_request}\n",
    "\"\"\"\n",
    "\n",
    "qa_prompt = ChatPromptTemplate([\n",
    "    (\"ai\", QA_SYSTEM_PROMPT),\n",
    "    (\"user\", QA_USER_PROMPT)\n",
    "])\n",
    "\n",
    "url = \"https://e7f4684c-fd33-4db0-b1d3-268870ecb84d.europe-west3-0.gcp.cloud.qdrant.io:6333\"\n",
    "api_key = os.getenv(\"QDRANT_API_KEY\")\n",
    "\n",
    "client = QdrantClient(\n",
    "    url=url,\n",
    "    api_key=api_key,\n",
    "    https=True,\n",
    "    timeout=300\n",
    ")\n",
    "\n",
    "vector_store_page = QdrantVectorStore(\n",
    "    client=client,\n",
    "    collection_name=\"db-book-page\",\n",
    "    embedding=OpenAIEmbeddings(model=\"text-embedding-ada-002\"),\n",
    ")\n",
    "\n",
    "vector_store_summarized = QdrantVectorStore(\n",
    "    client=client,\n",
    "    collection_name=\"db-book-summarized\",\n",
    "    embedding=OpenAIEmbeddings(model=\"text-embedding-ada-002\"),\n",
    ")\n",
    "\n",
    "def debug(x):\n",
    "    print(x)\n",
    "    return x\n",
    "\n",
    "simple_chatbot = (\n",
    "    {\n",
    "        \"user_request\": itemgetter(\"user_request\"),\n",
    "        \"rephrased_request\": rephrase_prompt | llm | StrOutputParser()\n",
    "    }\n",
    "    | RunnableLambda(debug)\n",
    "    | RunnablePassthrough() \n",
    "    | {\n",
    "        \"user_request\": itemgetter(\"user_request\"),\n",
    "        \"rephrased_request\": itemgetter(\"rephrased_request\"),\n",
    "        \"context_1\": itemgetter(\"rephrased_request\") | vector_store_page.as_retriever(search_kwargs={\"k\": 5}) | RunnableLambda(combine_documents),\n",
    "        \"context_2\": itemgetter(\"rephrased_request\") | vector_store_summarized.as_retriever(search_kwargs={\"k\": 5}) | RunnableLambda(combine_documents)\n",
    "    }\n",
    "    | qa_prompt \n",
    "    | llm\n",
    "    | RunnableLambda(lambda x: x.content)\n",
    ")"
   ]
  },
  {
   "cell_type": "markdown",
   "metadata": {},
   "source": [
    "# Chatbot that uses pages, summaries and neighbors"
   ]
  },
  {
   "cell_type": "code",
   "execution_count": 24,
   "metadata": {},
   "outputs": [],
   "source": [
    "from langchain_community.document_loaders import PyPDFLoader\n",
    "\n",
    "loader = PyPDFLoader(\"data/fortaleza-digital.pdf\")\n",
    "pages = loader.load()\n",
    "\n",
    "filtered_documents = [page for page in pages if len(page.page_content) > 0]"
   ]
  },
  {
   "cell_type": "code",
   "execution_count": null,
   "metadata": {},
   "outputs": [],
   "source": [
    "def extract_pages(documents: list[Document]) -> list[int]:\n",
    "    pages = []\n",
    "\n",
    "    for doc in documents:\n",
    "        print(doc.metadata)\n",
    "        pages.append(doc.metadata[\"page\"])\n",
    "\n",
    "    return sorted(list(set(pages)))\n",
    "\n",
    "def add_neighbors(pages: list[int]) -> list[int]:\n",
    "    n = 3\n",
    "    pages_with_neighbors = []\n",
    "    \n",
    "    for p in pages:\n",
    "        index_start = max(p - n, 0)\n",
    "        index_end = min(p + n, 355)\n",
    "    \n",
    "        pages_with_neighbors.extend(list(range(index_start, index_end)))\n",
    "    \n",
    "    return sorted(list(set(pages_with_neighbors)))\n",
    "\n",
    "def get_context_by_number_of_page(pages: list[int]) -> str:\n",
    "    contexts = []\n",
    "\n",
    "    for p in pages:\n",
    "        contexts.append(filtered_documents[p])\n",
    "    \n",
    "    print(len(contexts))\n",
    "    return combine_documents(contexts)\n",
    "    \n",
    "\n",
    "simple_chatbot = (\n",
    "    {\n",
    "        \"user_request\": itemgetter(\"user_request\"),\n",
    "        \"rephrased_request\": rephrase_prompt | llm | StrOutputParser()\n",
    "    }\n",
    "    | RunnablePassthrough() \n",
    "    | {\n",
    "        \"user_request\": itemgetter(\"user_request\"),\n",
    "        \"rephrased_request\": itemgetter(\"rephrased_request\"),\n",
    "        \"pages\": itemgetter(\"rephrased_request\") | vector_store_page.as_retriever(search_kwargs={\"k\": 5}) | RunnableLambda(extract_pages) | RunnableLambda(add_neighbors),\n",
    "    }\n",
    "    | RunnablePassthrough()\n",
    "    | {\n",
    "        \"user_request\": itemgetter(\"user_request\"),\n",
    "        \"rephrased_request\": itemgetter(\"rephrased_request\"),\n",
    "        \"context_1\": itemgetter(\"pages\") | RunnableLambda(get_context_by_number_of_page),\n",
    "        \"context_2\": itemgetter(\"rephrased_request\") | vector_store_summarized.as_retriever(search_kwargs={\"k\": 5}) | RunnableLambda(combine_documents)\n",
    "\n",
    "    }\n",
    "    | qa_prompt \n",
    "    | llm\n",
    "    | RunnableLambda(lambda x: x.content)\n",
    ")"
   ]
  },
  {
   "cell_type": "code",
   "execution_count": 34,
   "metadata": {},
   "outputs": [
    {
     "name": "stdout",
     "output_type": "stream",
     "text": [
      "{'source': 'data/fortaleza-digital.pdf', 'page': 2, 'page_label': '3', '_id': '64fd3506-ba62-4f1f-8dee-733f6d43321e', '_collection_name': 'db-book-page'}\n",
      "{'source': 'data/fortaleza-digital.pdf', 'page': 301, 'page_label': '302', '_id': 'bc520e95-7b34-4b30-9312-144387ad6e10', '_collection_name': 'db-book-page'}\n",
      "{'source': 'data/fortaleza-digital.pdf', 'page': 104, 'page_label': '105', '_id': '87bd3f3c-cced-4c43-8ec4-0aeb7dbcda78', '_collection_name': 'db-book-page'}\n",
      "{'source': 'data/fortaleza-digital.pdf', 'page': 173, 'page_label': '174', '_id': '00ee8668-28fc-4384-a67f-40617a61b6a2', '_collection_name': 'db-book-page'}\n",
      "{'source': 'data/fortaleza-digital.pdf', 'page': 219, 'page_label': '220', '_id': 'a74bd031-dd87-4ef7-97c8-23a8546b87c5', '_collection_name': 'db-book-page'}\n",
      "29\n"
     ]
    }
   ],
   "source": [
    "answer = simple_chatbot.invoke({\"user_request\": \"quien es susan fletcher?\"})"
   ]
  },
  {
   "cell_type": "code",
   "execution_count": 35,
   "metadata": {},
   "outputs": [
    {
     "data": {
      "text/plain": [
       "'Susan Fletcher es un personaje de la novela \"La fortaleza digital\" de Dan Brown. Es la criptógrafa estrella de la Agencia de Seguridad Nacional (NSA) y trabaja en la Sección de Criptografía. Susan es descrita como una mujer inteligente y atractiva, con un alto coeficiente intelectual. A lo largo de la historia, se enfrenta a un desafío crítico cuando la NSA intercepta un código que ni siquiera su supercomputadora puede descifrar. Además, Susan está emocionalmente involucrada con David Becker, un profesor universitario que también se ve envuelto en la trama.'"
      ]
     },
     "execution_count": 35,
     "metadata": {},
     "output_type": "execute_result"
    }
   ],
   "source": [
    "answer"
   ]
  },
  {
   "cell_type": "markdown",
   "metadata": {},
   "source": [
    "# Let's add a friendly answer"
   ]
  },
  {
   "cell_type": "code",
   "execution_count": 37,
   "metadata": {},
   "outputs": [],
   "source": [
    "from langchain_core.output_parsers.string import StrOutputParser\n",
    "\n",
    "FRIENDLY_PROMPT = \"\"\"\n",
    "Convierta la respuesta provista por el usuario en una respuesta amigable que contenga emojis\n",
    "\n",
    "user_question: {user_request}\n",
    "answer: {answer}\n",
    "\n",
    "friendly answer: \n",
    "\"\"\"\n",
    "\n",
    "friendly_prompt = ChatPromptTemplate({(\"user\", FRIENDLY_PROMPT)})\n",
    "\n",
    "simple_chatbot = (\n",
    "    {\n",
    "        \"user_request\": itemgetter(\"user_request\"),\n",
    "        \"rephrased_request\": rephrase_prompt | llm | StrOutputParser(),\n",
    "    }\n",
    "    | RunnablePassthrough()\n",
    "    | {\n",
    "        \"user_request\": itemgetter(\"user_request\"),\n",
    "        \"rephrased_request\": itemgetter(\"rephrased_request\"),\n",
    "        \"pages\": (\n",
    "            itemgetter(\"rephrased_request\")\n",
    "            | vector_store_page.as_retriever(search_kwargs={\"k\": 5})\n",
    "            | RunnableLambda(extract_pages)\n",
    "            | RunnableLambda(add_neighbors)\n",
    "        )\n",
    "    }\n",
    "    | RunnablePassthrough()\n",
    "    | {\n",
    "        \"user_request\": itemgetter(\"user_request\"),\n",
    "        \"answer\": {\n",
    "            \"user_request\": itemgetter(\"user_request\"),\n",
    "            \"rephrased_request\": itemgetter(\"rephrased_request\"),\n",
    "            \"context_1\": (\n",
    "                itemgetter(\"pages\")\n",
    "                | RunnableLambda(get_context_by_number_of_page)\n",
    "            ),\n",
    "            \"context_2\": (\n",
    "                itemgetter(\"rephrased_request\")\n",
    "                | vector_store_summarized.as_retriever(search_kwargs={\"k\": 5})\n",
    "                | RunnableLambda(combine_documents)\n",
    "            )\n",
    "        }\n",
    "        | qa_prompt\n",
    "        | llm\n",
    "        | StrOutputParser(),\n",
    "    }\n",
    "    | friendly_prompt\n",
    "    | llm\n",
    "    | StrOutputParser()\n",
    ")\n"
   ]
  },
  {
   "cell_type": "code",
   "execution_count": 38,
   "metadata": {},
   "outputs": [
    {
     "name": "stdout",
     "output_type": "stream",
     "text": [
      "{'source': 'data/fortaleza-digital.pdf', 'page': 2, 'page_label': '3', '_id': '64fd3506-ba62-4f1f-8dee-733f6d43321e', '_collection_name': 'db-book-page'}\n",
      "{'source': 'data/fortaleza-digital.pdf', 'page': 301, 'page_label': '302', '_id': 'bc520e95-7b34-4b30-9312-144387ad6e10', '_collection_name': 'db-book-page'}\n",
      "{'source': 'data/fortaleza-digital.pdf', 'page': 104, 'page_label': '105', '_id': '87bd3f3c-cced-4c43-8ec4-0aeb7dbcda78', '_collection_name': 'db-book-page'}\n",
      "{'source': 'data/fortaleza-digital.pdf', 'page': 173, 'page_label': '174', '_id': '00ee8668-28fc-4384-a67f-40617a61b6a2', '_collection_name': 'db-book-page'}\n",
      "{'source': 'data/fortaleza-digital.pdf', 'page': 219, 'page_label': '220', '_id': 'a74bd031-dd87-4ef7-97c8-23a8546b87c5', '_collection_name': 'db-book-page'}\n",
      "29\n"
     ]
    },
    {
     "data": {
      "text/plain": [
       "'¡Hola! 😊 Susan Fletcher es un personaje fascinante de la novela \"La fortaleza digital\" escrita por Dan Brown. 📚 Es la criptógrafa estrella de la ultrasecreta Agencia de Seguridad Nacional (NSA) y trabaja en la Sección de Criptografía. 🕵️\\u200d♀️ Susan es una mujer increíblemente inteligente y atractiva, con un alto coeficiente intelectual. A lo largo de la historia, se enfrenta a un gran desafío cuando la NSA intercepta un código que ni siquiera su supercomputadora puede descifrar. 🔍 Además, Susan tiene una conexión especial con David Becker, un profesor universitario que también se ve envuelto en la emocionante trama. 💑✨'"
      ]
     },
     "execution_count": 38,
     "metadata": {},
     "output_type": "execute_result"
    }
   ],
   "source": [
    "simple_chatbot.invoke({\"user_request\": \"quien es susan fletcher?\"})"
   ]
  },
  {
   "cell_type": "markdown",
   "metadata": {},
   "source": [
    "# Let's generate a step back question"
   ]
  },
  {
   "cell_type": "markdown",
   "metadata": {},
   "source": [
    "..."
   ]
  }
 ],
 "metadata": {
  "kernelspec": {
   "display_name": ".venv",
   "language": "python",
   "name": "python3"
  },
  "language_info": {
   "codemirror_mode": {
    "name": "ipython",
    "version": 3
   },
   "file_extension": ".py",
   "mimetype": "text/x-python",
   "name": "python",
   "nbconvert_exporter": "python",
   "pygments_lexer": "ipython3",
   "version": "3.10.12"
  }
 },
 "nbformat": 4,
 "nbformat_minor": 2
}
