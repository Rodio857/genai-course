{
 "cells": [
  {
   "cell_type": "markdown",
   "metadata": {},
   "source": [
    "# Load LLM"
   ]
  },
  {
   "cell_type": "code",
   "execution_count": 1,
   "metadata": {},
   "outputs": [
    {
     "data": {
      "text/plain": [
       "True"
      ]
     },
     "execution_count": 1,
     "metadata": {},
     "output_type": "execute_result"
    }
   ],
   "source": [
    "from dotenv import load_dotenv\n",
    "\n",
    "load_dotenv()"
   ]
  },
  {
   "cell_type": "code",
   "execution_count": 2,
   "metadata": {},
   "outputs": [],
   "source": [
    "from langchain_openai import ChatOpenAI\n",
    "\n",
    "llm = ChatOpenAI(\n",
    "    model=\"gpt-4o\",\n",
    "    temperature=0,\n",
    ")"
   ]
  },
  {
   "cell_type": "markdown",
   "metadata": {},
   "source": [
    "# Chatbot that uses pages and summaries"
   ]
  },
  {
   "cell_type": "code",
   "execution_count": 23,
   "metadata": {},
   "outputs": [],
   "source": [
    "from operator import itemgetter\n",
    "from langchain_core.runnables import RunnableLambda, RunnablePassthrough\n",
    "from langchain_core.messages import SystemMessage\n",
    "from langchain_core.prompts import ChatPromptTemplate\n",
    "import os\n",
    "from langchain_qdrant import QdrantVectorStore\n",
    "from qdrant_client import QdrantClient\n",
    "from langchain_openai import OpenAIEmbeddings\n",
    "from langchain_core.documents import Document\n",
    "from langchain_core.output_parsers import StrOutputParser\n",
    "\n",
    "def combine_documents(documents: list[Document]) -> str:\n",
    "    return \"\\n\\n\".join([document.page_content for document in documents])\n",
    "\n",
    "\n",
    "REPHRASE_SYSTEM_PROMPT = \"\"\"\n",
    "<PERSONA>\n",
    "Eres un especialista resolviendo dudas sobre libros de ficción\n",
    "</PERSONA>\n",
    "\n",
    "<TASK>\n",
    "Tu tarea es refrasear la solicitud del usuario para genera una solicitud refraseada.\n",
    "\n",
    "- Puedes corregir los errores gramaticales\n",
    "- Puedes mejorar la semántica y orden léxico de la palabras para un mejor entendimiento\n",
    "</TASK>\n",
    "\"\"\"\n",
    "\n",
    "REPHRASE_USER_PROMPT = \"\"\"{user_request}\"\"\"\n",
    "\n",
    "rephrase_prompt = ChatPromptTemplate([\n",
    "    SystemMessage(content=REPHRASE_SYSTEM_PROMPT),\n",
    "    (\"user\", REPHRASE_USER_PROMPT)\n",
    "])\n",
    "\n",
    "\n",
    "QA_SYSTEM_PROMPT = \"\"\"\n",
    "<PERSONA>\n",
    "Eres un especialista resolviendo dudas sobre libros de ficción\n",
    "</PERSONA>\n",
    "\n",
    "<TAREA>\n",
    "Tu tarea es responder la pregunta del usuario.\n",
    "</TAREA>\n",
    "\n",
    "<RESTRICCIONES>\n",
    "- Solo responde la pregunta del usuario tomando como contexto lo provisto en <CONTEXTO>.\n",
    "</RESTRICCIONES>\n",
    "\n",
    "<CONTEXTO 1>\n",
    "{context_1}\n",
    "</CONTEXTO 1>\n",
    "\n",
    "<CONTEXTO 2>\n",
    "{context_2}\n",
    "</CONTEXTO 2>\n",
    "\"\"\"\n",
    "\n",
    "QA_USER_PROMPT = \"\"\"\n",
    "user question: {user_request}\n",
    "rephrased user question: {rephrased_request}\n",
    "\"\"\"\n",
    "\n",
    "qa_prompt = ChatPromptTemplate([\n",
    "    (\"system\", QA_SYSTEM_PROMPT),\n",
    "    (\"user\", QA_USER_PROMPT)\n",
    "])\n",
    "\n",
    "url = \"https://e7f4684c-fd33-4db0-b1d3-268870ecb84d.europe-west3-0.gcp.cloud.qdrant.io:6333\"\n",
    "api_key = os.getenv(\"QDRANT_API_KEY\")\n",
    "\n",
    "client = QdrantClient(\n",
    "    url=url,\n",
    "    api_key=api_key,\n",
    "    https=True,\n",
    "    timeout=300\n",
    ")\n",
    "\n",
    "vector_store_page = QdrantVectorStore(\n",
    "    client=client,\n",
    "    collection_name=\"db-book-page\",\n",
    "    embedding=OpenAIEmbeddings(model=\"text-embedding-ada-002\"),\n",
    ")\n",
    "\n",
    "vector_store_summarized = QdrantVectorStore(\n",
    "    client=client,\n",
    "    collection_name=\"db-book-summarized\",\n",
    "    embedding=OpenAIEmbeddings(model=\"text-embedding-ada-002\"),\n",
    ")\n",
    "\n",
    "# def debug(x):\n",
    "#     print(x)\n",
    "#     return x\n",
    "#    | RunnableLambda(debug)\n",
    "\n",
    "\n",
    "simple_chatbot = (\n",
    "    {\n",
    "        \"user_request\": itemgetter(\"user_request\"),\n",
    "        \"rephrased_request\": rephrase_prompt | llm | StrOutputParser()\n",
    "    }\n",
    "    | RunnablePassthrough() \n",
    "    | {\n",
    "        \"user_request\": itemgetter(\"user_request\"),\n",
    "        \"rephrased_request\": itemgetter(\"rephrased_request\"),\n",
    "        \"context_1\": itemgetter(\"rephrased_request\") | vector_store_page.as_retriever(search_kwargs={\"k\": 5}) | RunnableLambda(combine_documents),\n",
    "        \"context_2\": itemgetter(\"rephrased_request\") | vector_store_summarized.as_retriever(search_kwargs={\"k\": 5}) | RunnableLambda(combine_documents)\n",
    "    }\n",
    "    | qa_prompt \n",
    "    | llm\n",
    "    | StrOutputParser()\n",
    ")"
   ]
  },
  {
   "cell_type": "code",
   "execution_count": 24,
   "metadata": {},
   "outputs": [
    {
     "data": {
      "text/plain": [
       "'Susan Fletcher es una criptógrafa estrella que trabaja en la Agencia de Seguridad Nacional (NSA) en la Sección de Criptografía. Es descrita como una mujer inteligente y atractiva, con un alto coeficiente intelectual. A lo largo de la historia, se enfrenta a situaciones críticas y peligrosas, tanto en su trabajo en la NSA como en su vida personal, especialmente en relación con su prometido, David Becker. Susan es un personaje central en la trama, involucrada en la resolución de un código indescifrable y en la búsqueda de una clave de acceso crucial.'"
      ]
     },
     "execution_count": 24,
     "metadata": {},
     "output_type": "execute_result"
    }
   ],
   "source": [
    "simple_chatbot.invoke({\"user_request\": \"quien es susan fletcher?\"})"
   ]
  },
  {
   "cell_type": "markdown",
   "metadata": {},
   "source": [
    "# Chatbot that uses pages, summaries and neighbors"
   ]
  },
  {
   "cell_type": "code",
   "execution_count": 25,
   "metadata": {},
   "outputs": [],
   "source": [
    "from langchain_community.document_loaders import PyPDFLoader\n",
    "\n",
    "loader = PyPDFLoader(\"data/fortaleza-digital.pdf\")\n",
    "pages = loader.load()\n",
    "\n",
    "filtered_documents = [page for page in pages if len(page.page_content) > 0]"
   ]
  },
  {
   "cell_type": "code",
   "execution_count": 37,
   "metadata": {},
   "outputs": [
    {
     "data": {
      "text/plain": [
       "'enamorada de un profesor universitario que trabajaba como un esclavo por un\\nsueldo miserable. Sería una pena que Susan malgastara su herencia genética\\nsuperior procreando con un degenerado, sobre todo pudiendo hacerlo con Greg.\\nTendríamos unos hijos perfectos\\n, pensó.\\n—¿En qué estás trabajando? —preguntó Hale, cambiando de táctica.\\nSusan no dijo nada.\\n—Menuda compañera \\nestás\\n hecha. ¿De veras que no puedo echar un vistazo?\\nSe levantó y empezó a rodear el círculo de terminales en dirección a ella.\\nSusan presintió que la curiosidad de Hale podía causar graves problemas.\\nTomó una repentina decisión.\\n—Es un diagnóstico —explicó, aprovechando la mentira del comandante.\\nEl paró en seco.\\n—¿Un diagnóstico? —Parecía dudoso—. ¿Dedicas un sábado a realizar un\\ndiagnóstico, en lugar de jugar con el profe?\\n—Se llama David.\\n—Da igual.\\nSusan le fulminó con la mirada.\\n—¿No tienes nada mejor que hacer?\\n—¿Intentas deshacerte de mí?\\n—Pues la verdad es que sí.\\n—Caramba, Sue, eso me ha dolido.\\nElla entornó los ojos. Detestaba que la llamaran Sue. No tenía nada contra el\\napodo, pero Hale era el único que lo había utilizado.\\n—¿Y si te ayudo? —se ofreció él. Continuó avanzando hacia ella—. Los\\ndiagnósticos son mi fuerte. Además, me muero de ganas de ver qué diagnóstico\\nes capaz de conseguir que la poderosa Susan Fletcher venga a trabajar un sábado.\\nElla experimentó una descarga de adrenalina. Miró el icono del rastreador en\\nsu pantalla. Sabía que no podía permitir que Hale lo viera. Haría demasiadas\\npreguntas.\\n—Lo tengo controlado, Greg —dijo.\\nPero el hombre siguió avanzando hacia ella. Susan sabía que debía actuar con\\nrapidez. Hale estaba a sólo unos metros de distancia, cuando tomó una decisión.\\nSe levantó y le cortó el paso. Su colonia era nauseabunda.\\nLe miró a los ojos.\\n—He dicho que no.\\nÉl ladeó la cabeza, al parecer intrigado por aquella exhibición de secretismo.\\nSe acercó más. Greg Hale no estaba preparado para lo que sucedió a\\ncontinuación.\\nCon absoluta frialdad, Susan apoyó el dedo índice contra el musculoso pecho\\nde Hale y le detuvo.\\nEl hombre se quedó sorprendido. Por lo visto, hablaba en serio. Nunca le'"
      ]
     },
     "execution_count": 37,
     "metadata": {},
     "output_type": "execute_result"
    }
   ],
   "source": [
    "filtered_documents[101].page_content"
   ]
  },
  {
   "cell_type": "code",
   "execution_count": 45,
   "metadata": {},
   "outputs": [],
   "source": [
    "def extract_pages(documents: list[Document]) -> list[int]:\n",
    "    pages = []\n",
    "\n",
    "    for doc in documents:\n",
    "        #print(doc.metadata)\n",
    "        pages.append(doc.metadata[\"page\"])\n",
    "\n",
    "    return sorted(list(set(pages)))\n",
    "\n",
    "def add_neighbors(pages: list[int]) -> list[int]:\n",
    "    n = 3\n",
    "    pages_with_neighbors = []\n",
    "    \n",
    "    for p in pages:\n",
    "        index_start = max(p - n, 0)\n",
    "        index_end = min(p + n, 355)\n",
    "    \n",
    "        pages_with_neighbors.extend(list(range(index_start, index_end)))\n",
    "    \n",
    "    return sorted(list(set(pages_with_neighbors)))\n",
    "\n",
    "def get_context_by_number_of_page(pages: list[int]) -> str:\n",
    "    contexts = []\n",
    "\n",
    "    for p in pages:\n",
    "        contexts.append(filtered_documents[p])\n",
    "    \n",
    "    #print(len(contexts))\n",
    "    return combine_documents(contexts)\n",
    "    \n",
    "\n",
    "simple_chatbot = (\n",
    "    {\n",
    "        \"user_request\": itemgetter(\"user_request\"),\n",
    "        \"rephrased_request\": rephrase_prompt | llm | StrOutputParser()\n",
    "    }\n",
    "    | RunnablePassthrough() \n",
    "    | {\n",
    "        \"user_request\": itemgetter(\"user_request\"),\n",
    "        \"rephrased_request\": itemgetter(\"rephrased_request\"),\n",
    "        \"pages\": itemgetter(\"rephrased_request\") | vector_store_page.as_retriever(search_kwargs={\"k\": 5}) | RunnableLambda(extract_pages) | RunnableLambda(add_neighbors),\n",
    "    }\n",
    "    | RunnablePassthrough()\n",
    "    | {\n",
    "        \"user_request\": itemgetter(\"user_request\"),\n",
    "        \"rephrased_request\": itemgetter(\"rephrased_request\"),\n",
    "        \"context_1\": itemgetter(\"pages\") | RunnableLambda(get_context_by_number_of_page),\n",
    "        \"context_2\": itemgetter(\"rephrased_request\") | vector_store_summarized.as_retriever(search_kwargs={\"k\": 5}) | RunnableLambda(combine_documents)\n",
    "    }\n",
    "    | qa_prompt \n",
    "    | llm\n",
    "    | RunnableLambda(lambda x: x.content)\n",
    ")"
   ]
  },
  {
   "cell_type": "code",
   "execution_count": 47,
   "metadata": {},
   "outputs": [
    {
     "data": {
      "text/plain": [
       "'Susan Fletcher es una criptógrafa estrella que trabaja en la Agencia de Seguridad Nacional (NSA) en la Sección de Criptografía. Es una mujer inteligente y atractiva, con un alto coeficiente intelectual, y desempeña un papel crucial en la trama de \"La fortaleza digital\" de Dan Brown. A lo largo de la novela, se enfrenta a desafíos relacionados con un algoritmo indescifrable y se ve envuelta en situaciones de intriga y peligro. Además, tiene una conexión personal e intelectual con David Becker, un profesor universitario especializado en idiomas extranjeros.'"
      ]
     },
     "execution_count": 47,
     "metadata": {},
     "output_type": "execute_result"
    }
   ],
   "source": [
    "simple_chatbot.invoke({\"user_request\": \"quien es susan fletcher?\"})"
   ]
  },
  {
   "cell_type": "code",
   "execution_count": 30,
   "metadata": {},
   "outputs": [
    {
     "data": {
      "text/plain": [
       "[2, 104, 173, 219, 301]"
      ]
     },
     "execution_count": 30,
     "metadata": {},
     "output_type": "execute_result"
    }
   ],
   "source": [
    "[2, 104, 173, 219, 301]"
   ]
  },
  {
   "cell_type": "code",
   "execution_count": 34,
   "metadata": {},
   "outputs": [
    {
     "data": {
      "text/plain": [
       "29"
      ]
     },
     "execution_count": 34,
     "metadata": {},
     "output_type": "execute_result"
    }
   ],
   "source": [
    "len([0,\n",
    "  1,\n",
    "  2,\n",
    "  3,\n",
    "  4,\n",
    "  101,\n",
    "  102,\n",
    "  103,\n",
    "  104,\n",
    "  105,\n",
    "  106,\n",
    "  170,\n",
    "  171,\n",
    "  172,\n",
    "  173,\n",
    "  174,\n",
    "  175,\n",
    "  216,\n",
    "  217,\n",
    "  218,\n",
    "  219,\n",
    "  220,\n",
    "  221,\n",
    "  298,\n",
    "  299,\n",
    "  300,\n",
    "  301,\n",
    "  302,\n",
    "  303])"
   ]
  },
  {
   "cell_type": "markdown",
   "metadata": {},
   "source": [
    "# Let's add a friendly answer"
   ]
  },
  {
   "cell_type": "code",
   "execution_count": 50,
   "metadata": {},
   "outputs": [],
   "source": [
    "from langchain_core.output_parsers.string import StrOutputParser\n",
    "\n",
    "FRIENDLY_PROMPT = \"\"\"\n",
    "Convierte la respuesta provista por el usuario en una respuesta amigable que contenga emojis\n",
    "\n",
    "user_question: {user_request}\n",
    "answer: {answer}\n",
    "\n",
    "friendly answer: \n",
    "\"\"\"\n",
    "\n",
    "friendly_prompt = ChatPromptTemplate({(\"user\", FRIENDLY_PROMPT)})\n",
    "\n",
    "simple_chatbot = (\n",
    "    {\n",
    "        \"user_request\": itemgetter(\"user_request\"),\n",
    "        \"rephrased_request\": rephrase_prompt | llm | StrOutputParser(),\n",
    "    }\n",
    "    | RunnablePassthrough()\n",
    "    | {\n",
    "        \"user_request\": itemgetter(\"user_request\"),\n",
    "        \"rephrased_request\": itemgetter(\"rephrased_request\"),\n",
    "        \"pages\": (\n",
    "            itemgetter(\"rephrased_request\")\n",
    "            | vector_store_page.as_retriever(search_kwargs={\"k\": 5})\n",
    "            | RunnableLambda(extract_pages)\n",
    "            | RunnableLambda(add_neighbors)\n",
    "        )\n",
    "    }\n",
    "    | RunnablePassthrough()\n",
    "    | {\n",
    "        \"user_request\": itemgetter(\"user_request\"),\n",
    "        \"answer\": {\n",
    "            \"user_request\": itemgetter(\"user_request\"),\n",
    "            \"rephrased_request\": itemgetter(\"rephrased_request\"),\n",
    "            \"context_1\": (\n",
    "                itemgetter(\"pages\")\n",
    "                | RunnableLambda(get_context_by_number_of_page)\n",
    "            ),\n",
    "            \"context_2\": (\n",
    "                itemgetter(\"rephrased_request\")\n",
    "                | vector_store_summarized.as_retriever(search_kwargs={\"k\": 5})\n",
    "                | RunnableLambda(combine_documents)\n",
    "            )\n",
    "        }\n",
    "        | qa_prompt\n",
    "        | llm\n",
    "        | StrOutputParser(),\n",
    "    }\n",
    "    | friendly_prompt\n",
    "    | llm\n",
    "    | StrOutputParser()\n",
    ")\n"
   ]
  },
  {
   "cell_type": "code",
   "execution_count": 51,
   "metadata": {},
   "outputs": [
    {
     "data": {
      "text/plain": [
       "'¡Claro! 😊 Susan Fletcher es una brillante criptógrafa que trabaja en la Agencia de Seguridad Nacional (NSA) en la Sección de Criptografía. 🕵️\\u200d♀️🔐 Es una mujer súper inteligente y atractiva, con un coeficiente intelectual altísimo. 📚✨ Susan juega un papel crucial en la emocionante trama de \"La fortaleza digital\" de Dan Brown. 📖🔍 Se enfrenta a un complicado problema con un algoritmo indescifrable y vive situaciones llenas de intriga y peligro en su trabajo. 😮💻 Además, tiene una conexión especial tanto personal como intelectual con David Becker, un profesor universitario experto en idiomas extranjeros. 💑🌍'"
      ]
     },
     "execution_count": 51,
     "metadata": {},
     "output_type": "execute_result"
    }
   ],
   "source": [
    "simple_chatbot.invoke({\"user_request\": \"quien es susan fletcher?\"})"
   ]
  },
  {
   "cell_type": "markdown",
   "metadata": {},
   "source": [
    "# Let's generate a step back question"
   ]
  },
  {
   "cell_type": "markdown",
   "metadata": {},
   "source": [
    "..."
   ]
  }
 ],
 "metadata": {
  "kernelspec": {
   "display_name": ".venv",
   "language": "python",
   "name": "python3"
  },
  "language_info": {
   "codemirror_mode": {
    "name": "ipython",
    "version": 3
   },
   "file_extension": ".py",
   "mimetype": "text/x-python",
   "name": "python",
   "nbconvert_exporter": "python",
   "pygments_lexer": "ipython3",
   "version": "3.10.12"
  }
 },
 "nbformat": 4,
 "nbformat_minor": 2
}
