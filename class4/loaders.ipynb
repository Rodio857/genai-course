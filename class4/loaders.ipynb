{
 "cells": [
  {
   "cell_type": "markdown",
   "metadata": {},
   "source": [
    "# Loading PDFs"
   ]
  },
  {
   "cell_type": "markdown",
   "metadata": {},
   "source": [
    "## Using PyPDF"
   ]
  },
  {
   "cell_type": "code",
   "execution_count": 1,
   "metadata": {},
   "outputs": [],
   "source": [
    "from langchain_community.document_loaders import PyPDFLoader\n",
    "\n",
    "loader = PyPDFLoader(\"documents/langchain-report.pdf\")\n",
    "pages = loader.load()"
   ]
  },
  {
   "cell_type": "code",
   "execution_count": 32,
   "metadata": {},
   "outputs": [
    {
     "data": {
      "text/plain": [
       "{'id': None,\n",
       " 'metadata': {'source': 'documents/langchain-report.pdf', 'page': 0},\n",
       " 'page_content': 'LangChain State of AI 2024 ReportDive into LangSmith product usage patterns that show how the AI ecosystemand the way people are building LLM apps is evolving.BY LANGCHAIN6 MIN READDEC 19, 2024\\nSubscribeLangChain State of AI 2024 Reporthttps://blog.langchain.dev/langchain-state-of-ai-2024/\\n1 of 1230/01/25, 11:58 AM',\n",
       " 'type': 'Document'}"
      ]
     },
     "execution_count": 32,
     "metadata": {},
     "output_type": "execute_result"
    }
   ],
   "source": [
    "pages[0].__dict__"
   ]
  },
  {
   "cell_type": "code",
   "execution_count": 17,
   "metadata": {},
   "outputs": [],
   "source": [
    "content = \"\\n\"\n",
    "for page in pages:\n",
    "    content = content + page.page_content"
   ]
  },
  {
   "cell_type": "code",
   "execution_count": 18,
   "metadata": {},
   "outputs": [
    {
     "name": "stdout",
     "output_type": "stream",
     "text": [
      "\n",
      "LangChain State of AI 2024 ReportDive into LangSmith product usage patterns that show how the AI ecosystemand the way people are building LLM apps is evolving.BY LANGCHAIN6 MIN READDEC 19, 2024\n",
      "SubscribeLangChain State of AI 2024 Reporthttps://blog.langchain.dev/langchain-state-of-ai-2024/\n",
      "1 of 1230/01/25, 11:58 AMAnother year of building with LLMs is coming to an end — and 2024 didn’tdisappoint. With nearly 30k users signing up for LangSmith every month, we’relucky to have front row seats to what’s happening in the industry. As we did last year, we want to share some product usage patterns thatshowcase how the AI ecosystem and practice of building LLM apps are evolving.As folks have traced, evaluated, and iterated their way around LangSmith,we’ve seen a few notable changes. These include the dramatic rise of open-source model adoption and a shift from predominantly retrieval workflows to AIagent applications with multi-step, agentic workflows. Dive into the stats below to learn exactly what developers are building, testing,and prioritizing.Infrastructure usageWith Large Language Models (LLMs) eating the world, everyone’s asking themirror-mirror-on-the-wall question: “Which model is the most utilized of themall?” Let’s unpack what we’ve seen.Top LLM providersLike last year’s results, OpenAI reigns as the most used LLM provider amongLangSmith users — used more than 6x as much as Ollama, the next-mostpopular provider (counted by LangSmith organization usage).\n",
      "LangChain State of AI 2024 Reporthttps://blog.langchain.dev/langchain-state-of-ai-2024/\n",
      "2 of 1230/01/25, 11:58 AMInterestingly, Ollama and Groq (which both allow users to run open sourcemodels, with the former focusing on local execution and the latter on clouddeployment) have accelerated in momentum this year, breaking into the top 5.This shows a growing interest in more flexible deployment options andcustomizable AI infrastructure.\n",
      "LangChain State of AI 2024 Reporthttps://blog.langchain.dev/langchain-state-of-ai-2024/\n",
      "3 of 1230/01/25, 11:58 AMWhen it comes to providers that offer open-source models, the top providershave stayed relatively consistent compared to last year - Ollama, Mistral, andHugging Face have made it easy for developers to run open source models ontheir platforms. These OSS providers’ collective usage represents 20% of thetop 20 LLM providers (by the number of organizations using them). Top Retrievers / Vector StoresPerforming retrieval is still critical for many GenAI workflows. The top 3 vectorstores have remained the same as last year, with Chroma and FAISS as the mostpopular choices. This year, Milvus, MongoDB, and Elastic’s vector databaseshave also entered the top 10. \n",
      "LangChain State of AI 2024 Reporthttps://blog.langchain.dev/langchain-state-of-ai-2024/\n",
      "4 of 1230/01/25, 11:58 AMBuilding with LangChain productsAs developers have gained more experience utilizing generative AI, they arealso building more dynamic applications. From the growing sophistication ofworkflows, to the rise of AI agents — we’re seeing a few trends that point to anevolving ecosystem of innovation.\n",
      "Observability isn’t limited to LangChain applications (our open source framework) is central to many folks’ LLMLangChain State of AI 2024 Reporthttps://blog.langchain.dev/langchain-state-of-ai-2024/\n",
      "5 of 1230/01/25, 11:58 AMWhile langchain (our open source framework) is central to many folks’ LLMapp development journeys, 15.7% of LangSmith traces this year come fromnon-langchainframeworks. This reflects a broader trend where observabilityis needed regardless of what framework you’re using to build the LLM app —and that interoperability is supported by LangSmith.Python remains dominant, while JavaScript usagegrowsDebugging, testing, and monitoring certainly has a special place in our Pythondevelopers’ hearts, with 84.7% usage coming from the Python SDK. But there isa notable and growing interest in JavaScript as developers pursue web-firstapplications — the JavaScript SDK accounts for 15.3% of LangSmith usage thisyear, increasing 3x compared to the previous year. AI agents are gaining tractionAs companies are getting more serious about incorporating AI agents acrossvarious industries, adoption of our controllable agent framework, LangGraph,is also on the rise. Since its release in March 2024, LangGraph has steadilygained traction — with 43% of LangSmith organizations are now sendingLangGraph traces. These traces represent complex, orchestrated tasks that gobeyond basic LLM interactions.\n",
      "LangChain State of AI 2024 Reporthttps://blog.langchain.dev/langchain-state-of-ai-2024/\n",
      "6 of 1230/01/25, 11:58 AMThis growth aligns with the rise in agentic behavior: we see that on average21.9% of traces now involve tool calls, up from an average of 0.5% in 2023.Tool calling allows a model to autonomously invoke functions or externalresources, signaling more agentic behavior where the model decides when totake action. Increased use of tool calling can enhance an agent’s ability tointeract with external systems and perform tasks like writing to databases. \n",
      "LangChain State of AI 2024 Reporthttps://blog.langchain.dev/langchain-state-of-ai-2024/\n",
      "7 of 1230/01/25, 11:58 AMPerformance and optimizationBalancing speed and sophistication is a key challenge when developingapplications — especially those leveraging LLM resources. Below, we explorehow organizations are interacting with their applications to align thecomplexity of their needs with efficient performance.Complexity is growing, but tasks are being handledefficiently  The average number of steps per trace has more than doubled over the pastyear, rising from onaverage 2.8 steps (2023) to 7.7 steps (2024). We define astep as a distinct operation within a trace, such as a call to an LLM, retriever, ortool. This growth in steps signals that organizations are leveraging morecomplex and multi-faceted workflows. Rather than a simple question-answerinteraction, users are building systems that chain together multiple tasks, suchas retrieving information, processing it, and generating actionable results.\n",
      "LangChain State of AI 2024 Reporthttps://blog.langchain.dev/langchain-state-of-ai-2024/\n",
      "8 of 1230/01/25, 11:58 AMIn contrast, the average number of LLM calls per trace has grown moremodestly— from on average 1.1 to 1.4 LLM calls. This speaks to howdevelopers are designing systems to achieve more with fewer LLM calls,balancing functionality while keeping expensive LLM requests in checkLLM testing & evaluationWhat are organizations doing to test their LLM applications to guard againstinaccurate or low-quality LLM-generated responses? While it’s no easy feat tokeep the quality of your LLM app high, we see organizations usingLangSmith’s evaluation capabilities to automate testing and generate userfeedback loops to create more robust, reliable applications.LLM-as-Judge: Evaluating what mattersLLM-as-Judge evaluators capture grading rules into an LLM prompt and use theLLM to score whether the output adheres to specific criteria. We see developerstesting for these characteristics the most: Relevance, Correctness, ExactMatch, and HelpfulnessThese highlight that most developers are doing coarse checks for responsequality to make sure AI generated outputs don’t completely miss the mark. LangChain State of AI 2024 Reporthttps://blog.langchain.dev/langchain-state-of-ai-2024/\n",
      "9 of 1230/01/25, 11:58 AMquality to make sure AI generated outputs don’t completely miss the mark. \n",
      "Iterating with human feedback Human feedback is a key part of the iteration loop for folks building LLM apps.LangSmith speeds up the process of collecting and incorporating humanfeedback on traces and runs (i.e. spans) – so that users can create rich datasetsfor improvement and optimization. Over the past year, annotated runs grew18x, scaling linearly with growth in LangSmith usage.Feedback volume per run also increased slightly, rising from 2.28 to 2.59feedback entries per run. Still, feedback is relatively sparse per run. Users maybe prioritizing speed in reviewing runs over providing comprehensive feedback,or commenting on only the most critical or problematic runs that needLangChain State of AI 2024 Reporthttps://blog.langchain.dev/langchain-state-of-ai-2024/\n",
      "10 of 1230/01/25, 11:58 AMattention. ConclusionIn 2024, developers leaned into complexity with multi-step agents, sharpenedefficiency by doing more with fewer LLM calls, and added quality checks totheir apps using methods of feedback and evaluation. As more LLM apps arecreated, we’re excited to see how folks dig into smarter workflows, betterperformance, and stronger reliability. Learn more here about how LangSmith can bring more visibility into your LLMapp development and improve performance over time — from debuggingbottlenecks to evaluating response quality to monitoring regressions.  TAGSBy LangChainJOIN OUR NEWSLETTERUpdates from the LangChain team and community\n",
      "YOU MIGHT ALSO LIKEEnter your emailSubscribeLangChain State of AI 2024 Reporthttps://blog.langchain.dev/langchain-state-of-ai-2024/\n",
      "11 of 1230/01/25, 11:58 AMSign up© LangChain Blog 2025\n",
      "IntroducingOpenTelemetry supportfor LangSmith4 MIN READBY LANGCHAINEasier evaluations withLangSmith SDK v0.24 MIN READBY LANGCHAINLangGraph Platform: Newdeployment options forscalable agentinfrastructure4 MIN READBY LANGCHAINFew-shot prompting toimprove tool-callingperformance8 MIN READBY LANGCHAINImproving core toolinterfaces and docs inLangChain4 MIN READBY LANGCHAINAnnouncing LangGraphv0.1 & LangGraph Cloud:Running agents at scale,reliably6 MIN READBY LANGCHAINLangChain State of AI 2024 Reporthttps://blog.langchain.dev/langchain-state-of-ai-2024/\n",
      "12 of 1230/01/25, 11:58 AM\n"
     ]
    }
   ],
   "source": [
    "print(content)"
   ]
  },
  {
   "cell_type": "code",
   "execution_count": 19,
   "metadata": {},
   "outputs": [],
   "source": [
    "total_content = \"\\n\".join(document.page_content for document in pages)"
   ]
  },
  {
   "cell_type": "code",
   "execution_count": 20,
   "metadata": {},
   "outputs": [
    {
     "name": "stdout",
     "output_type": "stream",
     "text": [
      "LangChain State of AI 2024 ReportDive into LangSmith product usage patterns that show how the AI ecosystemand the way people are building LLM apps is evolving.BY LANGCHAIN6 MIN READDEC 19, 2024\n",
      "SubscribeLangChain State of AI 2024 Reporthttps://blog.langchain.dev/langchain-state-of-ai-2024/\n",
      "1 of 1230/01/25, 11:58 AM\n",
      "Another year of building with LLMs is coming to an end — and 2024 didn’tdisappoint. With nearly 30k users signing up for LangSmith every month, we’relucky to have front row seats to what’s happening in the industry. As we did last year, we want to share some product usage patterns thatshowcase how the AI ecosystem and practice of building LLM apps are evolving.As folks have traced, evaluated, and iterated their way around LangSmith,we’ve seen a few notable changes. These include the dramatic rise of open-source model adoption and a shift from predominantly retrieval workflows to AIagent applications with multi-step, agentic workflows. Dive into the stats below to learn exactly what developers are building, testing,and prioritizing.Infrastructure usageWith Large Language Models (LLMs) eating the world, everyone’s asking themirror-mirror-on-the-wall question: “Which model is the most utilized of themall?” Let’s unpack what we’ve seen.Top LLM providersLike last year’s results, OpenAI reigns as the most used LLM provider amongLangSmith users — used more than 6x as much as Ollama, the next-mostpopular provider (counted by LangSmith organization usage).\n",
      "LangChain State of AI 2024 Reporthttps://blog.langchain.dev/langchain-state-of-ai-2024/\n",
      "2 of 1230/01/25, 11:58 AM\n",
      "Interestingly, Ollama and Groq (which both allow users to run open sourcemodels, with the former focusing on local execution and the latter on clouddeployment) have accelerated in momentum this year, breaking into the top 5.This shows a growing interest in more flexible deployment options andcustomizable AI infrastructure.\n",
      "LangChain State of AI 2024 Reporthttps://blog.langchain.dev/langchain-state-of-ai-2024/\n",
      "3 of 1230/01/25, 11:58 AM\n",
      "When it comes to providers that offer open-source models, the top providershave stayed relatively consistent compared to last year - Ollama, Mistral, andHugging Face have made it easy for developers to run open source models ontheir platforms. These OSS providers’ collective usage represents 20% of thetop 20 LLM providers (by the number of organizations using them). Top Retrievers / Vector StoresPerforming retrieval is still critical for many GenAI workflows. The top 3 vectorstores have remained the same as last year, with Chroma and FAISS as the mostpopular choices. This year, Milvus, MongoDB, and Elastic’s vector databaseshave also entered the top 10. \n",
      "LangChain State of AI 2024 Reporthttps://blog.langchain.dev/langchain-state-of-ai-2024/\n",
      "4 of 1230/01/25, 11:58 AM\n",
      "Building with LangChain productsAs developers have gained more experience utilizing generative AI, they arealso building more dynamic applications. From the growing sophistication ofworkflows, to the rise of AI agents — we’re seeing a few trends that point to anevolving ecosystem of innovation.\n",
      "Observability isn’t limited to LangChain applications (our open source framework) is central to many folks’ LLMLangChain State of AI 2024 Reporthttps://blog.langchain.dev/langchain-state-of-ai-2024/\n",
      "5 of 1230/01/25, 11:58 AM\n",
      "While langchain (our open source framework) is central to many folks’ LLMapp development journeys, 15.7% of LangSmith traces this year come fromnon-langchainframeworks. This reflects a broader trend where observabilityis needed regardless of what framework you’re using to build the LLM app —and that interoperability is supported by LangSmith.Python remains dominant, while JavaScript usagegrowsDebugging, testing, and monitoring certainly has a special place in our Pythondevelopers’ hearts, with 84.7% usage coming from the Python SDK. But there isa notable and growing interest in JavaScript as developers pursue web-firstapplications — the JavaScript SDK accounts for 15.3% of LangSmith usage thisyear, increasing 3x compared to the previous year. AI agents are gaining tractionAs companies are getting more serious about incorporating AI agents acrossvarious industries, adoption of our controllable agent framework, LangGraph,is also on the rise. Since its release in March 2024, LangGraph has steadilygained traction — with 43% of LangSmith organizations are now sendingLangGraph traces. These traces represent complex, orchestrated tasks that gobeyond basic LLM interactions.\n",
      "LangChain State of AI 2024 Reporthttps://blog.langchain.dev/langchain-state-of-ai-2024/\n",
      "6 of 1230/01/25, 11:58 AM\n",
      "This growth aligns with the rise in agentic behavior: we see that on average21.9% of traces now involve tool calls, up from an average of 0.5% in 2023.Tool calling allows a model to autonomously invoke functions or externalresources, signaling more agentic behavior where the model decides when totake action. Increased use of tool calling can enhance an agent’s ability tointeract with external systems and perform tasks like writing to databases. \n",
      "LangChain State of AI 2024 Reporthttps://blog.langchain.dev/langchain-state-of-ai-2024/\n",
      "7 of 1230/01/25, 11:58 AM\n",
      "Performance and optimizationBalancing speed and sophistication is a key challenge when developingapplications — especially those leveraging LLM resources. Below, we explorehow organizations are interacting with their applications to align thecomplexity of their needs with efficient performance.Complexity is growing, but tasks are being handledefficiently  The average number of steps per trace has more than doubled over the pastyear, rising from onaverage 2.8 steps (2023) to 7.7 steps (2024). We define astep as a distinct operation within a trace, such as a call to an LLM, retriever, ortool. This growth in steps signals that organizations are leveraging morecomplex and multi-faceted workflows. Rather than a simple question-answerinteraction, users are building systems that chain together multiple tasks, suchas retrieving information, processing it, and generating actionable results.\n",
      "LangChain State of AI 2024 Reporthttps://blog.langchain.dev/langchain-state-of-ai-2024/\n",
      "8 of 1230/01/25, 11:58 AM\n",
      "In contrast, the average number of LLM calls per trace has grown moremodestly— from on average 1.1 to 1.4 LLM calls. This speaks to howdevelopers are designing systems to achieve more with fewer LLM calls,balancing functionality while keeping expensive LLM requests in checkLLM testing & evaluationWhat are organizations doing to test their LLM applications to guard againstinaccurate or low-quality LLM-generated responses? While it’s no easy feat tokeep the quality of your LLM app high, we see organizations usingLangSmith’s evaluation capabilities to automate testing and generate userfeedback loops to create more robust, reliable applications.LLM-as-Judge: Evaluating what mattersLLM-as-Judge evaluators capture grading rules into an LLM prompt and use theLLM to score whether the output adheres to specific criteria. We see developerstesting for these characteristics the most: Relevance, Correctness, ExactMatch, and HelpfulnessThese highlight that most developers are doing coarse checks for responsequality to make sure AI generated outputs don’t completely miss the mark. LangChain State of AI 2024 Reporthttps://blog.langchain.dev/langchain-state-of-ai-2024/\n",
      "9 of 1230/01/25, 11:58 AM\n",
      "quality to make sure AI generated outputs don’t completely miss the mark. \n",
      "Iterating with human feedback Human feedback is a key part of the iteration loop for folks building LLM apps.LangSmith speeds up the process of collecting and incorporating humanfeedback on traces and runs (i.e. spans) – so that users can create rich datasetsfor improvement and optimization. Over the past year, annotated runs grew18x, scaling linearly with growth in LangSmith usage.Feedback volume per run also increased slightly, rising from 2.28 to 2.59feedback entries per run. Still, feedback is relatively sparse per run. Users maybe prioritizing speed in reviewing runs over providing comprehensive feedback,or commenting on only the most critical or problematic runs that needLangChain State of AI 2024 Reporthttps://blog.langchain.dev/langchain-state-of-ai-2024/\n",
      "10 of 1230/01/25, 11:58 AM\n",
      "attention. ConclusionIn 2024, developers leaned into complexity with multi-step agents, sharpenedefficiency by doing more with fewer LLM calls, and added quality checks totheir apps using methods of feedback and evaluation. As more LLM apps arecreated, we’re excited to see how folks dig into smarter workflows, betterperformance, and stronger reliability. Learn more here about how LangSmith can bring more visibility into your LLMapp development and improve performance over time — from debuggingbottlenecks to evaluating response quality to monitoring regressions.  TAGSBy LangChainJOIN OUR NEWSLETTERUpdates from the LangChain team and community\n",
      "YOU MIGHT ALSO LIKEEnter your emailSubscribeLangChain State of AI 2024 Reporthttps://blog.langchain.dev/langchain-state-of-ai-2024/\n",
      "11 of 1230/01/25, 11:58 AM\n",
      "Sign up© LangChain Blog 2025\n",
      "IntroducingOpenTelemetry supportfor LangSmith4 MIN READBY LANGCHAINEasier evaluations withLangSmith SDK v0.24 MIN READBY LANGCHAINLangGraph Platform: Newdeployment options forscalable agentinfrastructure4 MIN READBY LANGCHAINFew-shot prompting toimprove tool-callingperformance8 MIN READBY LANGCHAINImproving core toolinterfaces and docs inLangChain4 MIN READBY LANGCHAINAnnouncing LangGraphv0.1 & LangGraph Cloud:Running agents at scale,reliably6 MIN READBY LANGCHAINLangChain State of AI 2024 Reporthttps://blog.langchain.dev/langchain-state-of-ai-2024/\n",
      "12 of 1230/01/25, 11:58 AM\n"
     ]
    }
   ],
   "source": [
    "print(total_content)"
   ]
  },
  {
   "cell_type": "markdown",
   "metadata": {},
   "source": [
    "## Using Unustructured "
   ]
  },
  {
   "cell_type": "code",
   "execution_count": 21,
   "metadata": {},
   "outputs": [
    {
     "name": "stderr",
     "output_type": "stream",
     "text": [
      "/Users/james/.pyenv/versions/3.10.12/lib/python3.10/site-packages/torch/utils/_pytree.py:185: FutureWarning: optree is installed but the version is too old to support PyTorch Dynamo in C++ pytree. C++ pytree support is disabled. Please consider upgrading optree using `python3 -m pip install --upgrade 'optree>=0.13.0'`.\n",
      "  warnings.warn(\n"
     ]
    }
   ],
   "source": [
    "from langchain_community.document_loaders import UnstructuredPDFLoader\n",
    "\n",
    "loader = UnstructuredPDFLoader(\"documents/langchain-report.pdf\", mode=\"elements\")\n",
    "\n",
    "data = loader.load()\n",
    "\n"
   ]
  },
  {
   "cell_type": "code",
   "execution_count": 31,
   "metadata": {},
   "outputs": [
    {
     "data": {
      "text/plain": [
       "{'id': None,\n",
       " 'metadata': {'source': 'documents/langchain-report.pdf',\n",
       "  'coordinates': {'points': ((0.0, 0.0),\n",
       "    (0.0, 10.0),\n",
       "    (143.019, 10.0),\n",
       "    (143.019, 0.0)),\n",
       "   'system': 'PixelSpace',\n",
       "   'layout_width': 612,\n",
       "   'layout_height': 792},\n",
       "  'file_directory': 'documents',\n",
       "  'filename': 'langchain-report.pdf',\n",
       "  'languages': ['eng'],\n",
       "  'last_modified': '2025-01-30T11:58:07',\n",
       "  'page_number': 1,\n",
       "  'filetype': 'application/pdf',\n",
       "  'category': 'Header',\n",
       "  'element_id': '1da0382d9d88b2293bc96c4a59931468'},\n",
       " 'page_content': 'LangChain State of AI 2024 Report',\n",
       " 'type': 'Document'}"
      ]
     },
     "execution_count": 31,
     "metadata": {},
     "output_type": "execute_result"
    }
   ],
   "source": [
    "data[0].__dict__"
   ]
  },
  {
   "cell_type": "code",
   "execution_count": 33,
   "metadata": {},
   "outputs": [],
   "source": [
    "total_content = \"\\n\".join(document.page_content for document in pages)"
   ]
  },
  {
   "cell_type": "code",
   "execution_count": 34,
   "metadata": {},
   "outputs": [
    {
     "name": "stdout",
     "output_type": "stream",
     "text": [
      "LangChain State of AI 2024 ReportDive into LangSmith product usage patterns that show how the AI ecosystemand the way people are building LLM apps is evolving.BY LANGCHAIN6 MIN READDEC 19, 2024\n",
      "SubscribeLangChain State of AI 2024 Reporthttps://blog.langchain.dev/langchain-state-of-ai-2024/\n",
      "1 of 1230/01/25, 11:58 AM\n",
      "Another year of building with LLMs is coming to an end — and 2024 didn’tdisappoint. With nearly 30k users signing up for LangSmith every month, we’relucky to have front row seats to what’s happening in the industry. As we did last year, we want to share some product usage patterns thatshowcase how the AI ecosystem and practice of building LLM apps are evolving.As folks have traced, evaluated, and iterated their way around LangSmith,we’ve seen a few notable changes. These include the dramatic rise of open-source model adoption and a shift from predominantly retrieval workflows to AIagent applications with multi-step, agentic workflows. Dive into the stats below to learn exactly what developers are building, testing,and prioritizing.Infrastructure usageWith Large Language Models (LLMs) eating the world, everyone’s asking themirror-mirror-on-the-wall question: “Which model is the most utilized of themall?” Let’s unpack what we’ve seen.Top LLM providersLike last year’s results, OpenAI reigns as the most used LLM provider amongLangSmith users — used more than 6x as much as Ollama, the next-mostpopular provider (counted by LangSmith organization usage).\n",
      "LangChain State of AI 2024 Reporthttps://blog.langchain.dev/langchain-state-of-ai-2024/\n",
      "2 of 1230/01/25, 11:58 AM\n",
      "Interestingly, Ollama and Groq (which both allow users to run open sourcemodels, with the former focusing on local execution and the latter on clouddeployment) have accelerated in momentum this year, breaking into the top 5.This shows a growing interest in more flexible deployment options andcustomizable AI infrastructure.\n",
      "LangChain State of AI 2024 Reporthttps://blog.langchain.dev/langchain-state-of-ai-2024/\n",
      "3 of 1230/01/25, 11:58 AM\n",
      "When it comes to providers that offer open-source models, the top providershave stayed relatively consistent compared to last year - Ollama, Mistral, andHugging Face have made it easy for developers to run open source models ontheir platforms. These OSS providers’ collective usage represents 20% of thetop 20 LLM providers (by the number of organizations using them). Top Retrievers / Vector StoresPerforming retrieval is still critical for many GenAI workflows. The top 3 vectorstores have remained the same as last year, with Chroma and FAISS as the mostpopular choices. This year, Milvus, MongoDB, and Elastic’s vector databaseshave also entered the top 10. \n",
      "LangChain State of AI 2024 Reporthttps://blog.langchain.dev/langchain-state-of-ai-2024/\n",
      "4 of 1230/01/25, 11:58 AM\n",
      "Building with LangChain productsAs developers have gained more experience utilizing generative AI, they arealso building more dynamic applications. From the growing sophistication ofworkflows, to the rise of AI agents — we’re seeing a few trends that point to anevolving ecosystem of innovation.\n",
      "Observability isn’t limited to LangChain applications (our open source framework) is central to many folks’ LLMLangChain State of AI 2024 Reporthttps://blog.langchain.dev/langchain-state-of-ai-2024/\n",
      "5 of 1230/01/25, 11:58 AM\n",
      "While langchain (our open source framework) is central to many folks’ LLMapp development journeys, 15.7% of LangSmith traces this year come fromnon-langchainframeworks. This reflects a broader trend where observabilityis needed regardless of what framework you’re using to build the LLM app —and that interoperability is supported by LangSmith.Python remains dominant, while JavaScript usagegrowsDebugging, testing, and monitoring certainly has a special place in our Pythondevelopers’ hearts, with 84.7% usage coming from the Python SDK. But there isa notable and growing interest in JavaScript as developers pursue web-firstapplications — the JavaScript SDK accounts for 15.3% of LangSmith usage thisyear, increasing 3x compared to the previous year. AI agents are gaining tractionAs companies are getting more serious about incorporating AI agents acrossvarious industries, adoption of our controllable agent framework, LangGraph,is also on the rise. Since its release in March 2024, LangGraph has steadilygained traction — with 43% of LangSmith organizations are now sendingLangGraph traces. These traces represent complex, orchestrated tasks that gobeyond basic LLM interactions.\n",
      "LangChain State of AI 2024 Reporthttps://blog.langchain.dev/langchain-state-of-ai-2024/\n",
      "6 of 1230/01/25, 11:58 AM\n",
      "This growth aligns with the rise in agentic behavior: we see that on average21.9% of traces now involve tool calls, up from an average of 0.5% in 2023.Tool calling allows a model to autonomously invoke functions or externalresources, signaling more agentic behavior where the model decides when totake action. Increased use of tool calling can enhance an agent’s ability tointeract with external systems and perform tasks like writing to databases. \n",
      "LangChain State of AI 2024 Reporthttps://blog.langchain.dev/langchain-state-of-ai-2024/\n",
      "7 of 1230/01/25, 11:58 AM\n",
      "Performance and optimizationBalancing speed and sophistication is a key challenge when developingapplications — especially those leveraging LLM resources. Below, we explorehow organizations are interacting with their applications to align thecomplexity of their needs with efficient performance.Complexity is growing, but tasks are being handledefficiently  The average number of steps per trace has more than doubled over the pastyear, rising from onaverage 2.8 steps (2023) to 7.7 steps (2024). We define astep as a distinct operation within a trace, such as a call to an LLM, retriever, ortool. This growth in steps signals that organizations are leveraging morecomplex and multi-faceted workflows. Rather than a simple question-answerinteraction, users are building systems that chain together multiple tasks, suchas retrieving information, processing it, and generating actionable results.\n",
      "LangChain State of AI 2024 Reporthttps://blog.langchain.dev/langchain-state-of-ai-2024/\n",
      "8 of 1230/01/25, 11:58 AM\n",
      "In contrast, the average number of LLM calls per trace has grown moremodestly— from on average 1.1 to 1.4 LLM calls. This speaks to howdevelopers are designing systems to achieve more with fewer LLM calls,balancing functionality while keeping expensive LLM requests in checkLLM testing & evaluationWhat are organizations doing to test their LLM applications to guard againstinaccurate or low-quality LLM-generated responses? While it’s no easy feat tokeep the quality of your LLM app high, we see organizations usingLangSmith’s evaluation capabilities to automate testing and generate userfeedback loops to create more robust, reliable applications.LLM-as-Judge: Evaluating what mattersLLM-as-Judge evaluators capture grading rules into an LLM prompt and use theLLM to score whether the output adheres to specific criteria. We see developerstesting for these characteristics the most: Relevance, Correctness, ExactMatch, and HelpfulnessThese highlight that most developers are doing coarse checks for responsequality to make sure AI generated outputs don’t completely miss the mark. LangChain State of AI 2024 Reporthttps://blog.langchain.dev/langchain-state-of-ai-2024/\n",
      "9 of 1230/01/25, 11:58 AM\n",
      "quality to make sure AI generated outputs don’t completely miss the mark. \n",
      "Iterating with human feedback Human feedback is a key part of the iteration loop for folks building LLM apps.LangSmith speeds up the process of collecting and incorporating humanfeedback on traces and runs (i.e. spans) – so that users can create rich datasetsfor improvement and optimization. Over the past year, annotated runs grew18x, scaling linearly with growth in LangSmith usage.Feedback volume per run also increased slightly, rising from 2.28 to 2.59feedback entries per run. Still, feedback is relatively sparse per run. Users maybe prioritizing speed in reviewing runs over providing comprehensive feedback,or commenting on only the most critical or problematic runs that needLangChain State of AI 2024 Reporthttps://blog.langchain.dev/langchain-state-of-ai-2024/\n",
      "10 of 1230/01/25, 11:58 AM\n",
      "attention. ConclusionIn 2024, developers leaned into complexity with multi-step agents, sharpenedefficiency by doing more with fewer LLM calls, and added quality checks totheir apps using methods of feedback and evaluation. As more LLM apps arecreated, we’re excited to see how folks dig into smarter workflows, betterperformance, and stronger reliability. Learn more here about how LangSmith can bring more visibility into your LLMapp development and improve performance over time — from debuggingbottlenecks to evaluating response quality to monitoring regressions.  TAGSBy LangChainJOIN OUR NEWSLETTERUpdates from the LangChain team and community\n",
      "YOU MIGHT ALSO LIKEEnter your emailSubscribeLangChain State of AI 2024 Reporthttps://blog.langchain.dev/langchain-state-of-ai-2024/\n",
      "11 of 1230/01/25, 11:58 AM\n",
      "Sign up© LangChain Blog 2025\n",
      "IntroducingOpenTelemetry supportfor LangSmith4 MIN READBY LANGCHAINEasier evaluations withLangSmith SDK v0.24 MIN READBY LANGCHAINLangGraph Platform: Newdeployment options forscalable agentinfrastructure4 MIN READBY LANGCHAINFew-shot prompting toimprove tool-callingperformance8 MIN READBY LANGCHAINImproving core toolinterfaces and docs inLangChain4 MIN READBY LANGCHAINAnnouncing LangGraphv0.1 & LangGraph Cloud:Running agents at scale,reliably6 MIN READBY LANGCHAINLangChain State of AI 2024 Reporthttps://blog.langchain.dev/langchain-state-of-ai-2024/\n",
      "12 of 1230/01/25, 11:58 AM\n"
     ]
    }
   ],
   "source": [
    "print(total_content)"
   ]
  },
  {
   "cell_type": "markdown",
   "metadata": {},
   "source": [
    "# Loading Markdown"
   ]
  },
  {
   "cell_type": "code",
   "execution_count": 35,
   "metadata": {},
   "outputs": [],
   "source": [
    "from langchain_community.document_loaders import UnstructuredMarkdownLoader\n",
    "\n",
    "loader = UnstructuredMarkdownLoader(\"documents/readme-langchain.md\", mode=\"elements\")\n",
    "\n",
    "data = loader.load()"
   ]
  },
  {
   "cell_type": "code",
   "execution_count": 36,
   "metadata": {},
   "outputs": [
    {
     "name": "stdout",
     "output_type": "stream",
     "text": [
      "🦜️🔗 LangChain\n",
      "⚡ Build context-aware reasoning applications ⚡\n",
      "Looking for the JS/TS library? Check out LangChain.js.\n",
      "To help you ship LangChain apps to production faster, check out LangSmith. LangSmith is a unified developer platform for building, testing, and monitoring LLM applications. Fill out this form to speak with our sales team.\n",
      "Quick Install\n",
      "With pip:\n",
      "bash pip install langchain\n",
      "With conda:\n",
      "bash conda install langchain -c conda-forge\n",
      "🤔 What is LangChain?\n",
      "LangChain is a framework for developing applications powered by large language models (LLMs).\n",
      "For these applications, LangChain simplifies the entire application lifecycle:\n",
      "Open-source libraries: Build your applications using LangChain's open-source components and third-party integrations. Use LangGraph to build stateful agents with first-class streaming and human-in-the-loop support.\n",
      "Productionization: Inspect, monitor, and evaluate your apps with LangSmith so that you can constantly optimize and deploy with confidence.\n",
      "Deployment: Turn your LangGraph applications into production-ready APIs and Assistants with LangGraph Platform.\n",
      "Open-source libraries\n",
      "langchain-core: Base abstractions.\n",
      "Integration packages (e.g. langchain-openai, langchain-anthropic, etc.): Important integrations have been split into lightweight packages that are co-maintained by the LangChain team and the integration developers.\n",
      "langchain: Chains, agents, and retrieval strategies that make up an application's cognitive architecture.\n",
      "langchain-community: Third-party integrations that are community maintained.\n",
      "LangGraph: LangGraph powers production-grade agents, trusted by Linkedin, Uber, Klarna, GitLab, and many more. Build robust and stateful multi-actor applications with LLMs by modeling steps as edges and nodes in a graph. Integrates smoothly with LangChain, but can be used without it. To learn more about LangGraph, check out our first LangChain Academy course, Introduction to LangGraph, available here.\n",
      "Productionization:\n",
      "LangSmith: A developer platform that lets you debug, test, evaluate, and monitor chains built on any LLM framework and seamlessly integrates with LangChain.\n",
      "Deployment:\n",
      "LangGraph Platform: Turn your LangGraph applications into production-ready APIs and Assistants.\n",
      "🧱 What can you build with LangChain?\n",
      "❓ Question answering with RAG\n",
      "Documentation\n",
      "End-to-end Example: Chat LangChain and repo\n",
      "🧱 Extracting structured output\n",
      "Documentation\n",
      "End-to-end Example: LangChain Extract\n",
      "🤖 Chatbots\n",
      "Documentation\n",
      "End-to-end Example: Web LangChain (web researcher chatbot) and repo\n",
      "And much more! Head to the Tutorials section of the docs for more.\n",
      "🚀 How does LangChain help?\n",
      "The main value props of the LangChain libraries are:\n",
      "Components: composable building blocks, tools and integrations for working with language models. Components are modular and easy-to-use, whether you are using the rest of the LangChain framework or not.\n",
      "Easy orchestration with LangGraph: LangGraph, built on top of langchain-core, has built-in support for messages, tools, and other LangChain abstractions. This makes it easy to combine components into production-ready applications with persistence, streaming, and other key features. Check out the LangChain tutorials page for examples.\n",
      "Components\n",
      "Components fall into the following modules:\n",
      "📃 Model I/O\n",
      "This includes prompt management and a generic interface for chat models, including a consistent interface for tool-calling and structured output across model providers.\n",
      "📚 Retrieval\n",
      "Retrieval Augmented Generation involves loading data from a variety of sources, preparing it, then searching over (a.k.a. retrieving from) it for use in the generation step.\n",
      "🤖 Agents\n",
      "Agents allow an LLM autonomy over how a task is accomplished. Agents make decisions about which Actions to take, then take that Action, observe the result, and repeat until the task is complete. LangGraph makes it easy to use LangChain components to build both custom and built-in LLM agents.\n",
      "📖 Documentation\n",
      "Please see here for full documentation, which includes:\n",
      "Introduction: Overview of the framework and the structure of the docs.\n",
      "Tutorials: If you're looking to build something specific or are more of a hands-on learner, check out our tutorials. This is the best place to get started.\n",
      "How-to guides: Answers to “How do I….?” type questions. These guides are goal-oriented and concrete; they're meant to help you complete a specific task.\n",
      "Conceptual guide: Conceptual explanations of the key parts of the framework.\n",
      "API Reference: Thorough documentation of every class and method.\n",
      "🌐 Ecosystem\n",
      "🦜🛠️ LangSmith: Trace and evaluate your language model applications and intelligent agents to help you move from prototype to production.\n",
      "🦜🕸️ LangGraph: Create stateful, multi-actor applications with LLMs. Integrates smoothly with LangChain, but can be used without it.\n",
      "🦜🕸️ LangGraph Platform: Deploy LLM applications built with LangGraph into production.\n",
      "💁 Contributing\n",
      "As an open-source project in a rapidly developing field, we are extremely open to contributions, whether it be in the form of a new feature, improved infrastructure, or better documentation.\n",
      "For detailed information on how to contribute, see here.\n",
      "🌟 Contributors\n"
     ]
    }
   ],
   "source": [
    "print(\"\\n\".join(element.page_content for element in data))"
   ]
  },
  {
   "cell_type": "markdown",
   "metadata": {},
   "source": [
    "# Loading web pages"
   ]
  },
  {
   "cell_type": "markdown",
   "metadata": {},
   "source": [
    "## Simple and fast"
   ]
  },
  {
   "cell_type": "code",
   "execution_count": 37,
   "metadata": {},
   "outputs": [
    {
     "name": "stderr",
     "output_type": "stream",
     "text": [
      "USER_AGENT environment variable not set, consider setting it to identify your requests.\n"
     ]
    }
   ],
   "source": [
    "import bs4\n",
    "from langchain_community.document_loaders import WebBaseLoader\n",
    "\n",
    "page_url = \"https://python.langchain.com/docs/how_to/chatbots_memory/\"\n",
    "\n",
    "loader = WebBaseLoader(web_paths=[page_url])\n",
    "docs = loader.load()\n"
   ]
  },
  {
   "cell_type": "code",
   "execution_count": 43,
   "metadata": {},
   "outputs": [
    {
     "name": "stdout",
     "output_type": "stream",
     "text": [
      "\n",
      "\n",
      "\n",
      "\n",
      "\n",
      "How to add memory to chatbots | ü¶úÔ∏èüîó LangChain\n",
      "\n",
      "\n",
      "\n",
      "\n",
      "\n",
      "\n",
      "Skip to main contentIntegrationsAPI ReferenceMoreContributingPeopleError referenceLangSmithLangGraphLangChain HubLangChain JS/TSv0.3v0.3v0.2v0.1üí¨SearchIntroductionTutorialsBuild a Question Answering application over a Graph DatabaseTutorialsBuild a simple LLM application with chat models and prompt templatesBuild a ChatbotBuild a Retrieval Augmented Generation (RAG) App: Part 2Build an Extraction ChainBuild an AgentTaggingBuild a Retrieval Augmented Generation (RAG) App: Part 1Build a semantic search engineBuild a Question/Answering system over SQL dataSummarize TextHow-to guidesHow-to guidesHow to use tools in a chainHow to use a vectorstore as a retrieverHow to add memory to chatbotsHow to use example selectorsHow to add a semantic layer over graph databaseHow to invoke runnables in parallelHow to stream chat model responsesHow to add default invocation args to a RunnableHow to add retrieval to chatbotsHow to use few shot examples in chat modelsHow to do tool/function callingHow to install LangChain packagesHow to add examples to the prompt for query analysisHow to use few shot examplesHow to run custom functionsHow to use output parsers to parse an LLM response into structured formatHow to handle cases where no queries are generatedHow to route between sub-chainsHow to return structured data from a modelHow to summarize text through parallelizationHow to summarize text through iterative refinementHow to summarize text in a single LLM callHow to use toolkitsHow to add ad-hoc tool calling capability to LLMs and Chat ModelsBuild an Agent with AgentExecutor (Legacy)How to construct knowledge graphsHow to partially format prompt templatesHow to handle multiple queries when doing query analysisHow to use built-in tools and toolkitsHow to pass through arguments from one step to the nextHow to compose prompts togetherHow to handle multiple retrievers when doing query analysisHow to add values to a chain's stateHow to construct filters for query analysisHow to configure runtime chain internalsHow deal with high cardinality categoricals when doing query analysisCustom Document LoaderHow to use the MultiQueryRetrieverHow to add scores to retriever resultsCachingHow to use callbacks in async environmentsHow to attach callbacks to a runnableHow to propagate callbacks  constructorHow to dispatch custom callback eventsHow to pass callbacks in at runtimeHow to split by characterHow to cache chat model responsesHow to handle rate limitsHow to init any model in one lineHow to track token usage in ChatModelsHow to add tools to chatbotsHow to split codeHow to do retrieval with contextual compressionHow to convert Runnables to ToolsHow to create custom callback handlersHow to create a custom chat model classCustom EmbeddingsHow to create a custom LLM classCustom RetrieverHow to create toolsHow to debug your LLM appsHow to load CSVsHow to load documents from a directoryHow to load HTMLHow to load JSONHow to load MarkdownHow to load Microsoft Office filesHow to load PDFsHow to load web pagesHow to create a dynamic (self-constructing) chainText embedding modelsHow to combine results from multiple retrieversHow to select examples from a LangSmith datasetHow to select examples by lengthHow to select examples by maximal marginal relevance (MMR)How to select examples by n-gram overlapHow to select examples by similarityHow to use reference examples when doing extractionHow to handle long text when doing extractionHow to use prompting alone (no tool calling) to do extractionHow to add fallbacks to a runnableHow to filter messagesHybrid SearchHow to use the LangChain indexing APIHow to inspect runnablesLangChain Expression Language CheatsheetHow to cache LLM responsesHow to track token usage for LLMsRun models locallyHow to get log probabilitiesHow to reorder retrieved results to mitigate the \"lost in the middle\" effectHow to split Markdown by HeadersHow to merge consecutive messages of the same typeHow to add message historyHow to migrate from legacy LangChain agents to LangGraphHow to retrieve using multiple vectors per documentHow to pass multimodal data directly to modelsHow to use multimodal promptsHow to create a custom Output ParserHow to use the output-fixing parserHow to parse JSON outputHow to retry when a parsing error occursHow to parse text from message objectsHow to parse XML outputHow to parse YAML outputHow to use the Parent Document RetrieverHow to use LangChain with different Pydantic versionsHow to add chat historyHow to get a RAG application to add citationsHow to do per-user retrievalHow to get your RAG application to return sourcesHow to stream results from your RAG applicationHow to split JSON dataHow to recursively split text by charactersResponse metadataHow to pass runtime secrets to runnablesHow to do \"self-querying\" retrievalHow to split text based on semantic similarityHow to chain runnablesHow to save and load LangChain objectsHow to split text by tokensHow to split HTMLHow to do question answering over CSVsHow to deal with large databases when doing SQL question-answeringHow to better prompt when doing SQL question-answeringHow to do query validation as part of SQL question-answeringHow to stream runnablesHow to stream responses from an LLMHow to use a time-weighted vector store retrieverHow to return artifacts from a toolHow to use chat models to call toolsHow to disable parallel tool callingHow to force models to call a toolHow to access the RunnableConfig from a toolHow to pass tool outputs to chat modelsHow to pass run time values to toolsHow to stream events from a toolHow to stream tool callsHow to convert tools to OpenAI FunctionsHow to handle tool errorsHow to use few-shot prompting with tool callingHow to add a human-in-the-loop for toolsHow to bind model-specific toolsHow to trim messagesHow to create and query vector storesConceptual guideAgentsArchitectureAsync programming with langchainCallbacksChat historyChat modelsDocument loadersEmbedding modelsEvaluationExample selectorsFew-shot promptingConceptual guideKey-value storesLangChain Expression Language (LCEL)MessagesMultimodalityOutput parsersPrompt TemplatesRetrieval augmented generation (RAG)RetrievalRetrieversRunnable interfaceStreamingStructured outputsTestingString-in, string-out llmsText splittersTokensTool callingToolsTracingVector storesWhy LangChain?Ecosystemü¶úüõ†Ô∏è LangSmithü¶úüï∏Ô∏è LangGraphVersionsv0.3v0.2Pydantic compatibilityMigrating from v0.0 chainsHow to migrate from v0.0 chainsMigrating from ConstitutionalChainMigrating from ConversationalChainMigrating from ConversationalRetrievalChainMigrating from LLMChainMigrating from LLMMathChainMigrating from LLMRouterChainMigrating from MapReduceDocumentsChainMigrating from MapRerankDocumentsChainMigrating from MultiPromptChainMigrating from RefineDocumentsChainMigrating from RetrievalQAMigrating from StuffDocumentsChainUpgrading to LangGraph memoryHow to migrate to LangGraph memoryHow to use BaseChatMessageHistory with LangGraphMigrating off ConversationBufferMemory or ConversationStringBufferMemoryMigrating off ConversationBufferWindowMemory or ConversationTokenBufferMemoryMigrating off ConversationSummaryMemory or ConversationSummaryBufferMemoryA Long-Term Memory AgentRelease policySecurity PolicyHow-to guidesHow to add memory to chatbotsOn this pageHow to add memory to chatbots\n",
      "A key feature of chatbots is their ability to use the content of previous conversational turns as context. This state management can take several forms, including:\n",
      "\n",
      "Simply stuffing previous messages into a chat model prompt.\n",
      "The above, but trimming old messages to reduce the amount of distracting information the model has to deal with.\n",
      "More complex modifications like synthesizing summaries for long running conversations.\n",
      "\n",
      "We'll go into more detail on a few techniques below!\n",
      "noteThis how-to guide previously built a chatbot using RunnableWithMessageHistory. You can access this version of the guide in the v0.2 docs.As of the v0.3 release of LangChain, we recommend that LangChain users take advantage of LangGraph persistence to incorporate memory into new LangChain applications.If your code is already relying on RunnableWithMessageHistory or BaseChatMessageHistory, you do not need to make any changes. We do not plan on deprecating this functionality in the near future as it works for simple chat applications and any code that uses RunnableWithMessageHistory will continue to work as expected.Please see How to migrate to LangGraph Memory for more details.\n",
      "Setup‚Äã\n",
      "You'll need to install a few packages, and have your OpenAI API key set as an environment variable named OPENAI_API_KEY:\n",
      "%pip install --upgrade --quiet langchain langchain-openai langgraphimport getpassimport osif not os.environ.get(\"OPENAI_API_KEY\"):    os.environ[\"OPENAI_API_KEY\"] = getpass.getpass(\"OpenAI API Key:\")\n",
      "OpenAI API Key: ¬∑¬∑¬∑¬∑¬∑¬∑¬∑¬∑\n",
      "Let's also set up a chat model that we'll use for the below examples.\n",
      "from langchain_openai import ChatOpenAImodel = ChatOpenAI(model=\"gpt-4o-mini\")API Reference:ChatOpenAI\n",
      "Message passing‚Äã\n",
      "The simplest form of memory is simply passing chat history messages into a chain. Here's an example:\n",
      "from langchain_core.messages import AIMessage, HumanMessage, SystemMessagefrom langchain_core.prompts import ChatPromptTemplate, MessagesPlaceholderprompt = ChatPromptTemplate.from_messages(    [        SystemMessage(            content=\"You are a helpful assistant. Answer all questions to the best of your ability.\"        ),        MessagesPlaceholder(variable_name=\"messages\"),    ])chain = prompt | modelai_msg = chain.invoke(    {        \"messages\": [            HumanMessage(                content=\"Translate from English to French: I love programming.\"            ),            AIMessage(content=\"J'adore la programmation.\"),            HumanMessage(content=\"What did you just say?\"),        ],    })print(ai_msg.content)API Reference:AIMessage | HumanMessage | SystemMessage | ChatPromptTemplate | MessagesPlaceholder\n",
      "I said, \"I love programming\" in French: \"J'adore la programmation.\"\n",
      "We can see that by passing the previous conversation into a chain, it can use it as context to answer questions. This is the basic concept underpinning chatbot memory - the rest of the guide will demonstrate convenient techniques for passing or reformatting messages.\n",
      "Automatic history management‚Äã\n",
      "The previous examples pass messages to the chain (and model) explicitly. This is a completely acceptable approach, but it does require external management of new messages. LangChain also provides a way to build applications that have memory using LangGraph's persistence. You can enable persistence in LangGraph applications by providing a checkpointer when compiling the graph.\n",
      "from langgraph.checkpoint.memory import MemorySaverfrom langgraph.graph import START, MessagesState, StateGraphworkflow = StateGraph(state_schema=MessagesState)# Define the function that calls the modeldef call_model(state: MessagesState):    system_prompt = (        \"You are a helpful assistant. \"        \"Answer all questions to the best of your ability.\"    )    messages = [SystemMessage(content=system_prompt)] + state[\"messages\"]    response = model.invoke(messages)    return {\"messages\": response}# Define the node and edgeworkflow.add_node(\"model\", call_model)workflow.add_edge(START, \"model\")# Add simple in-memory checkpointermemory = MemorySaver()app = workflow.compile(checkpointer=memory)API Reference:MemorySaver | StateGraph\n",
      "We'll pass the latest input to the conversation here and let LangGraph keep track of the conversation history using the checkpointer:\n",
      "app.invoke(    {\"messages\": [HumanMessage(content=\"Translate to French: I love programming.\")]},    config={\"configurable\": {\"thread_id\": \"1\"}},)\n",
      "{'messages': [HumanMessage(content='Translate to French: I love programming.', additional_kwargs={}, response_metadata={}, id='be5e7099-3149-4293-af49-6b36c8ccd71b'),  AIMessage(content=\"J'aime programmer.\", additional_kwargs={'refusal': None}, response_metadata={'token_usage': {'completion_tokens': 4, 'prompt_tokens': 35, 'total_tokens': 39, 'completion_tokens_details': {'reasoning_tokens': 0}}, 'model_name': 'gpt-4o-mini-2024-07-18', 'system_fingerprint': 'fp_e9627b5346', 'finish_reason': 'stop', 'logprobs': None}, id='run-8a753d7a-b97b-4d01-a661-626be6f41b38-0', usage_metadata={'input_tokens': 35, 'output_tokens': 4, 'total_tokens': 39})]}\n",
      "app.invoke(    {\"messages\": [HumanMessage(content=\"What did I just ask you?\")]},    config={\"configurable\": {\"thread_id\": \"1\"}},)\n",
      "{'messages': [HumanMessage(content='Translate to French: I love programming.', additional_kwargs={}, response_metadata={}, id='be5e7099-3149-4293-af49-6b36c8ccd71b'),  AIMessage(content=\"J'aime programmer.\", additional_kwargs={'refusal': None}, response_metadata={'token_usage': {'completion_tokens': 4, 'prompt_tokens': 35, 'total_tokens': 39, 'completion_tokens_details': {'reasoning_tokens': 0}}, 'model_name': 'gpt-4o-mini-2024-07-18', 'system_fingerprint': 'fp_e9627b5346', 'finish_reason': 'stop', 'logprobs': None}, id='run-8a753d7a-b97b-4d01-a661-626be6f41b38-0', usage_metadata={'input_tokens': 35, 'output_tokens': 4, 'total_tokens': 39}),  HumanMessage(content='What did I just ask you?', additional_kwargs={}, response_metadata={}, id='c667529b-7c41-4cc0-9326-0af47328b816'),  AIMessage(content='You asked me to translate \"I love programming\" into French.', additional_kwargs={'refusal': None}, response_metadata={'token_usage': {'completion_tokens': 13, 'prompt_tokens': 54, 'total_tokens': 67, 'completion_tokens_details': {'reasoning_tokens': 0}}, 'model_name': 'gpt-4o-mini-2024-07-18', 'system_fingerprint': 'fp_1bb46167f9', 'finish_reason': 'stop', 'logprobs': None}, id='run-134a7ea0-d3a4-4923-bd58-25e5a43f6a1f-0', usage_metadata={'input_tokens': 54, 'output_tokens': 13, 'total_tokens': 67})]}\n",
      "Modifying chat history‚Äã\n",
      "Modifying stored chat messages can help your chatbot handle a variety of situations. Here are some examples:\n",
      "Trimming messages‚Äã\n",
      "LLMs and chat models have limited context windows, and even if you're not directly hitting limits, you may want to limit the amount of distraction the model has to deal with. One solution is trim the history messages before passing them to the model. Let's use an example history with the app we declared above:\n",
      "demo_ephemeral_chat_history = [    HumanMessage(content=\"Hey there! I'm Nemo.\"),    AIMessage(content=\"Hello!\"),    HumanMessage(content=\"How are you today?\"),    AIMessage(content=\"Fine thanks!\"),]app.invoke(    {        \"messages\": demo_ephemeral_chat_history        + [HumanMessage(content=\"What's my name?\")]    },    config={\"configurable\": {\"thread_id\": \"2\"}},)\n",
      "{'messages': [HumanMessage(content=\"Hey there! I'm Nemo.\", additional_kwargs={}, response_metadata={}, id='6b4cab70-ce18-49b0-bb06-267bde44e037'),  AIMessage(content='Hello!', additional_kwargs={}, response_metadata={}, id='ba3714f4-8876-440b-a651-efdcab2fcb4c'),  HumanMessage(content='How are you today?', additional_kwargs={}, response_metadata={}, id='08d032c0-1577-4862-a3f2-5c1b90687e21'),  AIMessage(content='Fine thanks!', additional_kwargs={}, response_metadata={}, id='21790e16-db05-4537-9a6b-ecad0fcec436'),  HumanMessage(content=\"What's my name?\", additional_kwargs={}, response_metadata={}, id='c933eca3-5fd8-4651-af16-20fe2d49c216'),  AIMessage(content='Your name is Nemo.', additional_kwargs={'refusal': None}, response_metadata={'token_usage': {'completion_tokens': 5, 'prompt_tokens': 63, 'total_tokens': 68, 'completion_tokens_details': {'reasoning_tokens': 0}}, 'model_name': 'gpt-4o-mini-2024-07-18', 'system_fingerprint': 'fp_1bb46167f9', 'finish_reason': 'stop', 'logprobs': None}, id='run-a0b21acc-9dbb-4fb6-a953-392020f37d88-0', usage_metadata={'input_tokens': 63, 'output_tokens': 5, 'total_tokens': 68})]}\n",
      "We can see the app remembers the preloaded name.\n",
      "But let's say we have a very small context window, and we want to trim the number of messages passed to the model to only the 2 most recent ones. We can use the built in trim_messages util to trim messages based on their token count before they reach our prompt. In this case we'll count each message as 1 \"token\" and keep only the last two messages:\n",
      "from langchain_core.messages import trim_messagesfrom langgraph.checkpoint.memory import MemorySaverfrom langgraph.graph import START, MessagesState, StateGraph# Define trimmer# count each message as 1 \"token\" (token_counter=len) and keep only the last two messagestrimmer = trim_messages(strategy=\"last\", max_tokens=2, token_counter=len)workflow = StateGraph(state_schema=MessagesState)# Define the function that calls the modeldef call_model(state: MessagesState):    trimmed_messages = trimmer.invoke(state[\"messages\"])    system_prompt = (        \"You are a helpful assistant. \"        \"Answer all questions to the best of your ability.\"    )    messages = [SystemMessage(content=system_prompt)] + trimmed_messages    response = model.invoke(messages)    return {\"messages\": response}# Define the node and edgeworkflow.add_node(\"model\", call_model)workflow.add_edge(START, \"model\")# Add simple in-memory checkpointermemory = MemorySaver()app = workflow.compile(checkpointer=memory)API Reference:trim_messages | MemorySaver | StateGraph\n",
      "Let's call this new app and check the response\n",
      "app.invoke(    {        \"messages\": demo_ephemeral_chat_history        + [HumanMessage(content=\"What is my name?\")]    },    config={\"configurable\": {\"thread_id\": \"3\"}},)\n",
      "{'messages': [HumanMessage(content=\"Hey there! I'm Nemo.\", additional_kwargs={}, response_metadata={}, id='6b4cab70-ce18-49b0-bb06-267bde44e037'),  AIMessage(content='Hello!', additional_kwargs={}, response_metadata={}, id='ba3714f4-8876-440b-a651-efdcab2fcb4c'),  HumanMessage(content='How are you today?', additional_kwargs={}, response_metadata={}, id='08d032c0-1577-4862-a3f2-5c1b90687e21'),  AIMessage(content='Fine thanks!', additional_kwargs={}, response_metadata={}, id='21790e16-db05-4537-9a6b-ecad0fcec436'),  HumanMessage(content='What is my name?', additional_kwargs={}, response_metadata={}, id='a22ab7c5-8617-4821-b3e9-a9e7dca1ff78'),  AIMessage(content=\"I'm sorry, but I don't have access to personal information about you unless you share it with me. How can I assist you today?\", additional_kwargs={'refusal': None}, response_metadata={'token_usage': {'completion_tokens': 27, 'prompt_tokens': 39, 'total_tokens': 66, 'completion_tokens_details': {'reasoning_tokens': 0}}, 'model_name': 'gpt-4o-mini-2024-07-18', 'system_fingerprint': 'fp_1bb46167f9', 'finish_reason': 'stop', 'logprobs': None}, id='run-f7b32d72-9f57-4705-be7e-43bf1c3d293b-0', usage_metadata={'input_tokens': 39, 'output_tokens': 27, 'total_tokens': 66})]}\n",
      "We can see that trim_messages was called and only the two most recent messages will be passed to the model. In this case, this means that the model forgot the name we gave it.\n",
      "Check out our how to guide on trimming messages for more.\n",
      "Summary memory‚Äã\n",
      "We can use this same pattern in other ways too. For example, we could use an additional LLM call to generate a summary of the conversation before calling our app. Let's recreate our chat history:\n",
      "demo_ephemeral_chat_history = [    HumanMessage(content=\"Hey there! I'm Nemo.\"),    AIMessage(content=\"Hello!\"),    HumanMessage(content=\"How are you today?\"),    AIMessage(content=\"Fine thanks!\"),]\n",
      "And now, let's update the model-calling function to distill previous interactions into a summary:\n",
      "from langchain_core.messages import HumanMessage, RemoveMessagefrom langgraph.checkpoint.memory import MemorySaverfrom langgraph.graph import START, MessagesState, StateGraphworkflow = StateGraph(state_schema=MessagesState)# Define the function that calls the modeldef call_model(state: MessagesState):    system_prompt = (        \"You are a helpful assistant. \"        \"Answer all questions to the best of your ability. \"        \"The provided chat history includes a summary of the earlier conversation.\"    )    system_message = SystemMessage(content=system_prompt)    message_history = state[\"messages\"][:-1]  # exclude the most recent user input    # Summarize the messages if the chat history reaches a certain size    if len(message_history) >= 4:        last_human_message = state[\"messages\"][-1]        # Invoke the model to generate conversation summary        summary_prompt = (            \"Distill the above chat messages into a single summary message. \"            \"Include as many specific details as you can.\"        )        summary_message = model.invoke(            message_history + [HumanMessage(content=summary_prompt)]        )        # Delete messages that we no longer want to show up        delete_messages = [RemoveMessage(id=m.id) for m in state[\"messages\"]]        # Re-add user message        human_message = HumanMessage(content=last_human_message.content)        # Call the model with summary & response        response = model.invoke([system_message, summary_message, human_message])        message_updates = [summary_message, human_message, response] + delete_messages    else:        message_updates = model.invoke([system_message] + state[\"messages\"])    return {\"messages\": message_updates}# Define the node and edgeworkflow.add_node(\"model\", call_model)workflow.add_edge(START, \"model\")# Add simple in-memory checkpointermemory = MemorySaver()app = workflow.compile(checkpointer=memory)API Reference:HumanMessage | RemoveMessage | MemorySaver | StateGraph\n",
      "Let's see if it remembers the name we gave it:\n",
      "app.invoke(    {        \"messages\": demo_ephemeral_chat_history        + [HumanMessage(\"What did I say my name was?\")]    },    config={\"configurable\": {\"thread_id\": \"4\"}},)\n",
      "{'messages': [AIMessage(content=\"Nemo greeted me, and I responded positively, indicating that I'm doing well.\", additional_kwargs={'refusal': None}, response_metadata={'token_usage': {'completion_tokens': 16, 'prompt_tokens': 60, 'total_tokens': 76, 'completion_tokens_details': {'reasoning_tokens': 0}}, 'model_name': 'gpt-4o-mini-2024-07-18', 'system_fingerprint': 'fp_1bb46167f9', 'finish_reason': 'stop', 'logprobs': None}, id='run-ee42f98d-907d-4bad-8f16-af2db789701d-0', usage_metadata={'input_tokens': 60, 'output_tokens': 16, 'total_tokens': 76}),  HumanMessage(content='What did I say my name was?', additional_kwargs={}, response_metadata={}, id='788555ea-5b1f-4c29-a2f2-a92f15d147be'),  AIMessage(content='You mentioned that your name is Nemo.', additional_kwargs={'refusal': None}, response_metadata={'token_usage': {'completion_tokens': 8, 'prompt_tokens': 67, 'total_tokens': 75, 'completion_tokens_details': {'reasoning_tokens': 0}}, 'model_name': 'gpt-4o-mini-2024-07-18', 'system_fingerprint': 'fp_1bb46167f9', 'finish_reason': 'stop', 'logprobs': None}, id='run-099a43bd-a284-4969-bb6f-0be486614cd8-0', usage_metadata={'input_tokens': 67, 'output_tokens': 8, 'total_tokens': 75})]}\n",
      "Note that invoking the app again will keep accumulating the history until it reaches the specified number of messages (four in our case). At that point we will generate another summary generated from the initial summary plus new messages and so on.Edit this pageWas this page helpful?PreviousHow to use a vectorstore as a retrieverNextHow to use example selectorsSetupMessage passingAutomatic history managementModifying chat historyTrimming messagesSummary memoryCommunityTwitterGitHubOrganizationPythonJS/TSMoreHomepageBlogYouTubeCopyright ¬© 2025 LangChain, Inc.\n",
      "\n",
      "\n"
     ]
    }
   ],
   "source": [
    "print(docs[0].page_content)"
   ]
  },
  {
   "cell_type": "markdown",
   "metadata": {},
   "source": [
    "## Advanced parsing"
   ]
  },
  {
   "cell_type": "code",
   "execution_count": 42,
   "metadata": {},
   "outputs": [],
   "source": [
    "from langchain_unstructured import UnstructuredLoader\n",
    "\n",
    "page_url = \"https://python.langchain.com/docs/how_to/chatbots_memory/\"\n",
    "loader = UnstructuredLoader(web_url=page_url)\n",
    "\n",
    "docs = []\n",
    "async for doc in loader.alazy_load():\n",
    "    docs.append(doc)"
   ]
  },
  {
   "cell_type": "code",
   "execution_count": null,
   "metadata": {},
   "outputs": [],
   "source": [
    "docs"
   ]
  },
  {
   "cell_type": "markdown",
   "metadata": {},
   "source": [
    "## Loading PPTs"
   ]
  },
  {
   "cell_type": "code",
   "execution_count": 44,
   "metadata": {},
   "outputs": [],
   "source": [
    "from langchain_community.document_loaders.powerpoint import UnstructuredPowerPointLoader\n",
    "\n",
    "\n",
    "loader = UnstructuredPowerPointLoader(\"documents/prompts.pptx\")\n",
    "\n",
    "data = loader.load()"
   ]
  },
  {
   "cell_type": "code",
   "execution_count": 46,
   "metadata": {},
   "outputs": [
    {
     "name": "stdout",
     "output_type": "stream",
     "text": [
      "Creación de Aplicaciones con IA\n",
      "\n",
      "\n",
      "\n",
      "James Espichan Vilca\n",
      "\n",
      "Staff Machine Learning Engineer @ Latam Airlines\n",
      "\n",
      "Building Generative AI Application from PoC to Production\n",
      "\n",
      "Langchain Contributor\n",
      "\n",
      "jamesev15\n",
      "\n",
      "\n",
      "\n",
      "Introducción al desarrollo con IA Generativa: \n",
      "\n",
      "Tema:\n",
      "\n",
      "Buenas prácticas de Prompts\n",
      "\n",
      "Zero-shot, one-shot y Few-shot prompting\n",
      "\n",
      "CoT Prompting\n",
      "\n",
      "Iteraciones\n",
      "\n",
      "Roleplay\n",
      "\n",
      "Knowledge Generation-Integration\n",
      "\n",
      "Hiperparámetros\n",
      "\n",
      "\n",
      "\n",
      "Buenas Prácticas de Prompts\n",
      "\n",
      "\n",
      "\n",
      "Buenas prácticas de Prompts\n",
      "\n",
      "Siempre es mejor escribir instrucciones claras\n",
      "\n",
      "Si la información que se busca obtener no está dentro de los datos de entrenamiento del modelo, es mejor ofrecer un texto de referencia al modelo\n",
      "\n",
      "Los modelos son buenos resolviendo problemas complejos, pero todo tiene su límite. Si el problema es muy complejo, se sugiere dividir el problema en sub-problemas más sencillos\n",
      "\n",
      "Si la respuesta involucra pasos lógicos complejos, se le puede instruir a la LLM como debe razonar, de esa forma \"se le da tiempo a la LLM para pensar\"\n",
      "\n",
      "Las fuentes de datos externas como base de datos, APIs, documentos son puntos de referencia para obtener respuestas acordes a las preguntas del usuario que no puedan ser respondidas satisfactoriamente por la LLM. De esta forma se evitan alucinaciones\n",
      "\n",
      "\n",
      "\n",
      "Buenas prácticas de prompts\n",
      "\n",
      "Write clear instructions\n",
      "\n",
      "\n",
      "\n",
      "Buenas prácticas de prompts\n",
      "\n",
      "Use delimiters\n",
      "\n",
      "\n",
      "\n",
      "Buenas prácticas de prompts\n",
      "\n",
      "Divide tasks in simple sub-tasks\n",
      "\n",
      "\n",
      "\n",
      "Buenas prácticas de prompts\n",
      "\n",
      "Texto de Referencia\n",
      "\n",
      "\n",
      "\n",
      "Zero shot, One shot and Few shot\n",
      "\n",
      "\n",
      "\n",
      "Definiciones\n",
      "\n",
      "Zero shot: el modelo tiene la capacidad de realizar una tarea de forma inherente sin necesidad de tener ejemplos como referencia.\n",
      "\n",
      "One shot: el modelo tiene la capacidad de realizar la tarea con un solo ejemplo provisto por el usuario.\n",
      "\n",
      "Few shots: el modelo tiene la capacidad de realizar la tarea con una cantidad de ejemplos provistos por el usuario. Estos ejemplos le permiten al modelo comprender la intención subyacente del usuario.\n",
      "\n",
      "\n",
      "\n",
      "How many examples are required?\n",
      "\n",
      "Number of examples\n",
      "\n",
      "Prompt \n",
      "\n",
      "+ Examples\n",
      "\n",
      "\n",
      "\n",
      "CoT Prompting\n",
      "\n",
      "\n",
      "\n",
      "CoT Prompting\n",
      "\n",
      "Chain of Thought (CoT) prompting es una técnica utilizada en LLMs para mejorar su capacidad de razonar, descomponiendo problemas complejos en pasos lógicos más pequeños y manejables.\n",
      "\n",
      "Se busca que el modelo desarrolle una secuencia lógica de ideas que expliquen como se llega a la respuesta final, para esto se usan ejemplos de entrenamiento.\n",
      "\n",
      "\n",
      "\n",
      "CoT Prompting\n",
      "\n",
      "Prompt vs CoT Prompt\n",
      "\n",
      "\n",
      "\n",
      "Roleplay\n",
      "\n",
      "\n",
      "\n",
      "RolePlay\n",
      "\n",
      "Es una técnica mediante la cual el modelo o LLM adopta una personalidad o personaje.\n",
      "\n",
      "La adopción de esta personalidad hace que las respuestas que generen sean acordes a esa identidad\n",
      "\n",
      "Ejemplos: Profesor de inglés, Preparador de entrevistas, Terminal de Linux\n",
      "\n",
      "\n",
      "\n",
      "Knowledge Generation - Integration\n",
      "\n",
      "\n",
      "\n",
      "Knowledge Generation\n",
      "\n",
      "Proceso mediante el cual las LLMs generan información nueva a partir de los datos históricos con los que fueron entrenados.\n",
      "\n",
      "La cantidad de información con la que fue entrenada la LLM le permite comprender las relaciones complejas del lenguaje.\n",
      "\n",
      "Esto permite tener tareas como resúmenes, traducciones, generación de código\n",
      "\n",
      "Limitaciones: Alucinaciones y sesgos\n",
      "\n",
      "\n",
      "\n",
      "Knowledge Generation\n",
      "\n",
      "Knowledge Generation\n",
      "\n",
      "\n",
      "\n",
      "Knowledge Integration\n",
      "\n",
      "Proceso mediante el cual las LLMs combinan conocimiento pre-existente con información nueva o contextual\n",
      "\n",
      "Se incorpora información nueva desde herramientas externas como bases de datos, APIs.\n",
      "\n",
      "Esto genera que las respuesta sean basadas en contexto, reduciendo las alucinaciones de la LLM\n",
      "\n",
      "Se pude incluir información en tiempo real debido al cut-off de datos de training para el modelo.\n",
      "\n",
      "\n",
      "\n",
      "Knowledge Integration\n",
      "\n",
      "Knowledge Integration\n",
      "\n",
      "\n",
      "\n",
      "Hiper parámetros\n",
      "\n",
      "\n",
      "\n",
      "Large Language Models - Temperature\n",
      "\n",
      "Temperature: Controla el randomness, valores bajos generan salidas deterministas y repetitivas. Este parámetro cambia la forma de la distribución probabilística.\u000b\n",
      "\n",
      "Temperature\n",
      "\n",
      "\n",
      "\n",
      "Large Language Models - Top p and Top k\n",
      "\n",
      "Top p: Probabilidad acumulada que permite filtrar que tokens serán elegidos por el modelo\n",
      "\n",
      "Top k: Número de tokens que permite filtrar la cantidad de opciones que podrán ser elegidas por el modelo\u000b\n",
      "\n",
      "Top p – Top k\n"
     ]
    }
   ],
   "source": [
    "print(data[0].page_content)"
   ]
  },
  {
   "cell_type": "markdown",
   "metadata": {},
   "source": [
    "# Load youtube videos"
   ]
  },
  {
   "cell_type": "code",
   "execution_count": 47,
   "metadata": {},
   "outputs": [],
   "source": [
    "from langchain_community.document_loaders import YoutubeLoader\n",
    "\n",
    "loader = YoutubeLoader.from_youtube_url(\n",
    "    \"https://www.youtube.com/watch?v=QsYGlZkevEg\", add_video_info=False\n",
    ")"
   ]
  },
  {
   "cell_type": "code",
   "execution_count": 48,
   "metadata": {},
   "outputs": [],
   "source": [
    "data = loader.load()"
   ]
  },
  {
   "cell_type": "code",
   "execution_count": 49,
   "metadata": {},
   "outputs": [
    {
     "name": "stdout",
     "output_type": "stream",
     "text": [
      "LADIES AND GENTLEMEN, PEDRO PASCAL! [ CHEERS AND APPLAUSE ] >> THANK YOU, THANK YOU. THANK YOU VERY MUCH. I'M SO EXCITED TO BE HERE. THANK YOU. I SPENT THE LAST YEAR SHOOTING A SHOW CALLED \"THE LAST OF US\" ON HBO. FOR SOME HBO SHOES, YOU GET TO SHOOT IN A FIVE STAR ITALIAN RESORT SURROUNDED BY BEAUTIFUL PEOPLE, BUT I SAID, NO, THAT'S TOO EASY. I WANT TO SHOOT IN A FREEZING CANADIAN FOREST WHILE BEING CHASED AROUND BY A GUY WHOSE HEAD LOOKS LIKE A GENITAL WART. IT IS AN HONOR BEING A PART OF THESE HUGE FRANCHISEs LIKE \"GAME OF THRONES\" AND \"STAR WARS,\" BUT I'M STILL GETTING USED TO PEOPLE RECOGNIZING ME. THE OTHER DAY, A GUY STOPPED ME ON THE STREET AND SAYS, MY SON LOVES \"THE MANDALORIAN\" AND THE NEXT THING I KNOW, I'M FACE TIMING WITH A 6-YEAR-OLD WHO HAS NO IDEA WHO I AM BECAUSE MY CHARACTER WEARS A MASK THE ENTIRE SHOW. THE GUY IS LIKE, DO THE MANDO VOICE, BUT IT'S LIKE A BEDROOM VOICE. WITHOUT THE MASK, IT JUST SOUNDS PORNY. PEOPLE WALKING BY ON THE STREET SEE ME WHISPERING TO A 6-YEAR-OLD KID. I CAN BRING YOU IN WARM, OR I CAN BRING YOU IN COLD. EVEN THOUGH I CAME TO THE U.S. WHEN I WAS LITTLE, I WAS BORN IN CHILE, AND I HAVE 34 FIRST COUSINS WHO ARE STILL THERE. THEY'RE VERY PROUD OF ME. I KNOW THEY'RE PROUD BECAUSE THEY GIVE MY PHONE NUMBER TO EVERY PERSON THEY MEET, WHICH MEANS EVERY DAY, SOMEONE IN SANTIAGO WILL TEXT ME STUFF LIKE, CAN YOU COME TO MY WEDDING, OR CAN YOU SING MY PRIEST HAPPY BIRTHDAY, OR IS BABY YODA MEAN IN REAL LIFE. SO I HAVE TO BE LIKE NO, NO, AND HIS NAME IS GROGU. BUT MY COUSINS WEREN'T ALWAYS SO PROUD. EARLY IN MY CAREER, I PLAYED SMALL PARTS IN EVERY CRIME SHOW. I EVEN PLAYED TWO DIFFERENT CHARACTERS ON \"LAW AND ORDER.\" TITO CABASSA WHO LOOKED LIKE THIS. AND ONE YEAR LATER, I PLAYED REGGIE LUCKMAN WHO LOOKS LIKE THIS. AND THAT, MY FRIENDS, IS CALLED RANGE. BUT IT IS AMAZING TO BE HERE, LIKE I SAID. I WAS BORN IN CHILE, AND NINE MONTHS LATER, MY PARENTS FLED AND BROUGHT ME AND MY SISTER TO THE U.S. THEY WERE SO BRAVE, AND WITHOUT THEM, I WOULDN'T BE HERE IN THIS WONDERFUL COUNTRY, AND I CERTAINLY WOULDN'T BE STANDING HERE WITH YOU ALL TONIGHT. SO TO ALL MY FAMILY WATCHING IN CHILE, I WANT TO SAY [ SPEAKING NON-ENGLISH ] WHICH MEANS, I LOVE YOU, I MISS YOU, AND STOP GIVING OUT MY PHONE NUMBER. WE'VE GOT AN AMAZING SHOW FOR YOU TONIGHT. COLDPLAY IS HERE, SO STICK\n"
     ]
    }
   ],
   "source": [
    "print(data[0].page_content)"
   ]
  }
 ],
 "metadata": {
  "kernelspec": {
   "display_name": "Python 3",
   "language": "python",
   "name": "python3"
  },
  "language_info": {
   "codemirror_mode": {
    "name": "ipython",
    "version": 3
   },
   "file_extension": ".py",
   "mimetype": "text/x-python",
   "name": "python",
   "nbconvert_exporter": "python",
   "pygments_lexer": "ipython3",
   "version": "3.10.12"
  }
 },
 "nbformat": 4,
 "nbformat_minor": 2
}
