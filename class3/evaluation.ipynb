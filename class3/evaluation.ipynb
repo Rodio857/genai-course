{
 "cells": [
  {
   "cell_type": "code",
   "execution_count": 1,
   "metadata": {},
   "outputs": [],
   "source": [
    "import pandas as pd\n",
    "\n",
    "\n",
    "df = pd.read_csv(\"examples_10.csv\")"
   ]
  },
  {
   "cell_type": "code",
   "execution_count": 2,
   "metadata": {},
   "outputs": [
    {
     "data": {
      "text/html": [
       "<div>\n",
       "<style scoped>\n",
       "    .dataframe tbody tr th:only-of-type {\n",
       "        vertical-align: middle;\n",
       "    }\n",
       "\n",
       "    .dataframe tbody tr th {\n",
       "        vertical-align: top;\n",
       "    }\n",
       "\n",
       "    .dataframe thead th {\n",
       "        text-align: right;\n",
       "    }\n",
       "</style>\n",
       "<table border=\"1\" class=\"dataframe\">\n",
       "  <thead>\n",
       "    <tr style=\"text-align: right;\">\n",
       "      <th></th>\n",
       "      <th>Category</th>\n",
       "      <th>Text</th>\n",
       "    </tr>\n",
       "  </thead>\n",
       "  <tbody>\n",
       "    <tr>\n",
       "      <th>0</th>\n",
       "      <td>Billing</td>\n",
       "      <td>What is this charge on my bill?</td>\n",
       "    </tr>\n",
       "    <tr>\n",
       "      <th>1</th>\n",
       "      <td>Account</td>\n",
       "      <td>I can't log in to my account.</td>\n",
       "    </tr>\n",
       "    <tr>\n",
       "      <th>2</th>\n",
       "      <td>Billing</td>\n",
       "      <td>Can I update my credit card details?</td>\n",
       "    </tr>\n",
       "    <tr>\n",
       "      <th>3</th>\n",
       "      <td>Features</td>\n",
       "      <td>Where can I find the settings for notifications?</td>\n",
       "    </tr>\n",
       "    <tr>\n",
       "      <th>4</th>\n",
       "      <td>Features</td>\n",
       "      <td>Where can I find the settings for notifications?</td>\n",
       "    </tr>\n",
       "  </tbody>\n",
       "</table>\n",
       "</div>"
      ],
      "text/plain": [
       "   Category                                              Text\n",
       "0   Billing                   What is this charge on my bill?\n",
       "1   Account                     I can't log in to my account.\n",
       "2   Billing              Can I update my credit card details?\n",
       "3  Features  Where can I find the settings for notifications?\n",
       "4  Features  Where can I find the settings for notifications?"
      ]
     },
     "execution_count": 2,
     "metadata": {},
     "output_type": "execute_result"
    }
   ],
   "source": [
    "df.head()"
   ]
  },
  {
   "cell_type": "code",
   "execution_count": 3,
   "metadata": {},
   "outputs": [],
   "source": [
    "from dotenv import load_dotenv\n",
    "\n",
    "load_dotenv()\n",
    "\n",
    "import os\n",
    "\n",
    "api_key = os.getenv(\"TOGETHER_API_KEY\")\n",
    "\n",
    "from together import Together\n",
    "\n",
    "client = Together(api_key=api_key)"
   ]
  },
  {
   "cell_type": "code",
   "execution_count": 4,
   "metadata": {},
   "outputs": [],
   "source": [
    "SYSTEM_PROMPT = \"\"\"You are an expert doing user request classification\n",
    "\n",
    "You are given a user request and you need to classify it into one of the following categories:\n",
    "\n",
    "1. Account: The user is asking for help with their account\n",
    "2. Billing: The user is asking for help with billing\n",
    "3. Features: The user is asking for help with features\n",
    "4. General: The user is asking for help with something else\n",
    "\n",
    "\n",
    "<Example 1>\n",
    "User request: I am having trouble logging in\n",
    "Category: Account\n",
    "</Example 1>\n",
    "\n",
    "<Example 2>\n",
    "User request: I am having trouble with my payment\n",
    "Category: Billing\n",
    "</Example 2>\n",
    "\n",
    "<Example 3>\n",
    "User request: I am having trouble with a feature\n",
    "Category: Features\n",
    "</Example 3>\n",
    "\"\"\"\n",
    "\n",
    "USER_PROMPT = \"{user_request} Category:\"\n",
    "\n",
    "\n",
    "def obtain_category(user_request):\n",
    "    response = client.chat.completions.create(\n",
    "        model=\"google/gemma-2-27b-it\",\n",
    "        messages=[\n",
    "            {\n",
    "                \"role\": \"system\",\n",
    "                \"content\": SYSTEM_PROMPT,\n",
    "            },\n",
    "            {\n",
    "                \"role\": \"user\",\n",
    "                \"content\": USER_PROMPT.format(user_request=user_request),\n",
    "            }\n",
    "        ],\n",
    "        max_tokens=None,\n",
    "        temperature=0.1,\n",
    "        top_p=0.7,\n",
    "        top_k=50,\n",
    "        repetition_penalty=1,\n",
    "        stop=[\"<eos>\", \"<end_of_turn>\"],\n",
    "    )\n",
    "\n",
    "    return response.choices[0].message.content\n"
   ]
  },
  {
   "cell_type": "code",
   "execution_count": 5,
   "metadata": {},
   "outputs": [],
   "source": [
    "df[\"predicted_category\"] = df[\"Text\"].map(obtain_category)"
   ]
  },
  {
   "cell_type": "code",
   "execution_count": 7,
   "metadata": {},
   "outputs": [
    {
     "data": {
      "text/plain": [
       "0                                           Billing \\n\n",
       "1                             Category: **Account** \\n\n",
       "2                             Category: **Billing** \\n\n",
       "3    Category: **Features** \\n\\nThis request is abo...\n",
       "4    Category: **Features** \\n\\nThis request is abo...\n",
       "5                             Category: **Account** \\n\n",
       "6                             Category: **Account** \\n\n",
       "7                                           Billing \\n\n",
       "8                             Category: **Account** \\n\n",
       "Name: predicted_category, dtype: object"
      ]
     },
     "execution_count": 7,
     "metadata": {},
     "output_type": "execute_result"
    }
   ],
   "source": [
    "df[\"predicted_category\"].head(10)"
   ]
  },
  {
   "cell_type": "code",
   "execution_count": 8,
   "metadata": {},
   "outputs": [
    {
     "data": {
      "text/plain": [
       "0     Billing\n",
       "1     Account\n",
       "2     Billing\n",
       "3    Features\n",
       "4    Features\n",
       "5     Account\n",
       "6     Account\n",
       "7     Billing\n",
       "8     Account\n",
       "Name: Category, dtype: object"
      ]
     },
     "execution_count": 8,
     "metadata": {},
     "output_type": "execute_result"
    }
   ],
   "source": [
    "df[\"Category\"]"
   ]
  },
  {
   "cell_type": "code",
   "execution_count": null,
   "metadata": {},
   "outputs": [],
   "source": []
  }
 ],
 "metadata": {
  "kernelspec": {
   "display_name": "Python 3",
   "language": "python",
   "name": "python3"
  },
  "language_info": {
   "codemirror_mode": {
    "name": "ipython",
    "version": 3
   },
   "file_extension": ".py",
   "mimetype": "text/x-python",
   "name": "python",
   "nbconvert_exporter": "python",
   "pygments_lexer": "ipython3",
   "version": "3.10.12"
  }
 },
 "nbformat": 4,
 "nbformat_minor": 2
}
