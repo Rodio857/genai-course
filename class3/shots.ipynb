{
 "cells": [
  {
   "cell_type": "markdown",
   "metadata": {},
   "source": [
    "# Load Api Key\n"
   ]
  },
  {
   "cell_type": "code",
   "execution_count": 1,
   "metadata": {},
   "outputs": [
    {
     "data": {
      "text/plain": [
       "True"
      ]
     },
     "execution_count": 1,
     "metadata": {},
     "output_type": "execute_result"
    }
   ],
   "source": [
    "from dotenv import load_dotenv\n",
    "\n",
    "load_dotenv()"
   ]
  },
  {
   "cell_type": "code",
   "execution_count": 2,
   "metadata": {},
   "outputs": [],
   "source": [
    "import os\n",
    "\n",
    "api_key = os.getenv(\"TOGETHER_API_KEY\")"
   ]
  },
  {
   "cell_type": "markdown",
   "metadata": {},
   "source": [
    "# Create a Client"
   ]
  },
  {
   "cell_type": "code",
   "execution_count": 3,
   "metadata": {},
   "outputs": [],
   "source": [
    "from together import Together\n",
    "\n",
    "client = Together(api_key=api_key)"
   ]
  },
  {
   "cell_type": "markdown",
   "metadata": {},
   "source": [
    "# Zero shot classification"
   ]
  },
  {
   "cell_type": "code",
   "execution_count": 9,
   "metadata": {},
   "outputs": [
    {
     "data": {
      "text/plain": [
       "'This request falls under the **Account** category, as the user is experiencing issues with logging into their account.'"
      ]
     },
     "execution_count": 9,
     "metadata": {},
     "output_type": "execute_result"
    }
   ],
   "source": [
    "SYSTEM_PROMPT = \"\"\"\n",
    "<PERSONA>\n",
    "You are an expert doing user request classification\n",
    "</PERSONA>\n",
    "\n",
    "<TASK>\n",
    "You are given a user request and you need to classify it into one of the following categories:\n",
    "</TASK>\n",
    "\n",
    "<CATEGORIES>\n",
    "1. Account: The user is asking for help with their account\n",
    "2. Billing: The user is asking for help with billing\n",
    "3. Features: The user is asking for help with features\n",
    "4. General: The user is asking for help with something else\n",
    "</CATEGORIES>\n",
    "\n",
    "\"\"\"\n",
    "\n",
    "USER_PROMPT = \"{user_request}\"\n",
    "\n",
    "response = client.chat.completions.create(\n",
    "    model=\"deepseek-ai/DeepSeek-V3\",\n",
    "    messages=[\n",
    "        {\n",
    "            \"role\": \"system\",\n",
    "            \"content\": SYSTEM_PROMPT,\n",
    "        },\n",
    "        {\n",
    "            \"role\": \"user\",\n",
    "            \"content\": USER_PROMPT.format(user_request=\"I am having trouble logging in\"),\n",
    "        }\n",
    "    ],\n",
    "    max_tokens=512,\n",
    "    temperature=0.7,\n",
    "    top_p=0.7,\n",
    "    top_k=50,\n",
    "    repetition_penalty=1,\n",
    "    stop=[\"<｜end▁of▁sentence｜>\"],\n",
    ")\n",
    "\n",
    "response.choices[0].message.content\n"
   ]
  },
  {
   "cell_type": "markdown",
   "metadata": {},
   "source": [
    "# Few Shot Classification"
   ]
  },
  {
   "cell_type": "code",
   "execution_count": 15,
   "metadata": {},
   "outputs": [
    {
     "data": {
      "text/plain": [
       "'Account'"
      ]
     },
     "execution_count": 15,
     "metadata": {},
     "output_type": "execute_result"
    }
   ],
   "source": [
    "SYSTEM_PROMPT = \"\"\"\n",
    "<PERSONA>\n",
    "You are an expert doing user request classification\n",
    "</PERSONA>\n",
    "\n",
    "<TASK>\n",
    "You are given a user request and you need to classify it into one of the following categories:\n",
    "</TASK>\n",
    "\n",
    "\n",
    "<CATEGORIES>\n",
    "1. Account: The user is asking for help with their account\n",
    "2. Billing: The user is asking for help with billing\n",
    "3. Features: The user is asking for help with features\n",
    "4. General: The user is asking for help with something else\n",
    "</CATEGORIES>\n",
    "\n",
    "<CONSTRAINTS>\n",
    "- Only returns the category name, without explanations\n",
    "</CONSTRAINTS>\n",
    "\n",
    "<EXAMPLE-1>\n",
    "User request: I am having trouble logging in\n",
    "Category: Account\n",
    "</EXAMPLE-1>\n",
    "\n",
    "<EXAMPLE-2>\n",
    "User request: I am having trouble with my payment\n",
    "Category: Billing\n",
    "</EXAMPLE-2>\n",
    "\n",
    "<EXAMPLE-3>\n",
    "User request: I am having trouble with a feature\n",
    "Category: Features\n",
    "</EXAMPLE-3>\n",
    "\"\"\"\n",
    "\n",
    "USER_PROMPT = \"\"\"User request: {user_request} \\\n",
    "Category: \"\"\"\n",
    "\n",
    "response = client.chat.completions.create(\n",
    "    model=\"meta-llama/Llama-3.3-70B-Instruct-Turbo\",\n",
    "    messages=[\n",
    "        {\n",
    "            \"role\": \"system\",\n",
    "            \"content\": SYSTEM_PROMPT,\n",
    "        },\n",
    "        {\n",
    "            \"role\": \"user\",\n",
    "            \"content\": USER_PROMPT.format(user_request=\"Tengo problemas con el email de mi cuenta\"),\n",
    "        }\n",
    "    ],\n",
    "    max_tokens=512,\n",
    "    temperature=0.7,\n",
    "    top_p=0.7,\n",
    "    top_k=50,\n",
    "    repetition_penalty=1,\n",
    "    stop=[\"<|eot_id|>\",\"<|eom_id|>\"],\n",
    ")\n",
    "\n",
    "response.choices[0].message.content\n"
   ]
  },
  {
   "cell_type": "markdown",
   "metadata": {},
   "source": [
    "# Few shot Output Format"
   ]
  },
  {
   "cell_type": "code",
   "execution_count": 21,
   "metadata": {},
   "outputs": [
    {
     "data": {
      "text/plain": [
       "'{\\n  \"category\": \"Account\"\\n}'"
      ]
     },
     "execution_count": 21,
     "metadata": {},
     "output_type": "execute_result"
    }
   ],
   "source": [
    "SYSTEM_PROMPT = \"\"\"\n",
    "<PERSONA>\n",
    "You are an expert doing user request classification\n",
    "</PERSONA>\n",
    "\n",
    "<TASK>\n",
    "You are given a user request and you need to classify it into one of the following categories:\n",
    "</TASK>\n",
    "\n",
    "\n",
    "<CATEGORIES>\n",
    "1. Account: The user is asking for help with their account\n",
    "2. Billing: The user is asking for help with billing\n",
    "3. Features: The user is asking for help with features\n",
    "4. General: The user is asking for help with something else\n",
    "</CATEGORIES>\n",
    "\n",
    "\n",
    "<EXAMPLE-1>\n",
    "User request: I am having trouble logging in\n",
    "Output: \n",
    "{\n",
    "  \"category\": \"Account\"\n",
    "}\n",
    "</EXAMPLE-1>\n",
    "\n",
    "<EXAMPLE-2>\n",
    "User request: I am having trouble with my payment\n",
    "Output:\n",
    "{\n",
    "    \"category\": \"Billing\"\n",
    "}\n",
    "</EXAMPLE-2>\n",
    "\n",
    "<EXAMPLE-3>\n",
    "User request: I am having trouble with a feature\n",
    "Output:\n",
    "{\n",
    "    \"category\": \"Features\"\n",
    "}\n",
    "</EXAMPLE-3>\n",
    "\"\"\"\n",
    "\n",
    "USER_PROMPT = \"\"\"User request: {user_request} \\\n",
    "Category: \"\"\"\n",
    "\n",
    "response = client.chat.completions.create(\n",
    "    model=\"meta-llama/Llama-3.3-70B-Instruct-Turbo\",\n",
    "    messages=[\n",
    "        {\n",
    "            \"role\": \"system\",\n",
    "            \"content\": SYSTEM_PROMPT,\n",
    "        },\n",
    "        {\n",
    "            \"role\": \"user\",\n",
    "            \"content\": USER_PROMPT.format(user_request=\"Tengo problemas con el email de mi cuenta\"),\n",
    "        }\n",
    "    ],\n",
    "    max_tokens=512,\n",
    "    temperature=0.7,\n",
    "    top_p=0.7,\n",
    "    top_k=50,\n",
    "    repetition_penalty=1,\n",
    "    stop=[\"<|eot_id|>\",\"<|eom_id|>\"],\n",
    ")\n",
    "response.choices[0].message.content\n"
   ]
  },
  {
   "cell_type": "code",
   "execution_count": 22,
   "metadata": {},
   "outputs": [
    {
     "data": {
      "text/plain": [
       "'\"category\", \"Account\"'"
      ]
     },
     "execution_count": 22,
     "metadata": {},
     "output_type": "execute_result"
    }
   ],
   "source": [
    "SYSTEM_PROMPT = \"\"\"\n",
    "<PERSONA>\n",
    "You are an expert doing user request classification\n",
    "</PERSONA>\n",
    "\n",
    "<TASK>\n",
    "You are given a user request and you need to classify it into one of the following categories:\n",
    "</TASK>\n",
    "\n",
    "\n",
    "<CATEGORIES>\n",
    "1. Account: The user is asking for help with their account\n",
    "2. Billing: The user is asking for help with billing\n",
    "3. Features: The user is asking for help with features\n",
    "4. General: The user is asking for help with something else\n",
    "</CATEGORIES>\n",
    "\n",
    "<CONSTRAINTS>\n",
    "- Returns a csv following the examples's formats without explanations\n",
    "</CONSTRAINTS>\n",
    "\n",
    "<EXAMPLE-1>\n",
    "User request: I am having trouble logging in\n",
    "Output: \n",
    "\"category\", \"Account\"\n",
    "</EXAMPLE-1>\n",
    "\n",
    "<EXAMPLE-2>\n",
    "User request: I am having trouble with my payment\n",
    "Output:\n",
    "\"category\", \"Billing\"\n",
    "</EXAMPLE-2>\n",
    "\n",
    "<EXAMPLE-3>\n",
    "User request: I am having trouble with a feature\n",
    "Output:\n",
    "\"category\", \"Features\"\n",
    "</EXAMPLE-3>\n",
    "\"\"\"\n",
    "\n",
    "USER_PROMPT = \"\"\"User request: {user_request} \\\n",
    "Category: \"\"\"\n",
    "\n",
    "response = client.chat.completions.create(\n",
    "    model=\"meta-llama/Llama-3.3-70B-Instruct-Turbo\",\n",
    "    messages=[\n",
    "        {\n",
    "            \"role\": \"system\",\n",
    "            \"content\": SYSTEM_PROMPT,\n",
    "        },\n",
    "        {\n",
    "            \"role\": \"user\",\n",
    "            \"content\": USER_PROMPT.format(user_request=\"Tengo problemas con el email de mi cuenta\"),\n",
    "        }\n",
    "    ],\n",
    "    max_tokens=512,\n",
    "    temperature=0.7,\n",
    "    top_p=0.7,\n",
    "    top_k=50,\n",
    "    repetition_penalty=1,\n",
    "    stop=[\"<|eot_id|>\",\"<|eom_id|>\"],\n",
    ")\n",
    "response.choices[0].message.content\n"
   ]
  },
  {
   "cell_type": "code",
   "execution_count": null,
   "metadata": {},
   "outputs": [
    {
     "name": "stdout",
     "output_type": "stream",
     "text": [
      "| category |\n",
      "| Account |\n"
     ]
    }
   ],
   "source": [
    "SYSTEM_PROMPT = \"\"\"\n",
    "<PERSONA>\n",
    "You are an expert doing user request classification\n",
    "</PERSONA>\n",
    "\n",
    "<TASK>\n",
    "You are given a user request and you need to classify it into one of the following categories:\n",
    "</TASK>\n",
    "\n",
    "\n",
    "<CATEGORIES>\n",
    "1. Account: The user is asking for help with their account\n",
    "2. Billing: The user is asking for help with billing\n",
    "3. Features: The user is asking for help with features\n",
    "4. General: The user is asking for help with something else\n",
    "</CATEGORIES>\n",
    "\n",
    "<CONSTRAINTS>\n",
    "- Returns a csv following the examples's formats without explanations\n",
    "</CONSTRAINTS>\n",
    "\n",
    "<EXAMPLE-1>\n",
    "User request: I am having trouble logging in\n",
    "Output: \n",
    "| category |\n",
    "| Account |\n",
    "</EXAMPLE-1>\n",
    "\n",
    "<EXAMPLE-2>\n",
    "User request: I am having trouble with my payment\n",
    "Output:\n",
    "| category |\n",
    "| Billing |\n",
    "</EXAMPLE-2>\n",
    "\n",
    "\"\"\"\n",
    "\n",
    "USER_PROMPT = \"\"\"User request: {user_request} \\\n",
    "Category: \"\"\"\n",
    "\n",
    "response = client.chat.completions.create(\n",
    "    model=\"meta-llama/Llama-3.3-70B-Instruct-Turbo\",\n",
    "    messages=[\n",
    "        {\n",
    "            \"role\": \"system\",\n",
    "            \"content\": SYSTEM_PROMPT,\n",
    "        },\n",
    "        {\n",
    "            \"role\": \"user\",\n",
    "            \"content\": USER_PROMPT.format(user_request=\"Tengo problemas con el email de mi cuenta\"),\n",
    "        }\n",
    "    ],\n",
    "    max_tokens=512,\n",
    "    temperature=0.7,\n",
    "    top_p=0.7,\n",
    "    top_k=50,\n",
    "    repetition_penalty=1,\n",
    "    stop=[\"<|eot_id|>\",\"<|eom_id|>\"],\n",
    ")\n",
    "print(response.choices[0].message.content)\n"
   ]
  }
 ],
 "metadata": {
  "kernelspec": {
   "display_name": "Python 3",
   "language": "python",
   "name": "python3"
  },
  "language_info": {
   "codemirror_mode": {
    "name": "ipython",
    "version": 3
   },
   "file_extension": ".py",
   "mimetype": "text/x-python",
   "name": "python",
   "nbconvert_exporter": "python",
   "pygments_lexer": "ipython3",
   "version": "3.10.12"
  }
 },
 "nbformat": 4,
 "nbformat_minor": 2
}
