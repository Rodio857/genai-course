{
 "cells": [
  {
   "cell_type": "markdown",
   "metadata": {},
   "source": [
    "# Load Api Key\n"
   ]
  },
  {
   "cell_type": "code",
   "execution_count": 1,
   "metadata": {},
   "outputs": [
    {
     "data": {
      "text/plain": [
       "True"
      ]
     },
     "execution_count": 1,
     "metadata": {},
     "output_type": "execute_result"
    }
   ],
   "source": [
    "from dotenv import load_dotenv\n",
    "\n",
    "load_dotenv()"
   ]
  },
  {
   "cell_type": "code",
   "execution_count": 2,
   "metadata": {},
   "outputs": [],
   "source": [
    "import os\n",
    "\n",
    "api_key = os.getenv(\"TOGETHER_API_KEY\")"
   ]
  },
  {
   "cell_type": "markdown",
   "metadata": {},
   "source": [
    "# Create a Client"
   ]
  },
  {
   "cell_type": "code",
   "execution_count": 3,
   "metadata": {},
   "outputs": [],
   "source": [
    "from together import Together\n",
    "\n",
    "client = Together(api_key=api_key)"
   ]
  },
  {
   "cell_type": "markdown",
   "metadata": {},
   "source": [
    "# Zero shot classification"
   ]
  },
  {
   "cell_type": "code",
   "execution_count": 4,
   "metadata": {},
   "outputs": [
    {
     "data": {
      "text/plain": [
       "\"**Account** \\n\\nThis request indicates a problem with accessing the user's account. \\n\""
      ]
     },
     "execution_count": 4,
     "metadata": {},
     "output_type": "execute_result"
    }
   ],
   "source": [
    "SYSTEM_PROMPT = \"\"\"You are an expert doing user request classification\n",
    "\n",
    "You are given a user request and you need to classify it into one of the following categories:\n",
    "\n",
    "1. Account: The user is asking for help with their account\n",
    "2. Billing: The user is asking for help with billing\n",
    "3. Features: The user is asking for help with features\n",
    "4. General: The user is asking for help with something else\n",
    "\n",
    "\"\"\"\n",
    "\n",
    "USER_PROMPT = \"{user_request}\"\n",
    "\n",
    "response = client.chat.completions.create(\n",
    "    model=\"google/gemma-2-27b-it\",\n",
    "    messages=[\n",
    "        {\n",
    "            \"role\": \"system\",\n",
    "            \"content\": SYSTEM_PROMPT,\n",
    "        },\n",
    "        {\n",
    "            \"role\": \"user\",\n",
    "            \"content\": USER_PROMPT.format(user_request=\"I am having trouble logging in\"),\n",
    "        }\n",
    "    ],\n",
    "    max_tokens=None,\n",
    "    temperature=0.1,\n",
    "    top_p=0.7,\n",
    "    top_k=50,\n",
    "    repetition_penalty=1,\n",
    "    stop=[\"<eos>\", \"<end_of_turn>\"],\n",
    ")\n",
    "\n",
    "response.choices[0].message.content\n"
   ]
  },
  {
   "cell_type": "markdown",
   "metadata": {},
   "source": [
    "# Few Shot Classification"
   ]
  },
  {
   "cell_type": "code",
   "execution_count": 5,
   "metadata": {},
   "outputs": [
    {
     "data": {
      "text/plain": [
       "'Account \\n'"
      ]
     },
     "execution_count": 5,
     "metadata": {},
     "output_type": "execute_result"
    }
   ],
   "source": [
    "SYSTEM_PROMPT = \"\"\"You are an expert doing user request classification\n",
    "\n",
    "You are given a user request and you need to classify it into one of the following categories:\n",
    "\n",
    "1. Account: The user is asking for help with their account\n",
    "2. Billing: The user is asking for help with billing\n",
    "3. Features: The user is asking for help with features\n",
    "4. General: The user is asking for help with something else\n",
    "\n",
    "\n",
    "<Example 1>\n",
    "User request: I am having trouble logging in\n",
    "Category: Account\n",
    "</Example 1>\n",
    "\n",
    "<Example 2>\n",
    "User request: I am having trouble with my payment\n",
    "Category: Billing\n",
    "</Example 2>\n",
    "\n",
    "<Example 3>\n",
    "User request: I am having trouble with a feature\n",
    "Category: Features\n",
    "</Example 3>\n",
    "\"\"\"\n",
    "\n",
    "USER_PROMPT = \"{user_request} Category:\"\n",
    "\n",
    "response = client.chat.completions.create(\n",
    "    model=\"google/gemma-2-27b-it\",\n",
    "    messages=[\n",
    "        {\n",
    "            \"role\": \"system\",\n",
    "            \"content\": SYSTEM_PROMPT,\n",
    "        },\n",
    "        {\n",
    "            \"role\": \"user\",\n",
    "            \"content\": USER_PROMPT.format(user_request=\"I am having trouble logging in\"),\n",
    "        }\n",
    "    ],\n",
    "    max_tokens=None,\n",
    "    temperature=0.1,\n",
    "    top_p=0.7,\n",
    "    top_k=50,\n",
    "    repetition_penalty=1,\n",
    "    stop=[\"<eos>\", \"<end_of_turn>\"],\n",
    ")\n",
    "\n",
    "response.choices[0].message.content\n"
   ]
  },
  {
   "cell_type": "markdown",
   "metadata": {},
   "source": [
    "# Few shot Output Format"
   ]
  },
  {
   "cell_type": "code",
   "execution_count": 6,
   "metadata": {},
   "outputs": [
    {
     "data": {
      "text/plain": [
       "'```json\\n{\\n  \"category\": \"Account\"\\n}\\n``` \\n'"
      ]
     },
     "execution_count": 6,
     "metadata": {},
     "output_type": "execute_result"
    }
   ],
   "source": [
    "SYSTEM_PROMPT = \"\"\"You are an expert doing user request classification\n",
    "\n",
    "You are given a user request and you need to classify it into one of the following categories:\n",
    "\n",
    "1. Account: The user is asking for help with their account\n",
    "2. Billing: The user is asking for help with billing\n",
    "3. Features: The user is asking for help with features\n",
    "4. General: The user is asking for help with something else\n",
    "\n",
    "\n",
    "<Example 1>\n",
    "User request: I am having trouble logging in\n",
    "Output: \n",
    "{\n",
    "  \"category\": \"Account\"\n",
    "}\n",
    "</Example 1>\n",
    "\n",
    "<Example 2>\n",
    "User request: I am having trouble with my payment\n",
    "Output:\n",
    "{\n",
    "    \"category\": \"Billing\"\n",
    "}\n",
    "</Example 2>\n",
    "\n",
    "<Example 3>\n",
    "User request: I am having trouble with a feature\n",
    "Output:\n",
    "{\n",
    "    \"category\": \"Features\"\n",
    "}\n",
    "</Example 3>\n",
    "\"\"\"\n",
    "\n",
    "USER_PROMPT = \"{user_request} Output:\"\n",
    "\n",
    "response = client.chat.completions.create(\n",
    "    model=\"google/gemma-2-27b-it\",\n",
    "    messages=[\n",
    "        {\n",
    "            \"role\": \"system\",\n",
    "            \"content\": SYSTEM_PROMPT,\n",
    "        },\n",
    "        {\n",
    "            \"role\": \"user\",\n",
    "            \"content\": USER_PROMPT.format(user_request=\"I am having trouble logging in\"),\n",
    "        }\n",
    "    ],\n",
    "    max_tokens=None,\n",
    "    temperature=0.1,\n",
    "    top_p=0.7,\n",
    "    top_k=50,\n",
    "    repetition_penalty=1,\n",
    "    stop=[\"<eos>\", \"<end_of_turn>\"],\n",
    ")\n",
    "\n",
    "response.choices[0].message.content\n"
   ]
  }
 ],
 "metadata": {
  "kernelspec": {
   "display_name": "Python 3",
   "language": "python",
   "name": "python3"
  },
  "language_info": {
   "codemirror_mode": {
    "name": "ipython",
    "version": 3
   },
   "file_extension": ".py",
   "mimetype": "text/x-python",
   "name": "python",
   "nbconvert_exporter": "python",
   "pygments_lexer": "ipython3",
   "version": "3.10.12"
  }
 },
 "nbformat": 4,
 "nbformat_minor": 2
}
