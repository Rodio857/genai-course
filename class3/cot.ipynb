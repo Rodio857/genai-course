{
 "cells": [
  {
   "cell_type": "markdown",
   "metadata": {},
   "source": [
    "# Load Api Key"
   ]
  },
  {
   "cell_type": "code",
   "execution_count": 2,
   "metadata": {},
   "outputs": [
    {
     "data": {
      "text/plain": [
       "True"
      ]
     },
     "execution_count": 2,
     "metadata": {},
     "output_type": "execute_result"
    }
   ],
   "source": [
    "from dotenv import load_dotenv\n",
    "\n",
    "load_dotenv()"
   ]
  },
  {
   "cell_type": "code",
   "execution_count": 3,
   "metadata": {},
   "outputs": [],
   "source": [
    "import os\n",
    "\n",
    "api_key = os.getenv(\"TOGETHER_API_KEY\")"
   ]
  },
  {
   "cell_type": "markdown",
   "metadata": {},
   "source": [
    "# Create a client"
   ]
  },
  {
   "cell_type": "code",
   "execution_count": 4,
   "metadata": {},
   "outputs": [],
   "source": [
    "from together import Together\n",
    "\n",
    "client = Together(api_key=api_key)"
   ]
  },
  {
   "cell_type": "markdown",
   "metadata": {},
   "source": [
    "# COT"
   ]
  },
  {
   "cell_type": "code",
   "execution_count": 8,
   "metadata": {},
   "outputs": [
    {
     "name": "stdout",
     "output_type": "stream",
     "text": [
      "##  The AI Revolution: How Artificial Intelligence is Changing Our World\n",
      "\n",
      "**Introduction**\n",
      "\n",
      "Artificial intelligence (AI) is no longer a futuristic fantasy; it's a rapidly evolving reality shaping our world in profound ways. From the smartphones in our pockets to the cars we drive, AI is quietly working behind the scenes, automating tasks, analyzing data, and even making decisions. This powerful technology has the potential to revolutionize industries, improve our lives, and even redefine what it means to be human.\n",
      "\n",
      "**Examples of AI in Action**\n",
      "\n",
      "The applications of AI are vast and diverse, touching nearly every aspect of modern life. Here are just a few examples:\n",
      "\n",
      "* **Personalized Recommendations:** Ever wondered how Netflix suggests movies you might like or how Amazon seems to know exactly what you want to buy? That's AI at work, analyzing your past behavior and preferences to offer tailored recommendations.\n",
      "* **Healthcare Advancements:** AI is transforming healthcare by assisting doctors in diagnosing diseases, analyzing medical images, and even developing new treatments. Imagine AI-powered robots performing surgery with precision and accuracy, or AI algorithms predicting outbreaks of infectious diseases.\n",
      "* **Smart Assistants:** Siri, Alexa, and Google Assistant are all examples of AI-powered virtual assistants that can understand our voice commands, answer questions, and even control smart home devices.\n",
      "* **Self-Driving Cars:** Autonomous vehicles rely heavily on AI to navigate roads, detect obstacles, and make driving decisions. This technology has the potential to revolutionize transportation, making it safer and more efficient.\n",
      "\n",
      "**Conclusion**\n",
      "\n",
      "The rise of AI is undoubtedly one of the most significant technological advancements of our time. While there are ethical considerations and challenges to address, the potential benefits of AI are immense. From improving healthcare and education to tackling climate change and exploring the universe, AI has the power to solve some of humanity's greatest challenges and create a brighter future for all. As AI continues to evolve, it's crucial that we engage in thoughtful discussions and responsible development to ensure that this powerful technology is used for the betterment of humanity. \n",
      "\n",
      "\n",
      "\n"
     ]
    }
   ],
   "source": [
    "SYSTEM_PROMPT = \"\"\"You are an expert blogger\n",
    "\n",
    "Follow the steps to write a blog post on a topic provided by the user:\n",
    "<Steps>\n",
    "1. Write a Introduction\n",
    "2. Put some examples\n",
    "3. Make a conclusion\n",
    "</Steps>\n",
    "\n",
    "Blog Post:\n",
    "\n",
    "\"\"\"\n",
    "\n",
    "USER_PROMPT = \"\"\"{topic}\"\"\"\n",
    "\n",
    "response = client.chat.completions.create(\n",
    "    model=\"google/gemma-2-27b-it\",\n",
    "    messages=[\n",
    "        {\n",
    "            \"role\": \"system\",\n",
    "            \"content\": SYSTEM_PROMPT,\n",
    "        },\n",
    "        {\n",
    "            \"role\": \"user\",\n",
    "            \"content\": USER_PROMPT.format(topic=\"Artificial Intelligence\"),\n",
    "        }\n",
    "    ],\n",
    "    max_tokens=None,\n",
    "    temperature=0.1,\n",
    "    top_p=0.7,\n",
    "    top_k=50,\n",
    "    repetition_penalty=1,\n",
    "    stop=[\"<eos>\", \"<end_of_turn>\"],\n",
    ")\n",
    "\n",
    "print(response.choices[0].message.content)"
   ]
  },
  {
   "cell_type": "code",
   "execution_count": 5,
   "metadata": {},
   "outputs": [
    {
     "name": "stdout",
     "output_type": "stream",
     "text": [
      "Here's how to find the derivative of the function:\n",
      "\n",
      "**Understanding the Power Rule**\n",
      "\n",
      "The most important rule we'll use is the power rule:\n",
      "\n",
      "*  The derivative of x<sup>n</sup> is nx<sup>n-1</sup>\n",
      "\n",
      "**Applying the Power Rule to Each Term**\n",
      "\n",
      "1. **x³:** The derivative is 3x<sup>3-1</sup> = 3x²\n",
      "\n",
      "2. **-5x²:** The derivative is -5 * 2x<sup>2-1</sup> = -10x\n",
      "\n",
      "3. **7x:** The derivative is 7 * 1x<sup>1-1</sup> = 7\n",
      "\n",
      "4. **-3:** The derivative of a constant is always 0.\n",
      "\n",
      "**Putting it Together**\n",
      "\n",
      "The derivative of the entire function is the sum of the derivatives of each term:\n",
      "\n",
      "f'(x) = 3x² - 10x + 7 \n",
      "\n",
      "\n",
      "Let me know if you'd like to see the derivative of another function!\n"
     ]
    }
   ],
   "source": [
    "response = client.chat.completions.create(\n",
    "    model=\"google/gemma-2-27b-it\",\n",
    "    messages=[\n",
    "        {\n",
    "            \"role\": \"user\",\n",
    "            \"content\": \"What is the derivative of f(x) = x³ - 5x² + 7x - 3?\"\n",
    "        }\n",
    "    ],\n",
    "    max_tokens=None,\n",
    "    temperature=0.1,\n",
    "    top_p=0.7,\n",
    "    top_k=50,\n",
    "    repetition_penalty=1,\n",
    "    stop=[\"<eos>\", \"<end_of_turn>\"],\n",
    ")\n",
    "\n",
    "print(response.choices[0].message.content)"
   ]
  }
 ],
 "metadata": {
  "kernelspec": {
   "display_name": "Python 3",
   "language": "python",
   "name": "python3"
  },
  "language_info": {
   "codemirror_mode": {
    "name": "ipython",
    "version": 3
   },
   "file_extension": ".py",
   "mimetype": "text/x-python",
   "name": "python",
   "nbconvert_exporter": "python",
   "pygments_lexer": "ipython3",
   "version": "3.10.12"
  }
 },
 "nbformat": 4,
 "nbformat_minor": 2
}
