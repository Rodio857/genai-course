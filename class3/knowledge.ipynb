{
 "cells": [
  {
   "cell_type": "markdown",
   "metadata": {},
   "source": [
    "# Settings"
   ]
  },
  {
   "cell_type": "code",
   "execution_count": 1,
   "metadata": {},
   "outputs": [],
   "source": [
    "from dotenv import load_dotenv\n",
    "\n",
    "load_dotenv()\n",
    "\n",
    "import os\n",
    "\n",
    "api_key = os.getenv(\"TOGETHER_API_KEY\")\n",
    "\n",
    "from together import Together\n",
    "\n",
    "client = Together(api_key=api_key)"
   ]
  },
  {
   "cell_type": "markdown",
   "metadata": {},
   "source": [
    "# Loading information"
   ]
  },
  {
   "cell_type": "code",
   "execution_count": 2,
   "metadata": {},
   "outputs": [],
   "source": [
    "with open(\"document.txt\", \"r\") as f:\n",
    "    data = f.readlines()\n"
   ]
  },
  {
   "cell_type": "code",
   "execution_count": 3,
   "metadata": {},
   "outputs": [
    {
     "data": {
      "text/plain": [
       "['Las aerolíneas suelen permitir perros y gatos en la cabina, pero deben viajar en un transportador que cumpla con las dimensiones y peso especificados por la compañía.\\n',\n",
       " 'Algunas aerolíneas restringen el transporte de mascotas en la bodega durante temporadas de calor extremo para garantizar su seguridad.\\n',\n",
       " 'Antes de volar, es obligatorio presentar la cartilla sanitaria y el certificado de salud de los perros y gatos emitido por un veterinario autorizado.\\n',\n",
       " 'Las aerolíneas suelen restringir el peso del equipaje de bodega a un máximo de 23 o 32 kilogramos por maleta, dependiendo de la tarifa comprada.\\n',\n",
       " 'Está prohibido incluir artículos peligrosos como explosivos, materiales inflamables o baterías de litio no autorizadas en el equipaje de bodega.\\n',\n",
       " 'Muchas aerolíneas limitan el número de piezas de equipaje de bodega permitidas por pasajero y aplican cargos adicionales si se excede la franquicia de equipaje.\\n',\n",
       " 'Si hay un retraso en tu vuelo, puedes dirigirte al mostrador de la aerolínea para obtener información actualizada y preguntar por posibles compensaciones o alternativas.\\n',\n",
       " 'Durante un retraso, es recomendable mantener tus dispositivos cargados para estar atento a notificaciones de cambios en el estado del vuelo y comunicarse con familiares o contactos.\\n',\n",
       " 'En caso de un retraso prolongado, podrías aprovechar para solicitar a la aerolínea vales para alimentos o incluso alojamiento, dependiendo de la duración del retraso y las políticas vigentes.']"
      ]
     },
     "execution_count": 3,
     "metadata": {},
     "output_type": "execute_result"
    }
   ],
   "source": [
    "data"
   ]
  },
  {
   "cell_type": "markdown",
   "metadata": {},
   "source": [
    "# Chroma DB"
   ]
  },
  {
   "cell_type": "code",
   "execution_count": 4,
   "metadata": {},
   "outputs": [],
   "source": [
    "import chromadb\n",
    "import uuid\n",
    "chroma_client = chromadb.Client()\n",
    "\n",
    "collection = chroma_client.create_collection(name=\"aerolinea\") # uses https://huggingface.co/optimum/all-MiniLM-L6-v2\n",
    "\n",
    "collection.add(\n",
    "    documents=data,\n",
    "    ids=[str(uuid.uuid4()) for _ in range(len(data))]\n",
    ")\n",
    "\n"
   ]
  },
  {
   "cell_type": "code",
   "execution_count": 13,
   "metadata": {},
   "outputs": [],
   "source": [
    "results = collection.query(\n",
    "    query_texts=[\"que pasa si mi vuelo se retrasa?\"],\n",
    "    n_results=3\n",
    ")\n",
    "\n"
   ]
  },
  {
   "cell_type": "code",
   "execution_count": 14,
   "metadata": {},
   "outputs": [
    {
     "data": {
      "text/plain": [
       "[['Durante un retraso, es recomendable mantener tus dispositivos cargados para estar atento a notificaciones de cambios en el estado del vuelo y comunicarse con familiares o contactos.\\n',\n",
       "  'Si hay un retraso en tu vuelo, puedes dirigirte al mostrador de la aerolínea para obtener información actualizada y preguntar por posibles compensaciones o alternativas.\\n',\n",
       "  'En caso de un retraso prolongado, podrías aprovechar para solicitar a la aerolínea vales para alimentos o incluso alojamiento, dependiendo de la duración del retraso y las políticas vigentes.']]"
      ]
     },
     "execution_count": 14,
     "metadata": {},
     "output_type": "execute_result"
    }
   ],
   "source": [
    "results[\"documents\"]"
   ]
  }
 ],
 "metadata": {
  "kernelspec": {
   "display_name": "Python 3",
   "language": "python",
   "name": "python3"
  },
  "language_info": {
   "codemirror_mode": {
    "name": "ipython",
    "version": 3
   },
   "file_extension": ".py",
   "mimetype": "text/x-python",
   "name": "python",
   "nbconvert_exporter": "python",
   "pygments_lexer": "ipython3",
   "version": "3.10.12"
  }
 },
 "nbformat": 4,
 "nbformat_minor": 2
}
