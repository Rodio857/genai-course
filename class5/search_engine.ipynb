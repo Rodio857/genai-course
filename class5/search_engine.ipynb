{
 "cells": [
  {
   "cell_type": "markdown",
   "metadata": {},
   "source": [
    "# Cómo crear embeddings con langchain"
   ]
  },
  {
   "cell_type": "code",
   "execution_count": 1,
   "metadata": {},
   "outputs": [
    {
     "data": {
      "text/plain": [
       "True"
      ]
     },
     "execution_count": 1,
     "metadata": {},
     "output_type": "execute_result"
    }
   ],
   "source": [
    "from dotenv import load_dotenv\n",
    "\n",
    "load_dotenv()"
   ]
  },
  {
   "cell_type": "code",
   "execution_count": 2,
   "metadata": {},
   "outputs": [],
   "source": [
    "from langchain_openai import OpenAIEmbeddings\n",
    "\n",
    "embeddings = OpenAIEmbeddings(model=\"text-embedding-ada-002\")\n",
    "\n"
   ]
  },
  {
   "cell_type": "markdown",
   "metadata": {},
   "source": [
    "# Qdrant"
   ]
  },
  {
   "cell_type": "code",
   "execution_count": 3,
   "metadata": {},
   "outputs": [],
   "source": [
    "from langchain_qdrant import QdrantVectorStore\n",
    "from qdrant_client import QdrantClient\n",
    "from qdrant_client.http.models import Distance, VectorParams"
   ]
  },
  {
   "cell_type": "code",
   "execution_count": 4,
   "metadata": {},
   "outputs": [],
   "source": [
    "import os\n",
    "\n",
    "url = \"https://e7f4684c-fd33-4db0-b1d3-268870ecb84d.europe-west3-0.gcp.cloud.qdrant.io:6333\"\n",
    "api_key = os.getenv(\"QDRANT_API_KEY\")"
   ]
  },
  {
   "cell_type": "code",
   "execution_count": 19,
   "metadata": {},
   "outputs": [
    {
     "data": {
      "text/plain": [
       "True"
      ]
     },
     "execution_count": 19,
     "metadata": {},
     "output_type": "execute_result"
    }
   ],
   "source": [
    "\n",
    "client = QdrantClient(\n",
    "    url=url,\n",
    "    api_key=api_key,\n",
    "    https=True,\n",
    "    timeout=300\n",
    ")\n",
    "client.create_collection(\n",
    "    collection_name=\"book-collection-3\",\n",
    "    vectors_config=VectorParams(size=1536, distance=Distance.COSINE)\n",
    ")"
   ]
  },
  {
   "cell_type": "code",
   "execution_count": 20,
   "metadata": {},
   "outputs": [],
   "source": [
    "vector_store = QdrantVectorStore(\n",
    "    client=client,\n",
    "    collection_name=\"book-collection-3\",\n",
    "    embedding=embeddings,\n",
    ")"
   ]
  },
  {
   "cell_type": "markdown",
   "metadata": {},
   "source": [
    "# Load document"
   ]
  },
  {
   "cell_type": "code",
   "execution_count": 7,
   "metadata": {},
   "outputs": [],
   "source": [
    "from langchain_community.document_loaders import PyPDFLoader\n",
    "\n",
    "loader = PyPDFLoader(\"data/fortaleza-digital.pdf\")\n",
    "pages = loader.load()\n"
   ]
  },
  {
   "cell_type": "code",
   "execution_count": 8,
   "metadata": {},
   "outputs": [],
   "source": [
    "filtered_documents = [page for page in pages if len(page.page_content) > 0]"
   ]
  },
  {
   "cell_type": "code",
   "execution_count": 12,
   "metadata": {},
   "outputs": [],
   "source": [
    "import uuid\n",
    "ids = [str(uuid.uuid4()) for _ in range(len(filtered_documents))]"
   ]
  },
  {
   "cell_type": "markdown",
   "metadata": {},
   "source": [
    "# Ingest Documents"
   ]
  },
  {
   "cell_type": "code",
   "execution_count": 13,
   "metadata": {},
   "outputs": [],
   "source": [
    "import uuid\n",
    "from langchain_core.documents import Document"
   ]
  },
  {
   "cell_type": "code",
   "execution_count": 21,
   "metadata": {},
   "outputs": [
    {
     "data": {
      "text/plain": [
       "['43232f04-2796-4e96-88b7-3814b68af282',\n",
       " 'e3b0e6b2-a102-436d-8c29-c07bdcbad97d',\n",
       " 'ed7c9ea3-b963-435f-90f9-6f0d805c2a8e',\n",
       " 'cc7e03f2-d602-4654-9e58-ee1c2cf29beb',\n",
       " '9cfb67bf-e4ff-4d63-b4fc-8ce04d75de55',\n",
       " '7f89cb61-cebd-405e-ba4d-03e85ecbd917',\n",
       " '33998ac6-beb5-4100-a32f-f8add1c439d4',\n",
       " '976a6d18-c9f4-42ab-b4b4-c09872c62ec0',\n",
       " '1d941b1e-bd23-4fcf-8deb-2d9c5d2e1ff6',\n",
       " '464a6fcf-eeda-42ab-8b6e-c4854eaee9b8',\n",
       " '6d48e848-e4e8-406b-8f6d-27817c3ca1e0',\n",
       " '74dcb98b-7e2d-40bd-88d9-9dda7656be66',\n",
       " '491adb7e-457f-4304-9a1b-5e8f4ce3eeca',\n",
       " '2fb15d14-1ccf-4cc9-9981-d79d48dcd36f',\n",
       " '7e2e21a9-3b56-46fc-b301-61cd19ceb9a4',\n",
       " '71335f72-f2d1-4578-a146-1658ae5fb1fa',\n",
       " '1c38c87e-d33a-40fa-8788-843d36b4927f',\n",
       " '241260ee-e909-4c4f-a70a-2b0715b64a1c',\n",
       " '4c1ea896-34c0-482a-be1c-b6b86b7a0c5c',\n",
       " '4b2c7f25-a82b-4fd4-8b6e-809d14b96f8a',\n",
       " '59a9f7a6-27be-42a1-a81f-a77c1b18b4ba',\n",
       " '0a23683d-84b3-475e-ad18-f4c592881998',\n",
       " '3002e2bb-8856-4eef-9b9c-399ac7e724d2',\n",
       " 'f03caf60-25af-4610-80ea-4c9a2c807241',\n",
       " '6011306d-4882-466e-a802-8e3e76c4469c',\n",
       " 'da796439-983a-40e7-8a08-4963d9e10828',\n",
       " 'e99623b8-8bd4-4249-833c-b1865f46c0a9',\n",
       " 'a2181a01-ef7f-4a96-80e3-3b1f0d6f55f8',\n",
       " '18eb8663-4e9c-4058-8a56-4262f3251c23',\n",
       " '490b79ae-2027-409f-aa8a-ee7da7cb76f5',\n",
       " '3dcb02ce-1881-40e7-bb3f-bc827dd39f22',\n",
       " '719bc163-ff91-464d-aef7-59a69a0f80b5',\n",
       " 'dbf031c4-dfb3-4c9f-8583-7fe6a2dbcdbe',\n",
       " 'd76d7471-3eaf-4617-8722-56423c7d8ca9',\n",
       " '49d4bbeb-f8c7-4c62-81c8-d49cc2da530c',\n",
       " '834e4f56-705d-4376-9588-a4830ed4116b',\n",
       " '38ab1f2b-343f-406f-b720-4d96de346cd8',\n",
       " '1f7f8fdb-5b66-4268-8573-d598b316a4a9',\n",
       " '052a1b3d-60d1-47c7-a25a-3e4258d5c489',\n",
       " 'b9f09f58-b72a-40e5-b54f-cf98417dd045',\n",
       " 'f206b430-deb0-4302-bf12-a170fdd5cb09',\n",
       " 'ddacaff0-69db-47a8-94a7-6ee911772f2b',\n",
       " '93d06a4a-22c3-4720-8737-05c6fd7bf21b',\n",
       " '3645be48-dabc-43f2-b75f-1453e47667d0',\n",
       " 'bae3045f-c078-4013-adaa-bfad70e63ff5',\n",
       " 'cb8f17a8-5115-4441-aa57-7504de2c0216',\n",
       " '15f97789-d748-4a33-ac76-06b9e0b77bb2',\n",
       " 'd90e610e-de17-41f4-a38a-7aca38d525a5',\n",
       " 'b6033fb5-62f7-41ac-a910-f25c301c65a3',\n",
       " '8fb7b7ef-43eb-4a96-84a7-adc2bd14dc93',\n",
       " '7f3de308-20b0-4e81-b0d9-7f14a0371f2f',\n",
       " '5af29846-f1b0-43cc-830d-f68846aaf893',\n",
       " 'f12b0cfc-fef2-4918-b9a2-399c4249f8fa',\n",
       " 'b96ed942-3070-4f3c-a1a2-4512e07218c7',\n",
       " '56a7e918-8ac3-4ac0-a92b-5b836bf946b0',\n",
       " '09126de5-f135-46e6-81a4-e348ffb38620',\n",
       " '8baac4b9-9f8a-4103-89b4-a31998d53f07',\n",
       " '63f9153d-38e9-4476-be1f-564bd3df9479',\n",
       " 'da6cc3bc-ddaa-4e1d-8b37-7ce630f3bc98',\n",
       " '6fde2f00-cd65-4132-93f9-8d81a8a1942c',\n",
       " '3a53939d-e13e-4c0d-954e-1643e25ad5fd',\n",
       " '11bd998d-7443-4e53-8097-2ec0a165842e',\n",
       " '7076d33f-6fba-4f35-91f0-b00421debe87',\n",
       " 'b602eb9b-9b02-4af3-a0af-65b69b32997c',\n",
       " '589f546d-6021-451c-8c28-2d490816b4d3',\n",
       " '09106376-8be4-4b3e-b358-fd58a301ac05',\n",
       " '77954596-2473-4e1e-a422-658aa1138cd1',\n",
       " 'bf582406-647d-4303-a29c-5baea51c5b34',\n",
       " '47cb878f-4a63-46d8-98d5-010e67a4844a',\n",
       " '9f391dcf-abb3-438b-82b0-7073544f47fe',\n",
       " 'a284d5a6-76d3-4c1d-9ba8-cb6afe0d7223',\n",
       " '57655f38-d6c0-4bf1-b9e6-e1f43cda0e84',\n",
       " 'c61b3c03-77c3-45c5-bfa6-897744e149da',\n",
       " 'db7e9b17-a6ac-4c1e-8030-d2f22974f036',\n",
       " '00b73bfd-0980-49c2-b3d6-1c5fa190a739',\n",
       " 'f9bf65ac-1e0b-43e4-b6b7-83e6af412093',\n",
       " '763b89e2-a8b5-49b4-ba2f-e93833c04a41',\n",
       " 'fa096bdc-3051-445f-8378-efff14244fab',\n",
       " 'c341a3ea-d918-4e8e-a3b5-8e2d0b8a2762',\n",
       " '2c560638-e813-4a50-9195-8f2a6756d556',\n",
       " '4086009e-e9cd-46cd-8071-f8b115b71805',\n",
       " 'f875014e-1bc8-43f2-ab8a-68cb4ed8cf6f',\n",
       " '777b2272-eb38-4d82-a730-e0a1caafe127',\n",
       " 'eb5bdb3e-1534-4566-97b2-424ca3a0d426',\n",
       " '87d38c66-8f65-4427-a097-0ea316a69649',\n",
       " 'c93cd311-9620-408e-acf3-06f95c9bd763',\n",
       " 'b4a885f4-6af6-4dd6-8929-e3da337db020',\n",
       " '8bee6942-5b05-433b-8703-e04347b952a5',\n",
       " '1601f650-58f2-451f-aab9-6e01c9980fb1',\n",
       " 'db67fb45-2a3b-431d-a9cd-37fd42bef95a',\n",
       " '52467da7-fb9d-4104-af2a-b8d58595f791',\n",
       " '502922a9-d01c-40cd-98f1-c6b5cc0a9165',\n",
       " '633191fb-93bf-45df-a8ad-3c01c17edf78',\n",
       " '4f0b27ea-a6a5-4384-858a-7cb103bf6a45',\n",
       " '3419005f-af18-4d14-8016-c9d58399bddc',\n",
       " 'c0b9e58c-8971-4bbc-b79e-d47daed2d558',\n",
       " '8e43474f-142d-459c-b8fc-ee5c841e26ac',\n",
       " '803b1fc4-7ce7-4cb6-a913-8aa0e483c3d4',\n",
       " '975ace06-18a4-460d-88c5-1b93590581f0',\n",
       " '705013fa-fb4c-4309-ad8e-795bf45ad2af',\n",
       " '743ef090-e8dc-443d-a920-b1cd3c28a273',\n",
       " 'a43816e6-8dc8-4654-add8-fa61f623f2de',\n",
       " 'aeb9c0a4-ad25-46b6-91c9-6c342456f497',\n",
       " 'c9595acd-98f9-45ea-8f1a-db9c4a0b9e25',\n",
       " '5a61a0b7-f128-4ee5-8798-61a247e0839a',\n",
       " '75334165-d293-471a-9cb7-1fcd6af0073e',\n",
       " 'bd31c181-e70f-4f80-a2c4-e694f856eb93',\n",
       " '5a2fef12-0914-45ca-b4db-f6c94eee1206',\n",
       " 'c1e2a96b-0a44-476a-8f47-c4e67a689f8f',\n",
       " '0d063aae-f212-46de-a005-1dba6c11fa65',\n",
       " '1224c2be-2383-4b4c-a72d-bcf2f7d80711',\n",
       " '18841a4a-cd49-4d27-bbbe-53bc468b78ad',\n",
       " '5b42494c-631d-45a4-b999-a0a41c03e6f2',\n",
       " 'b25407b1-1d3c-4394-b503-c469e2d4a53a',\n",
       " 'c0ce7b14-6728-4a43-8af5-c38ccd023d7e',\n",
       " 'd7a613e7-e957-480b-97b6-5628e7154cae',\n",
       " 'f74ea643-78e7-4ec3-a1e8-bdbcee5c8079',\n",
       " 'ecdafcce-49dc-40d4-a0cf-be0d1e154d55',\n",
       " '0caa1baa-3e8f-4c35-9ecb-728f2cc6749a',\n",
       " 'a3ee0506-ea80-4a11-91f0-85ea3ab833ba',\n",
       " 'f54349da-5088-4641-8013-955c316a55dd',\n",
       " '0b9f18f8-8414-4088-8e53-440375cfb069',\n",
       " 'ee5ef0a1-98dc-436b-9fdb-ff5c45876511',\n",
       " '916e2641-ad12-443b-a87b-e5d7e7904268',\n",
       " 'a8873ee7-ee1f-4c6f-b5e6-64669f1a7fe4',\n",
       " 'cb177f2a-fee1-47de-9ad7-59cd6fdb64b5',\n",
       " '3f954b8d-4103-41e0-9790-6c8e2817fe58',\n",
       " '6610c94a-00d0-4b0c-9f9b-519bdd44dcd4']"
      ]
     },
     "execution_count": 21,
     "metadata": {},
     "output_type": "execute_result"
    }
   ],
   "source": [
    "\n",
    "vector_store.add_documents(documents=filtered_documents[:100], ids=ids)"
   ]
  },
  {
   "cell_type": "markdown",
   "metadata": {},
   "source": [
    "# Make a search"
   ]
  },
  {
   "cell_type": "code",
   "execution_count": 22,
   "metadata": {},
   "outputs": [
    {
     "data": {
      "text/plain": [
       "[Document(metadata={'source': 'data/fortaleza-digital.pdf', 'page': 2, 'page_label': '3', '_id': 'e3b0e6b2-a102-436d-8c29-c07bdcbad97d', '_collection_name': 'book-collection-3'}, page_content='Susan Fletcher, la criptógrafa estrella de la ultrasecreta Agencia de\\nSeguridad Nacional (NSA) no puede dar crédito a sus oídos cuando su jefe,\\nel subdirector de la Agencia, le informa de que han interceptado un código\\nque ni siquiera la mayor supercomputadora conocida puede descifrar. La\\núnica pista para romper el letal código parece estar oculta en el cadáver de\\nun hombre que ha fallecido en España, donde ha sido enviado David, el\\nprometido de Susan. Mientras éste intenta hallar la clave y sobrevivir a la\\npersecución de un metódico e implacable asesino a sueldo en las calles de\\nSevilla, Susan se enfrentará a su propio drama en las instalaciones de\\nmáxima seguridad de la NSA, durante una larga noche en la que la mentira\\ny el asesinato acechan tras cada puerta.'),\n",
       " Document(metadata={'source': 'data/fortaleza-digital.pdf', 'page': 18, 'page_label': '19', '_id': '241260ee-e909-4c4f-a70a-2b0715b64a1c', '_collection_name': 'book-collection-3'}, page_content='quería, la NSA lo compraba. Susan, temblorosa de impaciencia, voló al\\naeropuerto internacional Dulles de Washington, donde la recibió un chofer de la\\nNSA, que la trasladó a Fort Meade.\\nHabía cuarenta y una personas más que habían recibido la misma llamada\\ntelefónica aquel año. Con veintiocho años, Susan era la más joven. También era\\nla única mujer. La visita resultó ser más una exhibición de relaciones públicas y\\nuna batería de tests de inteligencia que una sesión informativa. Susan y otros seis\\ncandidatos fueron invitados a regresar a la semana siguiente. Aunque vacilante,\\nvolvió. Separaron al grupo de inmediato. Fueron sometidos a tests de poligrafía\\nindividuales, investigaciones de su pasado, análisis de su caligrafía e\\ninterminables horas de entrevistas, que incluían preguntas grabadas sobre sus\\npreferencias y prácticas sexuales. Cuando el entrevistador preguntó a Susan si\\nhabía copulado con animales, estuvo a punto de tirar la toalla, pero su atracción\\npor el misterio pudo más, la perspectiva de trabajar en la vanguardia de la teoría\\nde los códigos, entrar en el «Palacio de los Enigmas» y convertirse en miembro\\ndel club más secreto del mundo: la Agencia Nacional de Seguridad.\\nBecker estaba fascinado por sus historias.\\n—¿De veras te preguntaron si habías copulado con animales?\\nSusan se encogió de hombros.\\n—Parte de la rutina de investigar los antecedentes.\\n—Bien… —Becker reprimió una sonrisa—. ¿Qué dijiste?\\nElla le dio una patada por debajo de la mesa.\\n—¡Dije que no! Y hasta anoche, era verdad.\\nA los ojos de Susan, David era el hombre perfecto. Sólo tenía una cualidad\\ndesafortunada. Cada vez que salían, insistía en pagar la cuenta. Detestaba verle\\ndejarse todo un día de sueldo en una cena para dos, pero Becker era inflexible.\\nSusan aprendió a dejar de protestar, pero no dejaba de molestarle. \\nGano más\\ndinero del que necesito\\n, pensaba. \\nYo debería pagar\\n.\\nNo obstante, Susan decidió que, aparte del anticuado sentido de la\\ncaballerosidad de David, era el hombre ideal. Era solidario, inteligente, divertido,\\ny sobre todo, estaba muy interesado en su trabajo. David exhibía una curiosidad\\ninsaciable, ya fuera en visitas al Smithsonian, paseando en bicicleta, o cuando\\nquemaba los espaguetis en la cocina de Susan. Ella contestaba a las preguntas que\\npodía y le proporcionaba una visión de conjunto de la NSA. Lo que David oía le\\nembelesaba.\\nFundada por el presidente Truman cuando pasaba un minuto de mediodía del\\n4 de noviembre de 1952, la NSA había sido la organización de inteligencia más\\nclandestina del mundo durante casi cincuenta años. Las siete páginas de\\nprincipios doctrinales de la NSA desplegaban un programa muy conciso: proteger'),\n",
       " Document(metadata={'source': 'data/fortaleza-digital.pdf', 'page': 17, 'page_label': '18', '_id': '1c38c87e-d33a-40fa-8788-843d36b4927f', '_collection_name': 'book-collection-3'}, page_content='—Sí. Tripa de gato. De la que están hechas las raquetas de squash que utilizan\\nlos campeones.\\n—Muy agradable —gruñó ella.\\n—¿Tu diagnóstico? —preguntó Becker.\\nSusan pensó un momento.\\n—Eres un fanático del squash infantiloide y sexualmente frustrado.\\nBecker se encogió de hombros.\\n—Creo que tienes razón.\\nSu idilio continuó así durante semanas. Mientras tomaban los postres en cenas\\nque se prolongaban hasta altas horas de la noche, Becker no dejaba de hacer\\npreguntas.\\n¿Dónde había estudiado matemáticas?\\n¿Cómo ingresó en la NSA?\\n¿Por qué era tan cautivadora?\\nSusan se ruborizó y admitió que sus atributos femeninos habían tomado su\\ntiempo para desarrollarse. Larguirucha y desmañada, con corrector dental al\\nfinal de la adolescencia, contó que su tía Clara le había dicho en una ocasión que\\nDios, a modo de disculpas por la falta de atractivo de Susan, le había dado una\\ngran inteligencia. Una disculpa prematura, pensó Becker.\\nSusan explicó que su interés por la criptografía había empezado en el instituto.\\nEl presidente del club de informática, un altísimo alumno de octavo llamado\\nFrank Gutmann, le había escrito a máquina un poema de amor, codificándolo con\\nun sistema de sustitución numérica. Susan le suplicó que se lo tradujera. Frank se\\nnegó, a modo de flirteo. Ella se llevó el código a casa y se pasó despierta toda la\\nnoche, con una linterna debajo de las sábanas, hasta que adivinó el secreto: cada\\nnúmero representaba una letra. Descifró con meticulosidad el código y vio\\nasombrada que los números, en apariencia fortuitos, se convertían como por arte\\nde magia en una hermosa poesía. En aquel instante, supo que se había\\nenamorado. Los códigos y la criptografía serían su vida.\\nCasi veinte años después, tras obtener el máster en matemáticas en la\\nUniversidad Johns Hopkins y estudiar teoría de números en el MIT con una beca,\\npresentó su tesis doctoral, \\nMétodos criptográficos, protocolos y algoritmos para\\naplicaciones manuales\\n. Por lo visto, su director de tesis no fue la única persona\\nque la leyó. Poco después, Susan recibió una llamada telefónica y un billete de\\navión, cortesía de la NSA.\\nTodo el mundo relacionado con la criptografía conocía la existencia de la\\nNSA. Era el hogar de las mejores mentes criptográficas del planeta. Cada\\nprimavera, cuando las firmas del sector privado se lanzaban sobre las nuevas\\nmentes más brillantes del mercado laboral, y ofrecían salarios obscenos y\\nopciones sobre acciones, la NSA vigilaba con atención, seleccionaba sus\\nobjetivos, hacía acto de aparición y doblaba la mejor oferta. Lo que la NSA'),\n",
       " Document(metadata={'source': 'data/fortaleza-digital.pdf', 'page': 58, 'page_label': '59', '_id': '63f9153d-38e9-4476-be1f-564bd3df9479', '_collection_name': 'book-collection-3'}, page_content='en mi equipo.\\nEn aquel instante, Susan comprendió por qué respetaba tanto a Trevor\\nStrathmore. Durante diez años, en las duras y en las maduras, siempre le había\\ndado ejemplo. Con firmeza. Sin vacilar. Era su dedicación lo que la asombraba,\\nla fidelidad insobornable a sus principios, su país, sus ideales. Pasara lo que\\npasara, el comandante Trevor Strathmore era un faro luminoso en un mundo de\\ndecisiones imposibles.\\n—Estás en mi equipo, ¿verdad? —preguntó.\\nSusan sonrió.\\n—Sí, señor. Al cien por cien.\\n—Bien. ¿Nos ponemos de nuevo a trabajar?')]"
      ]
     },
     "execution_count": 22,
     "metadata": {},
     "output_type": "execute_result"
    }
   ],
   "source": [
    "vector_store.similarity_search(query=\"quién es susan?\", k=4)"
   ]
  },
  {
   "cell_type": "markdown",
   "metadata": {},
   "source": [
    "# Use filters"
   ]
  },
  {
   "cell_type": "code",
   "execution_count": null,
   "metadata": {},
   "outputs": [],
   "source": [
    "from qdrant_client import models\n",
    "\n",
    "results = vector_store.similarity_search(\n",
    "    query=\"programming\",\n",
    "    k=1,\n",
    "    filter=models.Filter(\n",
    "        must=[\n",
    "            models.FieldCondition(\n",
    "                key=\"metadata.theme\",\n",
    "                match=models.MatchValue(\n",
    "                    value=\"software\"\n",
    "                ),\n",
    "            ),\n",
    "        ]\n",
    "    ),\n",
    ")\n",
    "for doc in results:\n",
    "    print(f\"* {doc.page_content} [{doc.metadata}]\")"
   ]
  },
  {
   "cell_type": "code",
   "execution_count": null,
   "metadata": {},
   "outputs": [],
   "source": []
  }
 ],
 "metadata": {
  "kernelspec": {
   "display_name": ".venv",
   "language": "python",
   "name": "python3"
  },
  "language_info": {
   "codemirror_mode": {
    "name": "ipython",
    "version": 3
   },
   "file_extension": ".py",
   "mimetype": "text/x-python",
   "name": "python",
   "nbconvert_exporter": "python",
   "pygments_lexer": "ipython3",
   "version": "3.10.12"
  }
 },
 "nbformat": 4,
 "nbformat_minor": 2
}
